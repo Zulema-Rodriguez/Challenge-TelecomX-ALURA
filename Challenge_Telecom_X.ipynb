{
  "nbformat": 4,
  "nbformat_minor": 0,
  "metadata": {
    "colab": {
      "provenance": [],
      "authorship_tag": "ABX9TyOGaSnaSiUAGYVQ7AgfDoDs",
      "include_colab_link": true
    },
    "kernelspec": {
      "name": "python3",
      "display_name": "Python 3"
    },
    "language_info": {
      "name": "python"
    }
  },
  "cells": [
    {
      "cell_type": "markdown",
      "metadata": {
        "id": "view-in-github",
        "colab_type": "text"
      },
      "source": [
        "<a href=\"https://colab.research.google.com/github/Zulema-Rodriguez/Challenge-TelecomX-ALURA/blob/main/Challenge_Telecom_X.ipynb\" target=\"_parent\"><img src=\"https://colab.research.google.com/assets/colab-badge.svg\" alt=\"Open In Colab\"/></a>"
      ]
    },
    {
      "cell_type": "code",
      "execution_count": 99,
      "metadata": {
        "id": "WpnCO7hBiv35"
      },
      "outputs": [],
      "source": [
        "import pandas as pd\n",
        "import requests"
      ]
    },
    {
      "cell_type": "code",
      "source": [
        "url = \"https://raw.githubusercontent.com/ingridcristh/challenge2-data-science-LATAM/main/TelecomX_Data.json\"\n",
        "response = requests.get(url)\n",
        "data = response.json()"
      ],
      "metadata": {
        "id": "cS6RUv7CzPGC"
      },
      "execution_count": 100,
      "outputs": []
    },
    {
      "cell_type": "code",
      "source": [
        "df = pd.DataFrame(data)"
      ],
      "metadata": {
        "id": "Jr971C-64DeT"
      },
      "execution_count": 101,
      "outputs": []
    },
    {
      "cell_type": "code",
      "source": [
        "df.head()"
      ],
      "metadata": {
        "colab": {
          "base_uri": "https://localhost:8080/",
          "height": 206
        },
        "id": "-q2navf_4UCv",
        "outputId": "ff3429aa-cda1-4b81-b46f-f79deca3d1f5"
      },
      "execution_count": 102,
      "outputs": [
        {
          "output_type": "execute_result",
          "data": {
            "text/plain": [
              "   customerID Churn                                           customer  \\\n",
              "0  0002-ORFBO    No  {'gender': 'Female', 'SeniorCitizen': 0, 'Part...   \n",
              "1  0003-MKNFE    No  {'gender': 'Male', 'SeniorCitizen': 0, 'Partne...   \n",
              "2  0004-TLHLJ   Yes  {'gender': 'Male', 'SeniorCitizen': 0, 'Partne...   \n",
              "3  0011-IGKFF   Yes  {'gender': 'Male', 'SeniorCitizen': 1, 'Partne...   \n",
              "4  0013-EXCHZ   Yes  {'gender': 'Female', 'SeniorCitizen': 1, 'Part...   \n",
              "\n",
              "                                             phone  \\\n",
              "0   {'PhoneService': 'Yes', 'MultipleLines': 'No'}   \n",
              "1  {'PhoneService': 'Yes', 'MultipleLines': 'Yes'}   \n",
              "2   {'PhoneService': 'Yes', 'MultipleLines': 'No'}   \n",
              "3   {'PhoneService': 'Yes', 'MultipleLines': 'No'}   \n",
              "4   {'PhoneService': 'Yes', 'MultipleLines': 'No'}   \n",
              "\n",
              "                                            internet  \\\n",
              "0  {'InternetService': 'DSL', 'OnlineSecurity': '...   \n",
              "1  {'InternetService': 'DSL', 'OnlineSecurity': '...   \n",
              "2  {'InternetService': 'Fiber optic', 'OnlineSecu...   \n",
              "3  {'InternetService': 'Fiber optic', 'OnlineSecu...   \n",
              "4  {'InternetService': 'Fiber optic', 'OnlineSecu...   \n",
              "\n",
              "                                             account  \n",
              "0  {'Contract': 'One year', 'PaperlessBilling': '...  \n",
              "1  {'Contract': 'Month-to-month', 'PaperlessBilli...  \n",
              "2  {'Contract': 'Month-to-month', 'PaperlessBilli...  \n",
              "3  {'Contract': 'Month-to-month', 'PaperlessBilli...  \n",
              "4  {'Contract': 'Month-to-month', 'PaperlessBilli...  "
            ],
            "text/html": [
              "\n",
              "  <div id=\"df-f9a7d430-00b7-426c-a050-5d371a8396a6\" class=\"colab-df-container\">\n",
              "    <div>\n",
              "<style scoped>\n",
              "    .dataframe tbody tr th:only-of-type {\n",
              "        vertical-align: middle;\n",
              "    }\n",
              "\n",
              "    .dataframe tbody tr th {\n",
              "        vertical-align: top;\n",
              "    }\n",
              "\n",
              "    .dataframe thead th {\n",
              "        text-align: right;\n",
              "    }\n",
              "</style>\n",
              "<table border=\"1\" class=\"dataframe\">\n",
              "  <thead>\n",
              "    <tr style=\"text-align: right;\">\n",
              "      <th></th>\n",
              "      <th>customerID</th>\n",
              "      <th>Churn</th>\n",
              "      <th>customer</th>\n",
              "      <th>phone</th>\n",
              "      <th>internet</th>\n",
              "      <th>account</th>\n",
              "    </tr>\n",
              "  </thead>\n",
              "  <tbody>\n",
              "    <tr>\n",
              "      <th>0</th>\n",
              "      <td>0002-ORFBO</td>\n",
              "      <td>No</td>\n",
              "      <td>{'gender': 'Female', 'SeniorCitizen': 0, 'Part...</td>\n",
              "      <td>{'PhoneService': 'Yes', 'MultipleLines': 'No'}</td>\n",
              "      <td>{'InternetService': 'DSL', 'OnlineSecurity': '...</td>\n",
              "      <td>{'Contract': 'One year', 'PaperlessBilling': '...</td>\n",
              "    </tr>\n",
              "    <tr>\n",
              "      <th>1</th>\n",
              "      <td>0003-MKNFE</td>\n",
              "      <td>No</td>\n",
              "      <td>{'gender': 'Male', 'SeniorCitizen': 0, 'Partne...</td>\n",
              "      <td>{'PhoneService': 'Yes', 'MultipleLines': 'Yes'}</td>\n",
              "      <td>{'InternetService': 'DSL', 'OnlineSecurity': '...</td>\n",
              "      <td>{'Contract': 'Month-to-month', 'PaperlessBilli...</td>\n",
              "    </tr>\n",
              "    <tr>\n",
              "      <th>2</th>\n",
              "      <td>0004-TLHLJ</td>\n",
              "      <td>Yes</td>\n",
              "      <td>{'gender': 'Male', 'SeniorCitizen': 0, 'Partne...</td>\n",
              "      <td>{'PhoneService': 'Yes', 'MultipleLines': 'No'}</td>\n",
              "      <td>{'InternetService': 'Fiber optic', 'OnlineSecu...</td>\n",
              "      <td>{'Contract': 'Month-to-month', 'PaperlessBilli...</td>\n",
              "    </tr>\n",
              "    <tr>\n",
              "      <th>3</th>\n",
              "      <td>0011-IGKFF</td>\n",
              "      <td>Yes</td>\n",
              "      <td>{'gender': 'Male', 'SeniorCitizen': 1, 'Partne...</td>\n",
              "      <td>{'PhoneService': 'Yes', 'MultipleLines': 'No'}</td>\n",
              "      <td>{'InternetService': 'Fiber optic', 'OnlineSecu...</td>\n",
              "      <td>{'Contract': 'Month-to-month', 'PaperlessBilli...</td>\n",
              "    </tr>\n",
              "    <tr>\n",
              "      <th>4</th>\n",
              "      <td>0013-EXCHZ</td>\n",
              "      <td>Yes</td>\n",
              "      <td>{'gender': 'Female', 'SeniorCitizen': 1, 'Part...</td>\n",
              "      <td>{'PhoneService': 'Yes', 'MultipleLines': 'No'}</td>\n",
              "      <td>{'InternetService': 'Fiber optic', 'OnlineSecu...</td>\n",
              "      <td>{'Contract': 'Month-to-month', 'PaperlessBilli...</td>\n",
              "    </tr>\n",
              "  </tbody>\n",
              "</table>\n",
              "</div>\n",
              "    <div class=\"colab-df-buttons\">\n",
              "\n",
              "  <div class=\"colab-df-container\">\n",
              "    <button class=\"colab-df-convert\" onclick=\"convertToInteractive('df-f9a7d430-00b7-426c-a050-5d371a8396a6')\"\n",
              "            title=\"Convert this dataframe to an interactive table.\"\n",
              "            style=\"display:none;\">\n",
              "\n",
              "  <svg xmlns=\"http://www.w3.org/2000/svg\" height=\"24px\" viewBox=\"0 -960 960 960\">\n",
              "    <path d=\"M120-120v-720h720v720H120Zm60-500h600v-160H180v160Zm220 220h160v-160H400v160Zm0 220h160v-160H400v160ZM180-400h160v-160H180v160Zm440 0h160v-160H620v160ZM180-180h160v-160H180v160Zm440 0h160v-160H620v160Z\"/>\n",
              "  </svg>\n",
              "    </button>\n",
              "\n",
              "  <style>\n",
              "    .colab-df-container {\n",
              "      display:flex;\n",
              "      gap: 12px;\n",
              "    }\n",
              "\n",
              "    .colab-df-convert {\n",
              "      background-color: #E8F0FE;\n",
              "      border: none;\n",
              "      border-radius: 50%;\n",
              "      cursor: pointer;\n",
              "      display: none;\n",
              "      fill: #1967D2;\n",
              "      height: 32px;\n",
              "      padding: 0 0 0 0;\n",
              "      width: 32px;\n",
              "    }\n",
              "\n",
              "    .colab-df-convert:hover {\n",
              "      background-color: #E2EBFA;\n",
              "      box-shadow: 0px 1px 2px rgba(60, 64, 67, 0.3), 0px 1px 3px 1px rgba(60, 64, 67, 0.15);\n",
              "      fill: #174EA6;\n",
              "    }\n",
              "\n",
              "    .colab-df-buttons div {\n",
              "      margin-bottom: 4px;\n",
              "    }\n",
              "\n",
              "    [theme=dark] .colab-df-convert {\n",
              "      background-color: #3B4455;\n",
              "      fill: #D2E3FC;\n",
              "    }\n",
              "\n",
              "    [theme=dark] .colab-df-convert:hover {\n",
              "      background-color: #434B5C;\n",
              "      box-shadow: 0px 1px 3px 1px rgba(0, 0, 0, 0.15);\n",
              "      filter: drop-shadow(0px 1px 2px rgba(0, 0, 0, 0.3));\n",
              "      fill: #FFFFFF;\n",
              "    }\n",
              "  </style>\n",
              "\n",
              "    <script>\n",
              "      const buttonEl =\n",
              "        document.querySelector('#df-f9a7d430-00b7-426c-a050-5d371a8396a6 button.colab-df-convert');\n",
              "      buttonEl.style.display =\n",
              "        google.colab.kernel.accessAllowed ? 'block' : 'none';\n",
              "\n",
              "      async function convertToInteractive(key) {\n",
              "        const element = document.querySelector('#df-f9a7d430-00b7-426c-a050-5d371a8396a6');\n",
              "        const dataTable =\n",
              "          await google.colab.kernel.invokeFunction('convertToInteractive',\n",
              "                                                    [key], {});\n",
              "        if (!dataTable) return;\n",
              "\n",
              "        const docLinkHtml = 'Like what you see? Visit the ' +\n",
              "          '<a target=\"_blank\" href=https://colab.research.google.com/notebooks/data_table.ipynb>data table notebook</a>'\n",
              "          + ' to learn more about interactive tables.';\n",
              "        element.innerHTML = '';\n",
              "        dataTable['output_type'] = 'display_data';\n",
              "        await google.colab.output.renderOutput(dataTable, element);\n",
              "        const docLink = document.createElement('div');\n",
              "        docLink.innerHTML = docLinkHtml;\n",
              "        element.appendChild(docLink);\n",
              "      }\n",
              "    </script>\n",
              "  </div>\n",
              "\n",
              "\n",
              "    <div id=\"df-ec3d6e91-4b98-4824-b76a-e8ed0ca0fb36\">\n",
              "      <button class=\"colab-df-quickchart\" onclick=\"quickchart('df-ec3d6e91-4b98-4824-b76a-e8ed0ca0fb36')\"\n",
              "                title=\"Suggest charts\"\n",
              "                style=\"display:none;\">\n",
              "\n",
              "<svg xmlns=\"http://www.w3.org/2000/svg\" height=\"24px\"viewBox=\"0 0 24 24\"\n",
              "     width=\"24px\">\n",
              "    <g>\n",
              "        <path d=\"M19 3H5c-1.1 0-2 .9-2 2v14c0 1.1.9 2 2 2h14c1.1 0 2-.9 2-2V5c0-1.1-.9-2-2-2zM9 17H7v-7h2v7zm4 0h-2V7h2v10zm4 0h-2v-4h2v4z\"/>\n",
              "    </g>\n",
              "</svg>\n",
              "      </button>\n",
              "\n",
              "<style>\n",
              "  .colab-df-quickchart {\n",
              "      --bg-color: #E8F0FE;\n",
              "      --fill-color: #1967D2;\n",
              "      --hover-bg-color: #E2EBFA;\n",
              "      --hover-fill-color: #174EA6;\n",
              "      --disabled-fill-color: #AAA;\n",
              "      --disabled-bg-color: #DDD;\n",
              "  }\n",
              "\n",
              "  [theme=dark] .colab-df-quickchart {\n",
              "      --bg-color: #3B4455;\n",
              "      --fill-color: #D2E3FC;\n",
              "      --hover-bg-color: #434B5C;\n",
              "      --hover-fill-color: #FFFFFF;\n",
              "      --disabled-bg-color: #3B4455;\n",
              "      --disabled-fill-color: #666;\n",
              "  }\n",
              "\n",
              "  .colab-df-quickchart {\n",
              "    background-color: var(--bg-color);\n",
              "    border: none;\n",
              "    border-radius: 50%;\n",
              "    cursor: pointer;\n",
              "    display: none;\n",
              "    fill: var(--fill-color);\n",
              "    height: 32px;\n",
              "    padding: 0;\n",
              "    width: 32px;\n",
              "  }\n",
              "\n",
              "  .colab-df-quickchart:hover {\n",
              "    background-color: var(--hover-bg-color);\n",
              "    box-shadow: 0 1px 2px rgba(60, 64, 67, 0.3), 0 1px 3px 1px rgba(60, 64, 67, 0.15);\n",
              "    fill: var(--button-hover-fill-color);\n",
              "  }\n",
              "\n",
              "  .colab-df-quickchart-complete:disabled,\n",
              "  .colab-df-quickchart-complete:disabled:hover {\n",
              "    background-color: var(--disabled-bg-color);\n",
              "    fill: var(--disabled-fill-color);\n",
              "    box-shadow: none;\n",
              "  }\n",
              "\n",
              "  .colab-df-spinner {\n",
              "    border: 2px solid var(--fill-color);\n",
              "    border-color: transparent;\n",
              "    border-bottom-color: var(--fill-color);\n",
              "    animation:\n",
              "      spin 1s steps(1) infinite;\n",
              "  }\n",
              "\n",
              "  @keyframes spin {\n",
              "    0% {\n",
              "      border-color: transparent;\n",
              "      border-bottom-color: var(--fill-color);\n",
              "      border-left-color: var(--fill-color);\n",
              "    }\n",
              "    20% {\n",
              "      border-color: transparent;\n",
              "      border-left-color: var(--fill-color);\n",
              "      border-top-color: var(--fill-color);\n",
              "    }\n",
              "    30% {\n",
              "      border-color: transparent;\n",
              "      border-left-color: var(--fill-color);\n",
              "      border-top-color: var(--fill-color);\n",
              "      border-right-color: var(--fill-color);\n",
              "    }\n",
              "    40% {\n",
              "      border-color: transparent;\n",
              "      border-right-color: var(--fill-color);\n",
              "      border-top-color: var(--fill-color);\n",
              "    }\n",
              "    60% {\n",
              "      border-color: transparent;\n",
              "      border-right-color: var(--fill-color);\n",
              "    }\n",
              "    80% {\n",
              "      border-color: transparent;\n",
              "      border-right-color: var(--fill-color);\n",
              "      border-bottom-color: var(--fill-color);\n",
              "    }\n",
              "    90% {\n",
              "      border-color: transparent;\n",
              "      border-bottom-color: var(--fill-color);\n",
              "    }\n",
              "  }\n",
              "</style>\n",
              "\n",
              "      <script>\n",
              "        async function quickchart(key) {\n",
              "          const quickchartButtonEl =\n",
              "            document.querySelector('#' + key + ' button');\n",
              "          quickchartButtonEl.disabled = true;  // To prevent multiple clicks.\n",
              "          quickchartButtonEl.classList.add('colab-df-spinner');\n",
              "          try {\n",
              "            const charts = await google.colab.kernel.invokeFunction(\n",
              "                'suggestCharts', [key], {});\n",
              "          } catch (error) {\n",
              "            console.error('Error during call to suggestCharts:', error);\n",
              "          }\n",
              "          quickchartButtonEl.classList.remove('colab-df-spinner');\n",
              "          quickchartButtonEl.classList.add('colab-df-quickchart-complete');\n",
              "        }\n",
              "        (() => {\n",
              "          let quickchartButtonEl =\n",
              "            document.querySelector('#df-ec3d6e91-4b98-4824-b76a-e8ed0ca0fb36 button');\n",
              "          quickchartButtonEl.style.display =\n",
              "            google.colab.kernel.accessAllowed ? 'block' : 'none';\n",
              "        })();\n",
              "      </script>\n",
              "    </div>\n",
              "\n",
              "    </div>\n",
              "  </div>\n"
            ],
            "application/vnd.google.colaboratory.intrinsic+json": {
              "type": "dataframe",
              "variable_name": "df",
              "summary": "{\n  \"name\": \"df\",\n  \"rows\": 7267,\n  \"fields\": [\n    {\n      \"column\": \"customerID\",\n      \"properties\": {\n        \"dtype\": \"string\",\n        \"num_unique_values\": 7267,\n        \"samples\": [\n          \"2038-OEQZH\",\n          \"6322-HRPFA\",\n          \"3969-JQABI\"\n        ],\n        \"semantic_type\": \"\",\n        \"description\": \"\"\n      }\n    },\n    {\n      \"column\": \"Churn\",\n      \"properties\": {\n        \"dtype\": \"category\",\n        \"num_unique_values\": 3,\n        \"samples\": [\n          \"No\",\n          \"Yes\",\n          \"\"\n        ],\n        \"semantic_type\": \"\",\n        \"description\": \"\"\n      }\n    },\n    {\n      \"column\": \"customer\",\n      \"properties\": {\n        \"dtype\": \"object\",\n        \"semantic_type\": \"\",\n        \"description\": \"\"\n      }\n    },\n    {\n      \"column\": \"phone\",\n      \"properties\": {\n        \"dtype\": \"object\",\n        \"semantic_type\": \"\",\n        \"description\": \"\"\n      }\n    },\n    {\n      \"column\": \"internet\",\n      \"properties\": {\n        \"dtype\": \"object\",\n        \"semantic_type\": \"\",\n        \"description\": \"\"\n      }\n    },\n    {\n      \"column\": \"account\",\n      \"properties\": {\n        \"dtype\": \"object\",\n        \"semantic_type\": \"\",\n        \"description\": \"\"\n      }\n    }\n  ]\n}"
            }
          },
          "metadata": {},
          "execution_count": 102
        }
      ]
    },
    {
      "cell_type": "code",
      "source": [
        "df = df.rename(columns={\n",
        "    'customerID': 'ID_cliente',\n",
        "    'churn': 'cancelación',\n",
        "    'customer': 'cliente',\n",
        "    'phone': 'teléfono',\n",
        "    'internet': 'internet',\n",
        "    'account': 'cuenta'\n",
        "})"
      ],
      "metadata": {
        "id": "UfHSECtK5HtY"
      },
      "execution_count": 103,
      "outputs": []
    },
    {
      "cell_type": "code",
      "source": [
        "df.head()"
      ],
      "metadata": {
        "colab": {
          "base_uri": "https://localhost:8080/",
          "height": 206
        },
        "id": "zLxbw7Y15WDk",
        "outputId": "0eea7f63-1bd5-467d-8f93-aae1e23f92ce"
      },
      "execution_count": 104,
      "outputs": [
        {
          "output_type": "execute_result",
          "data": {
            "text/plain": [
              "   ID_cliente Churn                                            cliente  \\\n",
              "0  0002-ORFBO    No  {'gender': 'Female', 'SeniorCitizen': 0, 'Part...   \n",
              "1  0003-MKNFE    No  {'gender': 'Male', 'SeniorCitizen': 0, 'Partne...   \n",
              "2  0004-TLHLJ   Yes  {'gender': 'Male', 'SeniorCitizen': 0, 'Partne...   \n",
              "3  0011-IGKFF   Yes  {'gender': 'Male', 'SeniorCitizen': 1, 'Partne...   \n",
              "4  0013-EXCHZ   Yes  {'gender': 'Female', 'SeniorCitizen': 1, 'Part...   \n",
              "\n",
              "                                          teléfono  \\\n",
              "0   {'PhoneService': 'Yes', 'MultipleLines': 'No'}   \n",
              "1  {'PhoneService': 'Yes', 'MultipleLines': 'Yes'}   \n",
              "2   {'PhoneService': 'Yes', 'MultipleLines': 'No'}   \n",
              "3   {'PhoneService': 'Yes', 'MultipleLines': 'No'}   \n",
              "4   {'PhoneService': 'Yes', 'MultipleLines': 'No'}   \n",
              "\n",
              "                                            internet  \\\n",
              "0  {'InternetService': 'DSL', 'OnlineSecurity': '...   \n",
              "1  {'InternetService': 'DSL', 'OnlineSecurity': '...   \n",
              "2  {'InternetService': 'Fiber optic', 'OnlineSecu...   \n",
              "3  {'InternetService': 'Fiber optic', 'OnlineSecu...   \n",
              "4  {'InternetService': 'Fiber optic', 'OnlineSecu...   \n",
              "\n",
              "                                              cuenta  \n",
              "0  {'Contract': 'One year', 'PaperlessBilling': '...  \n",
              "1  {'Contract': 'Month-to-month', 'PaperlessBilli...  \n",
              "2  {'Contract': 'Month-to-month', 'PaperlessBilli...  \n",
              "3  {'Contract': 'Month-to-month', 'PaperlessBilli...  \n",
              "4  {'Contract': 'Month-to-month', 'PaperlessBilli...  "
            ],
            "text/html": [
              "\n",
              "  <div id=\"df-9377b008-bf60-4747-ae30-6d1642ca3257\" class=\"colab-df-container\">\n",
              "    <div>\n",
              "<style scoped>\n",
              "    .dataframe tbody tr th:only-of-type {\n",
              "        vertical-align: middle;\n",
              "    }\n",
              "\n",
              "    .dataframe tbody tr th {\n",
              "        vertical-align: top;\n",
              "    }\n",
              "\n",
              "    .dataframe thead th {\n",
              "        text-align: right;\n",
              "    }\n",
              "</style>\n",
              "<table border=\"1\" class=\"dataframe\">\n",
              "  <thead>\n",
              "    <tr style=\"text-align: right;\">\n",
              "      <th></th>\n",
              "      <th>ID_cliente</th>\n",
              "      <th>Churn</th>\n",
              "      <th>cliente</th>\n",
              "      <th>teléfono</th>\n",
              "      <th>internet</th>\n",
              "      <th>cuenta</th>\n",
              "    </tr>\n",
              "  </thead>\n",
              "  <tbody>\n",
              "    <tr>\n",
              "      <th>0</th>\n",
              "      <td>0002-ORFBO</td>\n",
              "      <td>No</td>\n",
              "      <td>{'gender': 'Female', 'SeniorCitizen': 0, 'Part...</td>\n",
              "      <td>{'PhoneService': 'Yes', 'MultipleLines': 'No'}</td>\n",
              "      <td>{'InternetService': 'DSL', 'OnlineSecurity': '...</td>\n",
              "      <td>{'Contract': 'One year', 'PaperlessBilling': '...</td>\n",
              "    </tr>\n",
              "    <tr>\n",
              "      <th>1</th>\n",
              "      <td>0003-MKNFE</td>\n",
              "      <td>No</td>\n",
              "      <td>{'gender': 'Male', 'SeniorCitizen': 0, 'Partne...</td>\n",
              "      <td>{'PhoneService': 'Yes', 'MultipleLines': 'Yes'}</td>\n",
              "      <td>{'InternetService': 'DSL', 'OnlineSecurity': '...</td>\n",
              "      <td>{'Contract': 'Month-to-month', 'PaperlessBilli...</td>\n",
              "    </tr>\n",
              "    <tr>\n",
              "      <th>2</th>\n",
              "      <td>0004-TLHLJ</td>\n",
              "      <td>Yes</td>\n",
              "      <td>{'gender': 'Male', 'SeniorCitizen': 0, 'Partne...</td>\n",
              "      <td>{'PhoneService': 'Yes', 'MultipleLines': 'No'}</td>\n",
              "      <td>{'InternetService': 'Fiber optic', 'OnlineSecu...</td>\n",
              "      <td>{'Contract': 'Month-to-month', 'PaperlessBilli...</td>\n",
              "    </tr>\n",
              "    <tr>\n",
              "      <th>3</th>\n",
              "      <td>0011-IGKFF</td>\n",
              "      <td>Yes</td>\n",
              "      <td>{'gender': 'Male', 'SeniorCitizen': 1, 'Partne...</td>\n",
              "      <td>{'PhoneService': 'Yes', 'MultipleLines': 'No'}</td>\n",
              "      <td>{'InternetService': 'Fiber optic', 'OnlineSecu...</td>\n",
              "      <td>{'Contract': 'Month-to-month', 'PaperlessBilli...</td>\n",
              "    </tr>\n",
              "    <tr>\n",
              "      <th>4</th>\n",
              "      <td>0013-EXCHZ</td>\n",
              "      <td>Yes</td>\n",
              "      <td>{'gender': 'Female', 'SeniorCitizen': 1, 'Part...</td>\n",
              "      <td>{'PhoneService': 'Yes', 'MultipleLines': 'No'}</td>\n",
              "      <td>{'InternetService': 'Fiber optic', 'OnlineSecu...</td>\n",
              "      <td>{'Contract': 'Month-to-month', 'PaperlessBilli...</td>\n",
              "    </tr>\n",
              "  </tbody>\n",
              "</table>\n",
              "</div>\n",
              "    <div class=\"colab-df-buttons\">\n",
              "\n",
              "  <div class=\"colab-df-container\">\n",
              "    <button class=\"colab-df-convert\" onclick=\"convertToInteractive('df-9377b008-bf60-4747-ae30-6d1642ca3257')\"\n",
              "            title=\"Convert this dataframe to an interactive table.\"\n",
              "            style=\"display:none;\">\n",
              "\n",
              "  <svg xmlns=\"http://www.w3.org/2000/svg\" height=\"24px\" viewBox=\"0 -960 960 960\">\n",
              "    <path d=\"M120-120v-720h720v720H120Zm60-500h600v-160H180v160Zm220 220h160v-160H400v160Zm0 220h160v-160H400v160ZM180-400h160v-160H180v160Zm440 0h160v-160H620v160ZM180-180h160v-160H180v160Zm440 0h160v-160H620v160Z\"/>\n",
              "  </svg>\n",
              "    </button>\n",
              "\n",
              "  <style>\n",
              "    .colab-df-container {\n",
              "      display:flex;\n",
              "      gap: 12px;\n",
              "    }\n",
              "\n",
              "    .colab-df-convert {\n",
              "      background-color: #E8F0FE;\n",
              "      border: none;\n",
              "      border-radius: 50%;\n",
              "      cursor: pointer;\n",
              "      display: none;\n",
              "      fill: #1967D2;\n",
              "      height: 32px;\n",
              "      padding: 0 0 0 0;\n",
              "      width: 32px;\n",
              "    }\n",
              "\n",
              "    .colab-df-convert:hover {\n",
              "      background-color: #E2EBFA;\n",
              "      box-shadow: 0px 1px 2px rgba(60, 64, 67, 0.3), 0px 1px 3px 1px rgba(60, 64, 67, 0.15);\n",
              "      fill: #174EA6;\n",
              "    }\n",
              "\n",
              "    .colab-df-buttons div {\n",
              "      margin-bottom: 4px;\n",
              "    }\n",
              "\n",
              "    [theme=dark] .colab-df-convert {\n",
              "      background-color: #3B4455;\n",
              "      fill: #D2E3FC;\n",
              "    }\n",
              "\n",
              "    [theme=dark] .colab-df-convert:hover {\n",
              "      background-color: #434B5C;\n",
              "      box-shadow: 0px 1px 3px 1px rgba(0, 0, 0, 0.15);\n",
              "      filter: drop-shadow(0px 1px 2px rgba(0, 0, 0, 0.3));\n",
              "      fill: #FFFFFF;\n",
              "    }\n",
              "  </style>\n",
              "\n",
              "    <script>\n",
              "      const buttonEl =\n",
              "        document.querySelector('#df-9377b008-bf60-4747-ae30-6d1642ca3257 button.colab-df-convert');\n",
              "      buttonEl.style.display =\n",
              "        google.colab.kernel.accessAllowed ? 'block' : 'none';\n",
              "\n",
              "      async function convertToInteractive(key) {\n",
              "        const element = document.querySelector('#df-9377b008-bf60-4747-ae30-6d1642ca3257');\n",
              "        const dataTable =\n",
              "          await google.colab.kernel.invokeFunction('convertToInteractive',\n",
              "                                                    [key], {});\n",
              "        if (!dataTable) return;\n",
              "\n",
              "        const docLinkHtml = 'Like what you see? Visit the ' +\n",
              "          '<a target=\"_blank\" href=https://colab.research.google.com/notebooks/data_table.ipynb>data table notebook</a>'\n",
              "          + ' to learn more about interactive tables.';\n",
              "        element.innerHTML = '';\n",
              "        dataTable['output_type'] = 'display_data';\n",
              "        await google.colab.output.renderOutput(dataTable, element);\n",
              "        const docLink = document.createElement('div');\n",
              "        docLink.innerHTML = docLinkHtml;\n",
              "        element.appendChild(docLink);\n",
              "      }\n",
              "    </script>\n",
              "  </div>\n",
              "\n",
              "\n",
              "    <div id=\"df-5fda3c45-3177-4c8d-9256-91dc7e449667\">\n",
              "      <button class=\"colab-df-quickchart\" onclick=\"quickchart('df-5fda3c45-3177-4c8d-9256-91dc7e449667')\"\n",
              "                title=\"Suggest charts\"\n",
              "                style=\"display:none;\">\n",
              "\n",
              "<svg xmlns=\"http://www.w3.org/2000/svg\" height=\"24px\"viewBox=\"0 0 24 24\"\n",
              "     width=\"24px\">\n",
              "    <g>\n",
              "        <path d=\"M19 3H5c-1.1 0-2 .9-2 2v14c0 1.1.9 2 2 2h14c1.1 0 2-.9 2-2V5c0-1.1-.9-2-2-2zM9 17H7v-7h2v7zm4 0h-2V7h2v10zm4 0h-2v-4h2v4z\"/>\n",
              "    </g>\n",
              "</svg>\n",
              "      </button>\n",
              "\n",
              "<style>\n",
              "  .colab-df-quickchart {\n",
              "      --bg-color: #E8F0FE;\n",
              "      --fill-color: #1967D2;\n",
              "      --hover-bg-color: #E2EBFA;\n",
              "      --hover-fill-color: #174EA6;\n",
              "      --disabled-fill-color: #AAA;\n",
              "      --disabled-bg-color: #DDD;\n",
              "  }\n",
              "\n",
              "  [theme=dark] .colab-df-quickchart {\n",
              "      --bg-color: #3B4455;\n",
              "      --fill-color: #D2E3FC;\n",
              "      --hover-bg-color: #434B5C;\n",
              "      --hover-fill-color: #FFFFFF;\n",
              "      --disabled-bg-color: #3B4455;\n",
              "      --disabled-fill-color: #666;\n",
              "  }\n",
              "\n",
              "  .colab-df-quickchart {\n",
              "    background-color: var(--bg-color);\n",
              "    border: none;\n",
              "    border-radius: 50%;\n",
              "    cursor: pointer;\n",
              "    display: none;\n",
              "    fill: var(--fill-color);\n",
              "    height: 32px;\n",
              "    padding: 0;\n",
              "    width: 32px;\n",
              "  }\n",
              "\n",
              "  .colab-df-quickchart:hover {\n",
              "    background-color: var(--hover-bg-color);\n",
              "    box-shadow: 0 1px 2px rgba(60, 64, 67, 0.3), 0 1px 3px 1px rgba(60, 64, 67, 0.15);\n",
              "    fill: var(--button-hover-fill-color);\n",
              "  }\n",
              "\n",
              "  .colab-df-quickchart-complete:disabled,\n",
              "  .colab-df-quickchart-complete:disabled:hover {\n",
              "    background-color: var(--disabled-bg-color);\n",
              "    fill: var(--disabled-fill-color);\n",
              "    box-shadow: none;\n",
              "  }\n",
              "\n",
              "  .colab-df-spinner {\n",
              "    border: 2px solid var(--fill-color);\n",
              "    border-color: transparent;\n",
              "    border-bottom-color: var(--fill-color);\n",
              "    animation:\n",
              "      spin 1s steps(1) infinite;\n",
              "  }\n",
              "\n",
              "  @keyframes spin {\n",
              "    0% {\n",
              "      border-color: transparent;\n",
              "      border-bottom-color: var(--fill-color);\n",
              "      border-left-color: var(--fill-color);\n",
              "    }\n",
              "    20% {\n",
              "      border-color: transparent;\n",
              "      border-left-color: var(--fill-color);\n",
              "      border-top-color: var(--fill-color);\n",
              "    }\n",
              "    30% {\n",
              "      border-color: transparent;\n",
              "      border-left-color: var(--fill-color);\n",
              "      border-top-color: var(--fill-color);\n",
              "      border-right-color: var(--fill-color);\n",
              "    }\n",
              "    40% {\n",
              "      border-color: transparent;\n",
              "      border-right-color: var(--fill-color);\n",
              "      border-top-color: var(--fill-color);\n",
              "    }\n",
              "    60% {\n",
              "      border-color: transparent;\n",
              "      border-right-color: var(--fill-color);\n",
              "    }\n",
              "    80% {\n",
              "      border-color: transparent;\n",
              "      border-right-color: var(--fill-color);\n",
              "      border-bottom-color: var(--fill-color);\n",
              "    }\n",
              "    90% {\n",
              "      border-color: transparent;\n",
              "      border-bottom-color: var(--fill-color);\n",
              "    }\n",
              "  }\n",
              "</style>\n",
              "\n",
              "      <script>\n",
              "        async function quickchart(key) {\n",
              "          const quickchartButtonEl =\n",
              "            document.querySelector('#' + key + ' button');\n",
              "          quickchartButtonEl.disabled = true;  // To prevent multiple clicks.\n",
              "          quickchartButtonEl.classList.add('colab-df-spinner');\n",
              "          try {\n",
              "            const charts = await google.colab.kernel.invokeFunction(\n",
              "                'suggestCharts', [key], {});\n",
              "          } catch (error) {\n",
              "            console.error('Error during call to suggestCharts:', error);\n",
              "          }\n",
              "          quickchartButtonEl.classList.remove('colab-df-spinner');\n",
              "          quickchartButtonEl.classList.add('colab-df-quickchart-complete');\n",
              "        }\n",
              "        (() => {\n",
              "          let quickchartButtonEl =\n",
              "            document.querySelector('#df-5fda3c45-3177-4c8d-9256-91dc7e449667 button');\n",
              "          quickchartButtonEl.style.display =\n",
              "            google.colab.kernel.accessAllowed ? 'block' : 'none';\n",
              "        })();\n",
              "      </script>\n",
              "    </div>\n",
              "\n",
              "    </div>\n",
              "  </div>\n"
            ],
            "application/vnd.google.colaboratory.intrinsic+json": {
              "type": "dataframe",
              "variable_name": "df",
              "summary": "{\n  \"name\": \"df\",\n  \"rows\": 7267,\n  \"fields\": [\n    {\n      \"column\": \"ID_cliente\",\n      \"properties\": {\n        \"dtype\": \"string\",\n        \"num_unique_values\": 7267,\n        \"samples\": [\n          \"2038-OEQZH\",\n          \"6322-HRPFA\",\n          \"3969-JQABI\"\n        ],\n        \"semantic_type\": \"\",\n        \"description\": \"\"\n      }\n    },\n    {\n      \"column\": \"Churn\",\n      \"properties\": {\n        \"dtype\": \"category\",\n        \"num_unique_values\": 3,\n        \"samples\": [\n          \"No\",\n          \"Yes\",\n          \"\"\n        ],\n        \"semantic_type\": \"\",\n        \"description\": \"\"\n      }\n    },\n    {\n      \"column\": \"cliente\",\n      \"properties\": {\n        \"dtype\": \"object\",\n        \"semantic_type\": \"\",\n        \"description\": \"\"\n      }\n    },\n    {\n      \"column\": \"tel\\u00e9fono\",\n      \"properties\": {\n        \"dtype\": \"object\",\n        \"semantic_type\": \"\",\n        \"description\": \"\"\n      }\n    },\n    {\n      \"column\": \"internet\",\n      \"properties\": {\n        \"dtype\": \"object\",\n        \"semantic_type\": \"\",\n        \"description\": \"\"\n      }\n    },\n    {\n      \"column\": \"cuenta\",\n      \"properties\": {\n        \"dtype\": \"object\",\n        \"semantic_type\": \"\",\n        \"description\": \"\"\n      }\n    }\n  ]\n}"
            }
          },
          "metadata": {},
          "execution_count": 104
        }
      ]
    },
    {
      "cell_type": "code",
      "source": [
        "\n",
        "cliente_df = pd.json_normalize(df['cliente'])\n",
        "teléfono_df = pd.json_normalize(df['teléfono'])\n",
        "internet_df = pd.json_normalize(df['internet'])\n",
        "cuenta_df = pd.json_normalize(df['cuenta'])\n",
        "\n",
        "\n",
        "df = pd.concat([df.drop(['cliente', 'teléfono', 'internet', 'cuenta'], axis=1),\n",
        "                cliente_df, teléfono_df, internet_df, cuenta_df], axis=1)"
      ],
      "metadata": {
        "id": "aTgvXB7n5mEA"
      },
      "execution_count": 105,
      "outputs": []
    },
    {
      "cell_type": "code",
      "source": [
        "df.head()"
      ],
      "metadata": {
        "colab": {
          "base_uri": "https://localhost:8080/",
          "height": 342
        },
        "id": "8DhNYUsR5yQF",
        "outputId": "5da24159-8f08-4bba-af67-c17d13c3ef5e"
      },
      "execution_count": 106,
      "outputs": [
        {
          "output_type": "execute_result",
          "data": {
            "text/plain": [
              "   ID_cliente Churn  gender  SeniorCitizen Partner Dependents  tenure  \\\n",
              "0  0002-ORFBO    No  Female              0     Yes        Yes       9   \n",
              "1  0003-MKNFE    No    Male              0      No         No       9   \n",
              "2  0004-TLHLJ   Yes    Male              0      No         No       4   \n",
              "3  0011-IGKFF   Yes    Male              1     Yes         No      13   \n",
              "4  0013-EXCHZ   Yes  Female              1     Yes         No       3   \n",
              "\n",
              "  PhoneService MultipleLines InternetService  ... OnlineBackup  \\\n",
              "0          Yes            No             DSL  ...          Yes   \n",
              "1          Yes           Yes             DSL  ...           No   \n",
              "2          Yes            No     Fiber optic  ...           No   \n",
              "3          Yes            No     Fiber optic  ...          Yes   \n",
              "4          Yes            No     Fiber optic  ...           No   \n",
              "\n",
              "  DeviceProtection TechSupport StreamingTV StreamingMovies        Contract  \\\n",
              "0               No         Yes         Yes              No        One year   \n",
              "1               No          No          No             Yes  Month-to-month   \n",
              "2              Yes          No          No              No  Month-to-month   \n",
              "3              Yes          No         Yes             Yes  Month-to-month   \n",
              "4               No         Yes         Yes              No  Month-to-month   \n",
              "\n",
              "  PaperlessBilling     PaymentMethod Charges.Monthly  Charges.Total  \n",
              "0              Yes      Mailed check            65.6          593.3  \n",
              "1               No      Mailed check            59.9          542.4  \n",
              "2              Yes  Electronic check            73.9         280.85  \n",
              "3              Yes  Electronic check            98.0        1237.85  \n",
              "4              Yes      Mailed check            83.9          267.4  \n",
              "\n",
              "[5 rows x 21 columns]"
            ],
            "text/html": [
              "\n",
              "  <div id=\"df-2c17acf5-f91f-4a49-8459-abdc9da76d06\" class=\"colab-df-container\">\n",
              "    <div>\n",
              "<style scoped>\n",
              "    .dataframe tbody tr th:only-of-type {\n",
              "        vertical-align: middle;\n",
              "    }\n",
              "\n",
              "    .dataframe tbody tr th {\n",
              "        vertical-align: top;\n",
              "    }\n",
              "\n",
              "    .dataframe thead th {\n",
              "        text-align: right;\n",
              "    }\n",
              "</style>\n",
              "<table border=\"1\" class=\"dataframe\">\n",
              "  <thead>\n",
              "    <tr style=\"text-align: right;\">\n",
              "      <th></th>\n",
              "      <th>ID_cliente</th>\n",
              "      <th>Churn</th>\n",
              "      <th>gender</th>\n",
              "      <th>SeniorCitizen</th>\n",
              "      <th>Partner</th>\n",
              "      <th>Dependents</th>\n",
              "      <th>tenure</th>\n",
              "      <th>PhoneService</th>\n",
              "      <th>MultipleLines</th>\n",
              "      <th>InternetService</th>\n",
              "      <th>...</th>\n",
              "      <th>OnlineBackup</th>\n",
              "      <th>DeviceProtection</th>\n",
              "      <th>TechSupport</th>\n",
              "      <th>StreamingTV</th>\n",
              "      <th>StreamingMovies</th>\n",
              "      <th>Contract</th>\n",
              "      <th>PaperlessBilling</th>\n",
              "      <th>PaymentMethod</th>\n",
              "      <th>Charges.Monthly</th>\n",
              "      <th>Charges.Total</th>\n",
              "    </tr>\n",
              "  </thead>\n",
              "  <tbody>\n",
              "    <tr>\n",
              "      <th>0</th>\n",
              "      <td>0002-ORFBO</td>\n",
              "      <td>No</td>\n",
              "      <td>Female</td>\n",
              "      <td>0</td>\n",
              "      <td>Yes</td>\n",
              "      <td>Yes</td>\n",
              "      <td>9</td>\n",
              "      <td>Yes</td>\n",
              "      <td>No</td>\n",
              "      <td>DSL</td>\n",
              "      <td>...</td>\n",
              "      <td>Yes</td>\n",
              "      <td>No</td>\n",
              "      <td>Yes</td>\n",
              "      <td>Yes</td>\n",
              "      <td>No</td>\n",
              "      <td>One year</td>\n",
              "      <td>Yes</td>\n",
              "      <td>Mailed check</td>\n",
              "      <td>65.6</td>\n",
              "      <td>593.3</td>\n",
              "    </tr>\n",
              "    <tr>\n",
              "      <th>1</th>\n",
              "      <td>0003-MKNFE</td>\n",
              "      <td>No</td>\n",
              "      <td>Male</td>\n",
              "      <td>0</td>\n",
              "      <td>No</td>\n",
              "      <td>No</td>\n",
              "      <td>9</td>\n",
              "      <td>Yes</td>\n",
              "      <td>Yes</td>\n",
              "      <td>DSL</td>\n",
              "      <td>...</td>\n",
              "      <td>No</td>\n",
              "      <td>No</td>\n",
              "      <td>No</td>\n",
              "      <td>No</td>\n",
              "      <td>Yes</td>\n",
              "      <td>Month-to-month</td>\n",
              "      <td>No</td>\n",
              "      <td>Mailed check</td>\n",
              "      <td>59.9</td>\n",
              "      <td>542.4</td>\n",
              "    </tr>\n",
              "    <tr>\n",
              "      <th>2</th>\n",
              "      <td>0004-TLHLJ</td>\n",
              "      <td>Yes</td>\n",
              "      <td>Male</td>\n",
              "      <td>0</td>\n",
              "      <td>No</td>\n",
              "      <td>No</td>\n",
              "      <td>4</td>\n",
              "      <td>Yes</td>\n",
              "      <td>No</td>\n",
              "      <td>Fiber optic</td>\n",
              "      <td>...</td>\n",
              "      <td>No</td>\n",
              "      <td>Yes</td>\n",
              "      <td>No</td>\n",
              "      <td>No</td>\n",
              "      <td>No</td>\n",
              "      <td>Month-to-month</td>\n",
              "      <td>Yes</td>\n",
              "      <td>Electronic check</td>\n",
              "      <td>73.9</td>\n",
              "      <td>280.85</td>\n",
              "    </tr>\n",
              "    <tr>\n",
              "      <th>3</th>\n",
              "      <td>0011-IGKFF</td>\n",
              "      <td>Yes</td>\n",
              "      <td>Male</td>\n",
              "      <td>1</td>\n",
              "      <td>Yes</td>\n",
              "      <td>No</td>\n",
              "      <td>13</td>\n",
              "      <td>Yes</td>\n",
              "      <td>No</td>\n",
              "      <td>Fiber optic</td>\n",
              "      <td>...</td>\n",
              "      <td>Yes</td>\n",
              "      <td>Yes</td>\n",
              "      <td>No</td>\n",
              "      <td>Yes</td>\n",
              "      <td>Yes</td>\n",
              "      <td>Month-to-month</td>\n",
              "      <td>Yes</td>\n",
              "      <td>Electronic check</td>\n",
              "      <td>98.0</td>\n",
              "      <td>1237.85</td>\n",
              "    </tr>\n",
              "    <tr>\n",
              "      <th>4</th>\n",
              "      <td>0013-EXCHZ</td>\n",
              "      <td>Yes</td>\n",
              "      <td>Female</td>\n",
              "      <td>1</td>\n",
              "      <td>Yes</td>\n",
              "      <td>No</td>\n",
              "      <td>3</td>\n",
              "      <td>Yes</td>\n",
              "      <td>No</td>\n",
              "      <td>Fiber optic</td>\n",
              "      <td>...</td>\n",
              "      <td>No</td>\n",
              "      <td>No</td>\n",
              "      <td>Yes</td>\n",
              "      <td>Yes</td>\n",
              "      <td>No</td>\n",
              "      <td>Month-to-month</td>\n",
              "      <td>Yes</td>\n",
              "      <td>Mailed check</td>\n",
              "      <td>83.9</td>\n",
              "      <td>267.4</td>\n",
              "    </tr>\n",
              "  </tbody>\n",
              "</table>\n",
              "<p>5 rows × 21 columns</p>\n",
              "</div>\n",
              "    <div class=\"colab-df-buttons\">\n",
              "\n",
              "  <div class=\"colab-df-container\">\n",
              "    <button class=\"colab-df-convert\" onclick=\"convertToInteractive('df-2c17acf5-f91f-4a49-8459-abdc9da76d06')\"\n",
              "            title=\"Convert this dataframe to an interactive table.\"\n",
              "            style=\"display:none;\">\n",
              "\n",
              "  <svg xmlns=\"http://www.w3.org/2000/svg\" height=\"24px\" viewBox=\"0 -960 960 960\">\n",
              "    <path d=\"M120-120v-720h720v720H120Zm60-500h600v-160H180v160Zm220 220h160v-160H400v160Zm0 220h160v-160H400v160ZM180-400h160v-160H180v160Zm440 0h160v-160H620v160ZM180-180h160v-160H180v160Zm440 0h160v-160H620v160Z\"/>\n",
              "  </svg>\n",
              "    </button>\n",
              "\n",
              "  <style>\n",
              "    .colab-df-container {\n",
              "      display:flex;\n",
              "      gap: 12px;\n",
              "    }\n",
              "\n",
              "    .colab-df-convert {\n",
              "      background-color: #E8F0FE;\n",
              "      border: none;\n",
              "      border-radius: 50%;\n",
              "      cursor: pointer;\n",
              "      display: none;\n",
              "      fill: #1967D2;\n",
              "      height: 32px;\n",
              "      padding: 0 0 0 0;\n",
              "      width: 32px;\n",
              "    }\n",
              "\n",
              "    .colab-df-convert:hover {\n",
              "      background-color: #E2EBFA;\n",
              "      box-shadow: 0px 1px 2px rgba(60, 64, 67, 0.3), 0px 1px 3px 1px rgba(60, 64, 67, 0.15);\n",
              "      fill: #174EA6;\n",
              "    }\n",
              "\n",
              "    .colab-df-buttons div {\n",
              "      margin-bottom: 4px;\n",
              "    }\n",
              "\n",
              "    [theme=dark] .colab-df-convert {\n",
              "      background-color: #3B4455;\n",
              "      fill: #D2E3FC;\n",
              "    }\n",
              "\n",
              "    [theme=dark] .colab-df-convert:hover {\n",
              "      background-color: #434B5C;\n",
              "      box-shadow: 0px 1px 3px 1px rgba(0, 0, 0, 0.15);\n",
              "      filter: drop-shadow(0px 1px 2px rgba(0, 0, 0, 0.3));\n",
              "      fill: #FFFFFF;\n",
              "    }\n",
              "  </style>\n",
              "\n",
              "    <script>\n",
              "      const buttonEl =\n",
              "        document.querySelector('#df-2c17acf5-f91f-4a49-8459-abdc9da76d06 button.colab-df-convert');\n",
              "      buttonEl.style.display =\n",
              "        google.colab.kernel.accessAllowed ? 'block' : 'none';\n",
              "\n",
              "      async function convertToInteractive(key) {\n",
              "        const element = document.querySelector('#df-2c17acf5-f91f-4a49-8459-abdc9da76d06');\n",
              "        const dataTable =\n",
              "          await google.colab.kernel.invokeFunction('convertToInteractive',\n",
              "                                                    [key], {});\n",
              "        if (!dataTable) return;\n",
              "\n",
              "        const docLinkHtml = 'Like what you see? Visit the ' +\n",
              "          '<a target=\"_blank\" href=https://colab.research.google.com/notebooks/data_table.ipynb>data table notebook</a>'\n",
              "          + ' to learn more about interactive tables.';\n",
              "        element.innerHTML = '';\n",
              "        dataTable['output_type'] = 'display_data';\n",
              "        await google.colab.output.renderOutput(dataTable, element);\n",
              "        const docLink = document.createElement('div');\n",
              "        docLink.innerHTML = docLinkHtml;\n",
              "        element.appendChild(docLink);\n",
              "      }\n",
              "    </script>\n",
              "  </div>\n",
              "\n",
              "\n",
              "    <div id=\"df-52fe983f-aab2-41dd-bd63-d068a1c7368f\">\n",
              "      <button class=\"colab-df-quickchart\" onclick=\"quickchart('df-52fe983f-aab2-41dd-bd63-d068a1c7368f')\"\n",
              "                title=\"Suggest charts\"\n",
              "                style=\"display:none;\">\n",
              "\n",
              "<svg xmlns=\"http://www.w3.org/2000/svg\" height=\"24px\"viewBox=\"0 0 24 24\"\n",
              "     width=\"24px\">\n",
              "    <g>\n",
              "        <path d=\"M19 3H5c-1.1 0-2 .9-2 2v14c0 1.1.9 2 2 2h14c1.1 0 2-.9 2-2V5c0-1.1-.9-2-2-2zM9 17H7v-7h2v7zm4 0h-2V7h2v10zm4 0h-2v-4h2v4z\"/>\n",
              "    </g>\n",
              "</svg>\n",
              "      </button>\n",
              "\n",
              "<style>\n",
              "  .colab-df-quickchart {\n",
              "      --bg-color: #E8F0FE;\n",
              "      --fill-color: #1967D2;\n",
              "      --hover-bg-color: #E2EBFA;\n",
              "      --hover-fill-color: #174EA6;\n",
              "      --disabled-fill-color: #AAA;\n",
              "      --disabled-bg-color: #DDD;\n",
              "  }\n",
              "\n",
              "  [theme=dark] .colab-df-quickchart {\n",
              "      --bg-color: #3B4455;\n",
              "      --fill-color: #D2E3FC;\n",
              "      --hover-bg-color: #434B5C;\n",
              "      --hover-fill-color: #FFFFFF;\n",
              "      --disabled-bg-color: #3B4455;\n",
              "      --disabled-fill-color: #666;\n",
              "  }\n",
              "\n",
              "  .colab-df-quickchart {\n",
              "    background-color: var(--bg-color);\n",
              "    border: none;\n",
              "    border-radius: 50%;\n",
              "    cursor: pointer;\n",
              "    display: none;\n",
              "    fill: var(--fill-color);\n",
              "    height: 32px;\n",
              "    padding: 0;\n",
              "    width: 32px;\n",
              "  }\n",
              "\n",
              "  .colab-df-quickchart:hover {\n",
              "    background-color: var(--hover-bg-color);\n",
              "    box-shadow: 0 1px 2px rgba(60, 64, 67, 0.3), 0 1px 3px 1px rgba(60, 64, 67, 0.15);\n",
              "    fill: var(--button-hover-fill-color);\n",
              "  }\n",
              "\n",
              "  .colab-df-quickchart-complete:disabled,\n",
              "  .colab-df-quickchart-complete:disabled:hover {\n",
              "    background-color: var(--disabled-bg-color);\n",
              "    fill: var(--disabled-fill-color);\n",
              "    box-shadow: none;\n",
              "  }\n",
              "\n",
              "  .colab-df-spinner {\n",
              "    border: 2px solid var(--fill-color);\n",
              "    border-color: transparent;\n",
              "    border-bottom-color: var(--fill-color);\n",
              "    animation:\n",
              "      spin 1s steps(1) infinite;\n",
              "  }\n",
              "\n",
              "  @keyframes spin {\n",
              "    0% {\n",
              "      border-color: transparent;\n",
              "      border-bottom-color: var(--fill-color);\n",
              "      border-left-color: var(--fill-color);\n",
              "    }\n",
              "    20% {\n",
              "      border-color: transparent;\n",
              "      border-left-color: var(--fill-color);\n",
              "      border-top-color: var(--fill-color);\n",
              "    }\n",
              "    30% {\n",
              "      border-color: transparent;\n",
              "      border-left-color: var(--fill-color);\n",
              "      border-top-color: var(--fill-color);\n",
              "      border-right-color: var(--fill-color);\n",
              "    }\n",
              "    40% {\n",
              "      border-color: transparent;\n",
              "      border-right-color: var(--fill-color);\n",
              "      border-top-color: var(--fill-color);\n",
              "    }\n",
              "    60% {\n",
              "      border-color: transparent;\n",
              "      border-right-color: var(--fill-color);\n",
              "    }\n",
              "    80% {\n",
              "      border-color: transparent;\n",
              "      border-right-color: var(--fill-color);\n",
              "      border-bottom-color: var(--fill-color);\n",
              "    }\n",
              "    90% {\n",
              "      border-color: transparent;\n",
              "      border-bottom-color: var(--fill-color);\n",
              "    }\n",
              "  }\n",
              "</style>\n",
              "\n",
              "      <script>\n",
              "        async function quickchart(key) {\n",
              "          const quickchartButtonEl =\n",
              "            document.querySelector('#' + key + ' button');\n",
              "          quickchartButtonEl.disabled = true;  // To prevent multiple clicks.\n",
              "          quickchartButtonEl.classList.add('colab-df-spinner');\n",
              "          try {\n",
              "            const charts = await google.colab.kernel.invokeFunction(\n",
              "                'suggestCharts', [key], {});\n",
              "          } catch (error) {\n",
              "            console.error('Error during call to suggestCharts:', error);\n",
              "          }\n",
              "          quickchartButtonEl.classList.remove('colab-df-spinner');\n",
              "          quickchartButtonEl.classList.add('colab-df-quickchart-complete');\n",
              "        }\n",
              "        (() => {\n",
              "          let quickchartButtonEl =\n",
              "            document.querySelector('#df-52fe983f-aab2-41dd-bd63-d068a1c7368f button');\n",
              "          quickchartButtonEl.style.display =\n",
              "            google.colab.kernel.accessAllowed ? 'block' : 'none';\n",
              "        })();\n",
              "      </script>\n",
              "    </div>\n",
              "\n",
              "    </div>\n",
              "  </div>\n"
            ],
            "application/vnd.google.colaboratory.intrinsic+json": {
              "type": "dataframe",
              "variable_name": "df"
            }
          },
          "metadata": {},
          "execution_count": 106
        }
      ]
    },
    {
      "cell_type": "code",
      "source": [
        "df.columns"
      ],
      "metadata": {
        "colab": {
          "base_uri": "https://localhost:8080/"
        },
        "id": "4rQ7baDMr-TV",
        "outputId": "fab322c5-ad44-4ba8-ca2e-de68dd0b7e60"
      },
      "execution_count": 107,
      "outputs": [
        {
          "output_type": "execute_result",
          "data": {
            "text/plain": [
              "Index(['ID_cliente', 'Churn', 'gender', 'SeniorCitizen', 'Partner',\n",
              "       'Dependents', 'tenure', 'PhoneService', 'MultipleLines',\n",
              "       'InternetService', 'OnlineSecurity', 'OnlineBackup', 'DeviceProtection',\n",
              "       'TechSupport', 'StreamingTV', 'StreamingMovies', 'Contract',\n",
              "       'PaperlessBilling', 'PaymentMethod', 'Charges.Monthly',\n",
              "       'Charges.Total'],\n",
              "      dtype='object')"
            ]
          },
          "metadata": {},
          "execution_count": 107
        }
      ]
    },
    {
      "cell_type": "code",
      "source": [
        "df = df.rename(columns={\n",
        "    'gender': 'género',\n",
        "    'SeniorCitizen': 'adulto_mayor',\n",
        "    'Partner': 'pareja',\n",
        "    'Dependents': 'dependientes',\n",
        "    'tenure': 'antigüedad_meses',\n",
        "    'PhoneService': 'servicio_telefonico',\n",
        "    'MultipleLines': 'lineas_multiples',\n",
        "    'InternetService': 'servicio_internet',\n",
        "    'OnlineSecurity': 'seguridad_online',\n",
        "    'OnlineBackup': 'respaldo_online',\n",
        "    'DeviceProtection': 'protección_dispositivo',\n",
        "    'TechSupport': 'soporte_tecnico',\n",
        "    'StreamingTV': 'tv_streaming',\n",
        "    'StreamingMovies': 'peliculas_streaming',\n",
        "    'Contract': 'contrato',\n",
        "    'PaperlessBilling': 'factura_electronica',\n",
        "    'PaymentMethod': 'método_pago',\n",
        "    'MonthlyCharges': 'cargo_mensual',\n",
        "    'TotalCharges': 'cargo_total'\n",
        "})"
      ],
      "metadata": {
        "id": "ymzHfS83sBzR"
      },
      "execution_count": 108,
      "outputs": []
    },
    {
      "cell_type": "code",
      "source": [
        "df.head()"
      ],
      "metadata": {
        "colab": {
          "base_uri": "https://localhost:8080/",
          "height": 342
        },
        "id": "8NTBme8wsN_A",
        "outputId": "caa53f9e-a98e-40bf-edbf-fc0ada084a77"
      },
      "execution_count": 109,
      "outputs": [
        {
          "output_type": "execute_result",
          "data": {
            "text/plain": [
              "   ID_cliente Churn  género  adulto_mayor pareja dependientes  \\\n",
              "0  0002-ORFBO    No  Female             0    Yes          Yes   \n",
              "1  0003-MKNFE    No    Male             0     No           No   \n",
              "2  0004-TLHLJ   Yes    Male             0     No           No   \n",
              "3  0011-IGKFF   Yes    Male             1    Yes           No   \n",
              "4  0013-EXCHZ   Yes  Female             1    Yes           No   \n",
              "\n",
              "   antigüedad_meses servicio_telefonico lineas_multiples servicio_internet  \\\n",
              "0                 9                 Yes               No               DSL   \n",
              "1                 9                 Yes              Yes               DSL   \n",
              "2                 4                 Yes               No       Fiber optic   \n",
              "3                13                 Yes               No       Fiber optic   \n",
              "4                 3                 Yes               No       Fiber optic   \n",
              "\n",
              "   ... respaldo_online protección_dispositivo soporte_tecnico tv_streaming  \\\n",
              "0  ...             Yes                     No             Yes          Yes   \n",
              "1  ...              No                     No              No           No   \n",
              "2  ...              No                    Yes              No           No   \n",
              "3  ...             Yes                    Yes              No          Yes   \n",
              "4  ...              No                     No             Yes          Yes   \n",
              "\n",
              "  peliculas_streaming        contrato factura_electronica       método_pago  \\\n",
              "0                  No        One year                 Yes      Mailed check   \n",
              "1                 Yes  Month-to-month                  No      Mailed check   \n",
              "2                  No  Month-to-month                 Yes  Electronic check   \n",
              "3                 Yes  Month-to-month                 Yes  Electronic check   \n",
              "4                  No  Month-to-month                 Yes      Mailed check   \n",
              "\n",
              "  Charges.Monthly  Charges.Total  \n",
              "0            65.6          593.3  \n",
              "1            59.9          542.4  \n",
              "2            73.9         280.85  \n",
              "3            98.0        1237.85  \n",
              "4            83.9          267.4  \n",
              "\n",
              "[5 rows x 21 columns]"
            ],
            "text/html": [
              "\n",
              "  <div id=\"df-93c8597a-365a-4cac-84c2-4ec842ab4d95\" class=\"colab-df-container\">\n",
              "    <div>\n",
              "<style scoped>\n",
              "    .dataframe tbody tr th:only-of-type {\n",
              "        vertical-align: middle;\n",
              "    }\n",
              "\n",
              "    .dataframe tbody tr th {\n",
              "        vertical-align: top;\n",
              "    }\n",
              "\n",
              "    .dataframe thead th {\n",
              "        text-align: right;\n",
              "    }\n",
              "</style>\n",
              "<table border=\"1\" class=\"dataframe\">\n",
              "  <thead>\n",
              "    <tr style=\"text-align: right;\">\n",
              "      <th></th>\n",
              "      <th>ID_cliente</th>\n",
              "      <th>Churn</th>\n",
              "      <th>género</th>\n",
              "      <th>adulto_mayor</th>\n",
              "      <th>pareja</th>\n",
              "      <th>dependientes</th>\n",
              "      <th>antigüedad_meses</th>\n",
              "      <th>servicio_telefonico</th>\n",
              "      <th>lineas_multiples</th>\n",
              "      <th>servicio_internet</th>\n",
              "      <th>...</th>\n",
              "      <th>respaldo_online</th>\n",
              "      <th>protección_dispositivo</th>\n",
              "      <th>soporte_tecnico</th>\n",
              "      <th>tv_streaming</th>\n",
              "      <th>peliculas_streaming</th>\n",
              "      <th>contrato</th>\n",
              "      <th>factura_electronica</th>\n",
              "      <th>método_pago</th>\n",
              "      <th>Charges.Monthly</th>\n",
              "      <th>Charges.Total</th>\n",
              "    </tr>\n",
              "  </thead>\n",
              "  <tbody>\n",
              "    <tr>\n",
              "      <th>0</th>\n",
              "      <td>0002-ORFBO</td>\n",
              "      <td>No</td>\n",
              "      <td>Female</td>\n",
              "      <td>0</td>\n",
              "      <td>Yes</td>\n",
              "      <td>Yes</td>\n",
              "      <td>9</td>\n",
              "      <td>Yes</td>\n",
              "      <td>No</td>\n",
              "      <td>DSL</td>\n",
              "      <td>...</td>\n",
              "      <td>Yes</td>\n",
              "      <td>No</td>\n",
              "      <td>Yes</td>\n",
              "      <td>Yes</td>\n",
              "      <td>No</td>\n",
              "      <td>One year</td>\n",
              "      <td>Yes</td>\n",
              "      <td>Mailed check</td>\n",
              "      <td>65.6</td>\n",
              "      <td>593.3</td>\n",
              "    </tr>\n",
              "    <tr>\n",
              "      <th>1</th>\n",
              "      <td>0003-MKNFE</td>\n",
              "      <td>No</td>\n",
              "      <td>Male</td>\n",
              "      <td>0</td>\n",
              "      <td>No</td>\n",
              "      <td>No</td>\n",
              "      <td>9</td>\n",
              "      <td>Yes</td>\n",
              "      <td>Yes</td>\n",
              "      <td>DSL</td>\n",
              "      <td>...</td>\n",
              "      <td>No</td>\n",
              "      <td>No</td>\n",
              "      <td>No</td>\n",
              "      <td>No</td>\n",
              "      <td>Yes</td>\n",
              "      <td>Month-to-month</td>\n",
              "      <td>No</td>\n",
              "      <td>Mailed check</td>\n",
              "      <td>59.9</td>\n",
              "      <td>542.4</td>\n",
              "    </tr>\n",
              "    <tr>\n",
              "      <th>2</th>\n",
              "      <td>0004-TLHLJ</td>\n",
              "      <td>Yes</td>\n",
              "      <td>Male</td>\n",
              "      <td>0</td>\n",
              "      <td>No</td>\n",
              "      <td>No</td>\n",
              "      <td>4</td>\n",
              "      <td>Yes</td>\n",
              "      <td>No</td>\n",
              "      <td>Fiber optic</td>\n",
              "      <td>...</td>\n",
              "      <td>No</td>\n",
              "      <td>Yes</td>\n",
              "      <td>No</td>\n",
              "      <td>No</td>\n",
              "      <td>No</td>\n",
              "      <td>Month-to-month</td>\n",
              "      <td>Yes</td>\n",
              "      <td>Electronic check</td>\n",
              "      <td>73.9</td>\n",
              "      <td>280.85</td>\n",
              "    </tr>\n",
              "    <tr>\n",
              "      <th>3</th>\n",
              "      <td>0011-IGKFF</td>\n",
              "      <td>Yes</td>\n",
              "      <td>Male</td>\n",
              "      <td>1</td>\n",
              "      <td>Yes</td>\n",
              "      <td>No</td>\n",
              "      <td>13</td>\n",
              "      <td>Yes</td>\n",
              "      <td>No</td>\n",
              "      <td>Fiber optic</td>\n",
              "      <td>...</td>\n",
              "      <td>Yes</td>\n",
              "      <td>Yes</td>\n",
              "      <td>No</td>\n",
              "      <td>Yes</td>\n",
              "      <td>Yes</td>\n",
              "      <td>Month-to-month</td>\n",
              "      <td>Yes</td>\n",
              "      <td>Electronic check</td>\n",
              "      <td>98.0</td>\n",
              "      <td>1237.85</td>\n",
              "    </tr>\n",
              "    <tr>\n",
              "      <th>4</th>\n",
              "      <td>0013-EXCHZ</td>\n",
              "      <td>Yes</td>\n",
              "      <td>Female</td>\n",
              "      <td>1</td>\n",
              "      <td>Yes</td>\n",
              "      <td>No</td>\n",
              "      <td>3</td>\n",
              "      <td>Yes</td>\n",
              "      <td>No</td>\n",
              "      <td>Fiber optic</td>\n",
              "      <td>...</td>\n",
              "      <td>No</td>\n",
              "      <td>No</td>\n",
              "      <td>Yes</td>\n",
              "      <td>Yes</td>\n",
              "      <td>No</td>\n",
              "      <td>Month-to-month</td>\n",
              "      <td>Yes</td>\n",
              "      <td>Mailed check</td>\n",
              "      <td>83.9</td>\n",
              "      <td>267.4</td>\n",
              "    </tr>\n",
              "  </tbody>\n",
              "</table>\n",
              "<p>5 rows × 21 columns</p>\n",
              "</div>\n",
              "    <div class=\"colab-df-buttons\">\n",
              "\n",
              "  <div class=\"colab-df-container\">\n",
              "    <button class=\"colab-df-convert\" onclick=\"convertToInteractive('df-93c8597a-365a-4cac-84c2-4ec842ab4d95')\"\n",
              "            title=\"Convert this dataframe to an interactive table.\"\n",
              "            style=\"display:none;\">\n",
              "\n",
              "  <svg xmlns=\"http://www.w3.org/2000/svg\" height=\"24px\" viewBox=\"0 -960 960 960\">\n",
              "    <path d=\"M120-120v-720h720v720H120Zm60-500h600v-160H180v160Zm220 220h160v-160H400v160Zm0 220h160v-160H400v160ZM180-400h160v-160H180v160Zm440 0h160v-160H620v160ZM180-180h160v-160H180v160Zm440 0h160v-160H620v160Z\"/>\n",
              "  </svg>\n",
              "    </button>\n",
              "\n",
              "  <style>\n",
              "    .colab-df-container {\n",
              "      display:flex;\n",
              "      gap: 12px;\n",
              "    }\n",
              "\n",
              "    .colab-df-convert {\n",
              "      background-color: #E8F0FE;\n",
              "      border: none;\n",
              "      border-radius: 50%;\n",
              "      cursor: pointer;\n",
              "      display: none;\n",
              "      fill: #1967D2;\n",
              "      height: 32px;\n",
              "      padding: 0 0 0 0;\n",
              "      width: 32px;\n",
              "    }\n",
              "\n",
              "    .colab-df-convert:hover {\n",
              "      background-color: #E2EBFA;\n",
              "      box-shadow: 0px 1px 2px rgba(60, 64, 67, 0.3), 0px 1px 3px 1px rgba(60, 64, 67, 0.15);\n",
              "      fill: #174EA6;\n",
              "    }\n",
              "\n",
              "    .colab-df-buttons div {\n",
              "      margin-bottom: 4px;\n",
              "    }\n",
              "\n",
              "    [theme=dark] .colab-df-convert {\n",
              "      background-color: #3B4455;\n",
              "      fill: #D2E3FC;\n",
              "    }\n",
              "\n",
              "    [theme=dark] .colab-df-convert:hover {\n",
              "      background-color: #434B5C;\n",
              "      box-shadow: 0px 1px 3px 1px rgba(0, 0, 0, 0.15);\n",
              "      filter: drop-shadow(0px 1px 2px rgba(0, 0, 0, 0.3));\n",
              "      fill: #FFFFFF;\n",
              "    }\n",
              "  </style>\n",
              "\n",
              "    <script>\n",
              "      const buttonEl =\n",
              "        document.querySelector('#df-93c8597a-365a-4cac-84c2-4ec842ab4d95 button.colab-df-convert');\n",
              "      buttonEl.style.display =\n",
              "        google.colab.kernel.accessAllowed ? 'block' : 'none';\n",
              "\n",
              "      async function convertToInteractive(key) {\n",
              "        const element = document.querySelector('#df-93c8597a-365a-4cac-84c2-4ec842ab4d95');\n",
              "        const dataTable =\n",
              "          await google.colab.kernel.invokeFunction('convertToInteractive',\n",
              "                                                    [key], {});\n",
              "        if (!dataTable) return;\n",
              "\n",
              "        const docLinkHtml = 'Like what you see? Visit the ' +\n",
              "          '<a target=\"_blank\" href=https://colab.research.google.com/notebooks/data_table.ipynb>data table notebook</a>'\n",
              "          + ' to learn more about interactive tables.';\n",
              "        element.innerHTML = '';\n",
              "        dataTable['output_type'] = 'display_data';\n",
              "        await google.colab.output.renderOutput(dataTable, element);\n",
              "        const docLink = document.createElement('div');\n",
              "        docLink.innerHTML = docLinkHtml;\n",
              "        element.appendChild(docLink);\n",
              "      }\n",
              "    </script>\n",
              "  </div>\n",
              "\n",
              "\n",
              "    <div id=\"df-8104fc9e-90d6-42de-85b0-95f6558580d5\">\n",
              "      <button class=\"colab-df-quickchart\" onclick=\"quickchart('df-8104fc9e-90d6-42de-85b0-95f6558580d5')\"\n",
              "                title=\"Suggest charts\"\n",
              "                style=\"display:none;\">\n",
              "\n",
              "<svg xmlns=\"http://www.w3.org/2000/svg\" height=\"24px\"viewBox=\"0 0 24 24\"\n",
              "     width=\"24px\">\n",
              "    <g>\n",
              "        <path d=\"M19 3H5c-1.1 0-2 .9-2 2v14c0 1.1.9 2 2 2h14c1.1 0 2-.9 2-2V5c0-1.1-.9-2-2-2zM9 17H7v-7h2v7zm4 0h-2V7h2v10zm4 0h-2v-4h2v4z\"/>\n",
              "    </g>\n",
              "</svg>\n",
              "      </button>\n",
              "\n",
              "<style>\n",
              "  .colab-df-quickchart {\n",
              "      --bg-color: #E8F0FE;\n",
              "      --fill-color: #1967D2;\n",
              "      --hover-bg-color: #E2EBFA;\n",
              "      --hover-fill-color: #174EA6;\n",
              "      --disabled-fill-color: #AAA;\n",
              "      --disabled-bg-color: #DDD;\n",
              "  }\n",
              "\n",
              "  [theme=dark] .colab-df-quickchart {\n",
              "      --bg-color: #3B4455;\n",
              "      --fill-color: #D2E3FC;\n",
              "      --hover-bg-color: #434B5C;\n",
              "      --hover-fill-color: #FFFFFF;\n",
              "      --disabled-bg-color: #3B4455;\n",
              "      --disabled-fill-color: #666;\n",
              "  }\n",
              "\n",
              "  .colab-df-quickchart {\n",
              "    background-color: var(--bg-color);\n",
              "    border: none;\n",
              "    border-radius: 50%;\n",
              "    cursor: pointer;\n",
              "    display: none;\n",
              "    fill: var(--fill-color);\n",
              "    height: 32px;\n",
              "    padding: 0;\n",
              "    width: 32px;\n",
              "  }\n",
              "\n",
              "  .colab-df-quickchart:hover {\n",
              "    background-color: var(--hover-bg-color);\n",
              "    box-shadow: 0 1px 2px rgba(60, 64, 67, 0.3), 0 1px 3px 1px rgba(60, 64, 67, 0.15);\n",
              "    fill: var(--button-hover-fill-color);\n",
              "  }\n",
              "\n",
              "  .colab-df-quickchart-complete:disabled,\n",
              "  .colab-df-quickchart-complete:disabled:hover {\n",
              "    background-color: var(--disabled-bg-color);\n",
              "    fill: var(--disabled-fill-color);\n",
              "    box-shadow: none;\n",
              "  }\n",
              "\n",
              "  .colab-df-spinner {\n",
              "    border: 2px solid var(--fill-color);\n",
              "    border-color: transparent;\n",
              "    border-bottom-color: var(--fill-color);\n",
              "    animation:\n",
              "      spin 1s steps(1) infinite;\n",
              "  }\n",
              "\n",
              "  @keyframes spin {\n",
              "    0% {\n",
              "      border-color: transparent;\n",
              "      border-bottom-color: var(--fill-color);\n",
              "      border-left-color: var(--fill-color);\n",
              "    }\n",
              "    20% {\n",
              "      border-color: transparent;\n",
              "      border-left-color: var(--fill-color);\n",
              "      border-top-color: var(--fill-color);\n",
              "    }\n",
              "    30% {\n",
              "      border-color: transparent;\n",
              "      border-left-color: var(--fill-color);\n",
              "      border-top-color: var(--fill-color);\n",
              "      border-right-color: var(--fill-color);\n",
              "    }\n",
              "    40% {\n",
              "      border-color: transparent;\n",
              "      border-right-color: var(--fill-color);\n",
              "      border-top-color: var(--fill-color);\n",
              "    }\n",
              "    60% {\n",
              "      border-color: transparent;\n",
              "      border-right-color: var(--fill-color);\n",
              "    }\n",
              "    80% {\n",
              "      border-color: transparent;\n",
              "      border-right-color: var(--fill-color);\n",
              "      border-bottom-color: var(--fill-color);\n",
              "    }\n",
              "    90% {\n",
              "      border-color: transparent;\n",
              "      border-bottom-color: var(--fill-color);\n",
              "    }\n",
              "  }\n",
              "</style>\n",
              "\n",
              "      <script>\n",
              "        async function quickchart(key) {\n",
              "          const quickchartButtonEl =\n",
              "            document.querySelector('#' + key + ' button');\n",
              "          quickchartButtonEl.disabled = true;  // To prevent multiple clicks.\n",
              "          quickchartButtonEl.classList.add('colab-df-spinner');\n",
              "          try {\n",
              "            const charts = await google.colab.kernel.invokeFunction(\n",
              "                'suggestCharts', [key], {});\n",
              "          } catch (error) {\n",
              "            console.error('Error during call to suggestCharts:', error);\n",
              "          }\n",
              "          quickchartButtonEl.classList.remove('colab-df-spinner');\n",
              "          quickchartButtonEl.classList.add('colab-df-quickchart-complete');\n",
              "        }\n",
              "        (() => {\n",
              "          let quickchartButtonEl =\n",
              "            document.querySelector('#df-8104fc9e-90d6-42de-85b0-95f6558580d5 button');\n",
              "          quickchartButtonEl.style.display =\n",
              "            google.colab.kernel.accessAllowed ? 'block' : 'none';\n",
              "        })();\n",
              "      </script>\n",
              "    </div>\n",
              "\n",
              "    </div>\n",
              "  </div>\n"
            ],
            "application/vnd.google.colaboratory.intrinsic+json": {
              "type": "dataframe",
              "variable_name": "df"
            }
          },
          "metadata": {},
          "execution_count": 109
        }
      ]
    },
    {
      "cell_type": "code",
      "source": [
        "traducciones = {\n",
        "    \"Male\": \"Hombre\",\n",
        "    \"Female\": \"Mujer\",\n",
        "    \"Yes\": \"Sí\",\n",
        "    \"No\": \"No\",\n",
        "    \"No phone service\": \"Sin servicio telefónico\",\n",
        "    \"No internet service\": \"Sin servicio de internet\",\n",
        "\n",
        "    \"DSL\": \"DSL\",\n",
        "    \"Fiber optic\": \"Fibra óptica\",\n",
        "    \"Month-to-month\": \"Mes a mes\",\n",
        "    \"One year\": \"Un año\",\n",
        "    \"Two year\": \"Dos años\",\n",
        "\n",
        "    \"Electronic check\": \"Cheque electrónico\",\n",
        "    \"Mailed check\": \"Cheque por correo\",\n",
        "    \"Bank transfer (automatic)\": \"Transferencia bancaria (automática)\",\n",
        "    \"Credit card (automatic)\": \"Tarjeta de crédito (automática)\",\n",
        "\n",
        "    \"Partner\": \"Pareja\",\n",
        "    \"Dependents\": \"Personas a cargo\",\n",
        "\n",
        "    \"PaperlessBilling\": \"Factura electrónica\",\n",
        "\n",
        "    \"StreamingTV\": \"TV por streaming\",\n",
        "    \"StreamingMovies\": \"Películas por streaming\",\n",
        "    \"OnlineSecurity\": \"Seguridad en línea\",\n",
        "    \"OnlineBackup\": \"Respaldo en línea\",\n",
        "    \"DeviceProtection\": \"Protección de dispositivo\",\n",
        "    \"TechSupport\": \"Soporte técnico\",\n",
        "\n",
        "    \"Churn\": \"Cancelación\"\n",
        "}"
      ],
      "metadata": {
        "id": "a1wjtqHZuP6w"
      },
      "execution_count": 110,
      "outputs": []
    },
    {
      "cell_type": "code",
      "source": [
        "df = df.replace(traducciones)"
      ],
      "metadata": {
        "id": "XOhHfgtMuZn8"
      },
      "execution_count": 111,
      "outputs": []
    },
    {
      "cell_type": "code",
      "source": [
        "df.head()"
      ],
      "metadata": {
        "colab": {
          "base_uri": "https://localhost:8080/",
          "height": 342
        },
        "id": "Qs9eqTjRuZyz",
        "outputId": "ef930a9e-8f6a-43a1-fc8d-6cd266ee0fc0"
      },
      "execution_count": 112,
      "outputs": [
        {
          "output_type": "execute_result",
          "data": {
            "text/plain": [
              "   ID_cliente Churn  género  adulto_mayor pareja dependientes  \\\n",
              "0  0002-ORFBO    No   Mujer             0     Sí           Sí   \n",
              "1  0003-MKNFE    No  Hombre             0     No           No   \n",
              "2  0004-TLHLJ    Sí  Hombre             0     No           No   \n",
              "3  0011-IGKFF    Sí  Hombre             1     Sí           No   \n",
              "4  0013-EXCHZ    Sí   Mujer             1     Sí           No   \n",
              "\n",
              "   antigüedad_meses servicio_telefonico lineas_multiples servicio_internet  \\\n",
              "0                 9                  Sí               No               DSL   \n",
              "1                 9                  Sí               Sí               DSL   \n",
              "2                 4                  Sí               No      Fibra óptica   \n",
              "3                13                  Sí               No      Fibra óptica   \n",
              "4                 3                  Sí               No      Fibra óptica   \n",
              "\n",
              "   ... respaldo_online protección_dispositivo soporte_tecnico tv_streaming  \\\n",
              "0  ...              Sí                     No              Sí           Sí   \n",
              "1  ...              No                     No              No           No   \n",
              "2  ...              No                     Sí              No           No   \n",
              "3  ...              Sí                     Sí              No           Sí   \n",
              "4  ...              No                     No              Sí           Sí   \n",
              "\n",
              "  peliculas_streaming   contrato factura_electronica         método_pago  \\\n",
              "0                  No     Un año                  Sí   Cheque por correo   \n",
              "1                  Sí  Mes a mes                  No   Cheque por correo   \n",
              "2                  No  Mes a mes                  Sí  Cheque electrónico   \n",
              "3                  Sí  Mes a mes                  Sí  Cheque electrónico   \n",
              "4                  No  Mes a mes                  Sí   Cheque por correo   \n",
              "\n",
              "  Charges.Monthly  Charges.Total  \n",
              "0            65.6          593.3  \n",
              "1            59.9          542.4  \n",
              "2            73.9         280.85  \n",
              "3            98.0        1237.85  \n",
              "4            83.9          267.4  \n",
              "\n",
              "[5 rows x 21 columns]"
            ],
            "text/html": [
              "\n",
              "  <div id=\"df-9f5cf69b-7ee5-48b8-8d9f-079fe51d6fc8\" class=\"colab-df-container\">\n",
              "    <div>\n",
              "<style scoped>\n",
              "    .dataframe tbody tr th:only-of-type {\n",
              "        vertical-align: middle;\n",
              "    }\n",
              "\n",
              "    .dataframe tbody tr th {\n",
              "        vertical-align: top;\n",
              "    }\n",
              "\n",
              "    .dataframe thead th {\n",
              "        text-align: right;\n",
              "    }\n",
              "</style>\n",
              "<table border=\"1\" class=\"dataframe\">\n",
              "  <thead>\n",
              "    <tr style=\"text-align: right;\">\n",
              "      <th></th>\n",
              "      <th>ID_cliente</th>\n",
              "      <th>Churn</th>\n",
              "      <th>género</th>\n",
              "      <th>adulto_mayor</th>\n",
              "      <th>pareja</th>\n",
              "      <th>dependientes</th>\n",
              "      <th>antigüedad_meses</th>\n",
              "      <th>servicio_telefonico</th>\n",
              "      <th>lineas_multiples</th>\n",
              "      <th>servicio_internet</th>\n",
              "      <th>...</th>\n",
              "      <th>respaldo_online</th>\n",
              "      <th>protección_dispositivo</th>\n",
              "      <th>soporte_tecnico</th>\n",
              "      <th>tv_streaming</th>\n",
              "      <th>peliculas_streaming</th>\n",
              "      <th>contrato</th>\n",
              "      <th>factura_electronica</th>\n",
              "      <th>método_pago</th>\n",
              "      <th>Charges.Monthly</th>\n",
              "      <th>Charges.Total</th>\n",
              "    </tr>\n",
              "  </thead>\n",
              "  <tbody>\n",
              "    <tr>\n",
              "      <th>0</th>\n",
              "      <td>0002-ORFBO</td>\n",
              "      <td>No</td>\n",
              "      <td>Mujer</td>\n",
              "      <td>0</td>\n",
              "      <td>Sí</td>\n",
              "      <td>Sí</td>\n",
              "      <td>9</td>\n",
              "      <td>Sí</td>\n",
              "      <td>No</td>\n",
              "      <td>DSL</td>\n",
              "      <td>...</td>\n",
              "      <td>Sí</td>\n",
              "      <td>No</td>\n",
              "      <td>Sí</td>\n",
              "      <td>Sí</td>\n",
              "      <td>No</td>\n",
              "      <td>Un año</td>\n",
              "      <td>Sí</td>\n",
              "      <td>Cheque por correo</td>\n",
              "      <td>65.6</td>\n",
              "      <td>593.3</td>\n",
              "    </tr>\n",
              "    <tr>\n",
              "      <th>1</th>\n",
              "      <td>0003-MKNFE</td>\n",
              "      <td>No</td>\n",
              "      <td>Hombre</td>\n",
              "      <td>0</td>\n",
              "      <td>No</td>\n",
              "      <td>No</td>\n",
              "      <td>9</td>\n",
              "      <td>Sí</td>\n",
              "      <td>Sí</td>\n",
              "      <td>DSL</td>\n",
              "      <td>...</td>\n",
              "      <td>No</td>\n",
              "      <td>No</td>\n",
              "      <td>No</td>\n",
              "      <td>No</td>\n",
              "      <td>Sí</td>\n",
              "      <td>Mes a mes</td>\n",
              "      <td>No</td>\n",
              "      <td>Cheque por correo</td>\n",
              "      <td>59.9</td>\n",
              "      <td>542.4</td>\n",
              "    </tr>\n",
              "    <tr>\n",
              "      <th>2</th>\n",
              "      <td>0004-TLHLJ</td>\n",
              "      <td>Sí</td>\n",
              "      <td>Hombre</td>\n",
              "      <td>0</td>\n",
              "      <td>No</td>\n",
              "      <td>No</td>\n",
              "      <td>4</td>\n",
              "      <td>Sí</td>\n",
              "      <td>No</td>\n",
              "      <td>Fibra óptica</td>\n",
              "      <td>...</td>\n",
              "      <td>No</td>\n",
              "      <td>Sí</td>\n",
              "      <td>No</td>\n",
              "      <td>No</td>\n",
              "      <td>No</td>\n",
              "      <td>Mes a mes</td>\n",
              "      <td>Sí</td>\n",
              "      <td>Cheque electrónico</td>\n",
              "      <td>73.9</td>\n",
              "      <td>280.85</td>\n",
              "    </tr>\n",
              "    <tr>\n",
              "      <th>3</th>\n",
              "      <td>0011-IGKFF</td>\n",
              "      <td>Sí</td>\n",
              "      <td>Hombre</td>\n",
              "      <td>1</td>\n",
              "      <td>Sí</td>\n",
              "      <td>No</td>\n",
              "      <td>13</td>\n",
              "      <td>Sí</td>\n",
              "      <td>No</td>\n",
              "      <td>Fibra óptica</td>\n",
              "      <td>...</td>\n",
              "      <td>Sí</td>\n",
              "      <td>Sí</td>\n",
              "      <td>No</td>\n",
              "      <td>Sí</td>\n",
              "      <td>Sí</td>\n",
              "      <td>Mes a mes</td>\n",
              "      <td>Sí</td>\n",
              "      <td>Cheque electrónico</td>\n",
              "      <td>98.0</td>\n",
              "      <td>1237.85</td>\n",
              "    </tr>\n",
              "    <tr>\n",
              "      <th>4</th>\n",
              "      <td>0013-EXCHZ</td>\n",
              "      <td>Sí</td>\n",
              "      <td>Mujer</td>\n",
              "      <td>1</td>\n",
              "      <td>Sí</td>\n",
              "      <td>No</td>\n",
              "      <td>3</td>\n",
              "      <td>Sí</td>\n",
              "      <td>No</td>\n",
              "      <td>Fibra óptica</td>\n",
              "      <td>...</td>\n",
              "      <td>No</td>\n",
              "      <td>No</td>\n",
              "      <td>Sí</td>\n",
              "      <td>Sí</td>\n",
              "      <td>No</td>\n",
              "      <td>Mes a mes</td>\n",
              "      <td>Sí</td>\n",
              "      <td>Cheque por correo</td>\n",
              "      <td>83.9</td>\n",
              "      <td>267.4</td>\n",
              "    </tr>\n",
              "  </tbody>\n",
              "</table>\n",
              "<p>5 rows × 21 columns</p>\n",
              "</div>\n",
              "    <div class=\"colab-df-buttons\">\n",
              "\n",
              "  <div class=\"colab-df-container\">\n",
              "    <button class=\"colab-df-convert\" onclick=\"convertToInteractive('df-9f5cf69b-7ee5-48b8-8d9f-079fe51d6fc8')\"\n",
              "            title=\"Convert this dataframe to an interactive table.\"\n",
              "            style=\"display:none;\">\n",
              "\n",
              "  <svg xmlns=\"http://www.w3.org/2000/svg\" height=\"24px\" viewBox=\"0 -960 960 960\">\n",
              "    <path d=\"M120-120v-720h720v720H120Zm60-500h600v-160H180v160Zm220 220h160v-160H400v160Zm0 220h160v-160H400v160ZM180-400h160v-160H180v160Zm440 0h160v-160H620v160ZM180-180h160v-160H180v160Zm440 0h160v-160H620v160Z\"/>\n",
              "  </svg>\n",
              "    </button>\n",
              "\n",
              "  <style>\n",
              "    .colab-df-container {\n",
              "      display:flex;\n",
              "      gap: 12px;\n",
              "    }\n",
              "\n",
              "    .colab-df-convert {\n",
              "      background-color: #E8F0FE;\n",
              "      border: none;\n",
              "      border-radius: 50%;\n",
              "      cursor: pointer;\n",
              "      display: none;\n",
              "      fill: #1967D2;\n",
              "      height: 32px;\n",
              "      padding: 0 0 0 0;\n",
              "      width: 32px;\n",
              "    }\n",
              "\n",
              "    .colab-df-convert:hover {\n",
              "      background-color: #E2EBFA;\n",
              "      box-shadow: 0px 1px 2px rgba(60, 64, 67, 0.3), 0px 1px 3px 1px rgba(60, 64, 67, 0.15);\n",
              "      fill: #174EA6;\n",
              "    }\n",
              "\n",
              "    .colab-df-buttons div {\n",
              "      margin-bottom: 4px;\n",
              "    }\n",
              "\n",
              "    [theme=dark] .colab-df-convert {\n",
              "      background-color: #3B4455;\n",
              "      fill: #D2E3FC;\n",
              "    }\n",
              "\n",
              "    [theme=dark] .colab-df-convert:hover {\n",
              "      background-color: #434B5C;\n",
              "      box-shadow: 0px 1px 3px 1px rgba(0, 0, 0, 0.15);\n",
              "      filter: drop-shadow(0px 1px 2px rgba(0, 0, 0, 0.3));\n",
              "      fill: #FFFFFF;\n",
              "    }\n",
              "  </style>\n",
              "\n",
              "    <script>\n",
              "      const buttonEl =\n",
              "        document.querySelector('#df-9f5cf69b-7ee5-48b8-8d9f-079fe51d6fc8 button.colab-df-convert');\n",
              "      buttonEl.style.display =\n",
              "        google.colab.kernel.accessAllowed ? 'block' : 'none';\n",
              "\n",
              "      async function convertToInteractive(key) {\n",
              "        const element = document.querySelector('#df-9f5cf69b-7ee5-48b8-8d9f-079fe51d6fc8');\n",
              "        const dataTable =\n",
              "          await google.colab.kernel.invokeFunction('convertToInteractive',\n",
              "                                                    [key], {});\n",
              "        if (!dataTable) return;\n",
              "\n",
              "        const docLinkHtml = 'Like what you see? Visit the ' +\n",
              "          '<a target=\"_blank\" href=https://colab.research.google.com/notebooks/data_table.ipynb>data table notebook</a>'\n",
              "          + ' to learn more about interactive tables.';\n",
              "        element.innerHTML = '';\n",
              "        dataTable['output_type'] = 'display_data';\n",
              "        await google.colab.output.renderOutput(dataTable, element);\n",
              "        const docLink = document.createElement('div');\n",
              "        docLink.innerHTML = docLinkHtml;\n",
              "        element.appendChild(docLink);\n",
              "      }\n",
              "    </script>\n",
              "  </div>\n",
              "\n",
              "\n",
              "    <div id=\"df-ce5c2119-bea2-4d0d-a108-04569ba1c1df\">\n",
              "      <button class=\"colab-df-quickchart\" onclick=\"quickchart('df-ce5c2119-bea2-4d0d-a108-04569ba1c1df')\"\n",
              "                title=\"Suggest charts\"\n",
              "                style=\"display:none;\">\n",
              "\n",
              "<svg xmlns=\"http://www.w3.org/2000/svg\" height=\"24px\"viewBox=\"0 0 24 24\"\n",
              "     width=\"24px\">\n",
              "    <g>\n",
              "        <path d=\"M19 3H5c-1.1 0-2 .9-2 2v14c0 1.1.9 2 2 2h14c1.1 0 2-.9 2-2V5c0-1.1-.9-2-2-2zM9 17H7v-7h2v7zm4 0h-2V7h2v10zm4 0h-2v-4h2v4z\"/>\n",
              "    </g>\n",
              "</svg>\n",
              "      </button>\n",
              "\n",
              "<style>\n",
              "  .colab-df-quickchart {\n",
              "      --bg-color: #E8F0FE;\n",
              "      --fill-color: #1967D2;\n",
              "      --hover-bg-color: #E2EBFA;\n",
              "      --hover-fill-color: #174EA6;\n",
              "      --disabled-fill-color: #AAA;\n",
              "      --disabled-bg-color: #DDD;\n",
              "  }\n",
              "\n",
              "  [theme=dark] .colab-df-quickchart {\n",
              "      --bg-color: #3B4455;\n",
              "      --fill-color: #D2E3FC;\n",
              "      --hover-bg-color: #434B5C;\n",
              "      --hover-fill-color: #FFFFFF;\n",
              "      --disabled-bg-color: #3B4455;\n",
              "      --disabled-fill-color: #666;\n",
              "  }\n",
              "\n",
              "  .colab-df-quickchart {\n",
              "    background-color: var(--bg-color);\n",
              "    border: none;\n",
              "    border-radius: 50%;\n",
              "    cursor: pointer;\n",
              "    display: none;\n",
              "    fill: var(--fill-color);\n",
              "    height: 32px;\n",
              "    padding: 0;\n",
              "    width: 32px;\n",
              "  }\n",
              "\n",
              "  .colab-df-quickchart:hover {\n",
              "    background-color: var(--hover-bg-color);\n",
              "    box-shadow: 0 1px 2px rgba(60, 64, 67, 0.3), 0 1px 3px 1px rgba(60, 64, 67, 0.15);\n",
              "    fill: var(--button-hover-fill-color);\n",
              "  }\n",
              "\n",
              "  .colab-df-quickchart-complete:disabled,\n",
              "  .colab-df-quickchart-complete:disabled:hover {\n",
              "    background-color: var(--disabled-bg-color);\n",
              "    fill: var(--disabled-fill-color);\n",
              "    box-shadow: none;\n",
              "  }\n",
              "\n",
              "  .colab-df-spinner {\n",
              "    border: 2px solid var(--fill-color);\n",
              "    border-color: transparent;\n",
              "    border-bottom-color: var(--fill-color);\n",
              "    animation:\n",
              "      spin 1s steps(1) infinite;\n",
              "  }\n",
              "\n",
              "  @keyframes spin {\n",
              "    0% {\n",
              "      border-color: transparent;\n",
              "      border-bottom-color: var(--fill-color);\n",
              "      border-left-color: var(--fill-color);\n",
              "    }\n",
              "    20% {\n",
              "      border-color: transparent;\n",
              "      border-left-color: var(--fill-color);\n",
              "      border-top-color: var(--fill-color);\n",
              "    }\n",
              "    30% {\n",
              "      border-color: transparent;\n",
              "      border-left-color: var(--fill-color);\n",
              "      border-top-color: var(--fill-color);\n",
              "      border-right-color: var(--fill-color);\n",
              "    }\n",
              "    40% {\n",
              "      border-color: transparent;\n",
              "      border-right-color: var(--fill-color);\n",
              "      border-top-color: var(--fill-color);\n",
              "    }\n",
              "    60% {\n",
              "      border-color: transparent;\n",
              "      border-right-color: var(--fill-color);\n",
              "    }\n",
              "    80% {\n",
              "      border-color: transparent;\n",
              "      border-right-color: var(--fill-color);\n",
              "      border-bottom-color: var(--fill-color);\n",
              "    }\n",
              "    90% {\n",
              "      border-color: transparent;\n",
              "      border-bottom-color: var(--fill-color);\n",
              "    }\n",
              "  }\n",
              "</style>\n",
              "\n",
              "      <script>\n",
              "        async function quickchart(key) {\n",
              "          const quickchartButtonEl =\n",
              "            document.querySelector('#' + key + ' button');\n",
              "          quickchartButtonEl.disabled = true;  // To prevent multiple clicks.\n",
              "          quickchartButtonEl.classList.add('colab-df-spinner');\n",
              "          try {\n",
              "            const charts = await google.colab.kernel.invokeFunction(\n",
              "                'suggestCharts', [key], {});\n",
              "          } catch (error) {\n",
              "            console.error('Error during call to suggestCharts:', error);\n",
              "          }\n",
              "          quickchartButtonEl.classList.remove('colab-df-spinner');\n",
              "          quickchartButtonEl.classList.add('colab-df-quickchart-complete');\n",
              "        }\n",
              "        (() => {\n",
              "          let quickchartButtonEl =\n",
              "            document.querySelector('#df-ce5c2119-bea2-4d0d-a108-04569ba1c1df button');\n",
              "          quickchartButtonEl.style.display =\n",
              "            google.colab.kernel.accessAllowed ? 'block' : 'none';\n",
              "        })();\n",
              "      </script>\n",
              "    </div>\n",
              "\n",
              "    </div>\n",
              "  </div>\n"
            ],
            "application/vnd.google.colaboratory.intrinsic+json": {
              "type": "dataframe",
              "variable_name": "df"
            }
          },
          "metadata": {},
          "execution_count": 112
        }
      ]
    },
    {
      "cell_type": "code",
      "source": [
        "df.dtypes"
      ],
      "metadata": {
        "colab": {
          "base_uri": "https://localhost:8080/",
          "height": 742
        },
        "id": "Nf_WKTXsyimw",
        "outputId": "53e517cc-f3c0-48b6-e9ca-7668e3b1d131"
      },
      "execution_count": 113,
      "outputs": [
        {
          "output_type": "execute_result",
          "data": {
            "text/plain": [
              "ID_cliente                 object\n",
              "Churn                      object\n",
              "género                     object\n",
              "adulto_mayor                int64\n",
              "pareja                     object\n",
              "dependientes               object\n",
              "antigüedad_meses            int64\n",
              "servicio_telefonico        object\n",
              "lineas_multiples           object\n",
              "servicio_internet          object\n",
              "seguridad_online           object\n",
              "respaldo_online            object\n",
              "protección_dispositivo     object\n",
              "soporte_tecnico            object\n",
              "tv_streaming               object\n",
              "peliculas_streaming        object\n",
              "contrato                   object\n",
              "factura_electronica        object\n",
              "método_pago                object\n",
              "Charges.Monthly           float64\n",
              "Charges.Total              object\n",
              "dtype: object"
            ],
            "text/html": [
              "<div>\n",
              "<style scoped>\n",
              "    .dataframe tbody tr th:only-of-type {\n",
              "        vertical-align: middle;\n",
              "    }\n",
              "\n",
              "    .dataframe tbody tr th {\n",
              "        vertical-align: top;\n",
              "    }\n",
              "\n",
              "    .dataframe thead th {\n",
              "        text-align: right;\n",
              "    }\n",
              "</style>\n",
              "<table border=\"1\" class=\"dataframe\">\n",
              "  <thead>\n",
              "    <tr style=\"text-align: right;\">\n",
              "      <th></th>\n",
              "      <th>0</th>\n",
              "    </tr>\n",
              "  </thead>\n",
              "  <tbody>\n",
              "    <tr>\n",
              "      <th>ID_cliente</th>\n",
              "      <td>object</td>\n",
              "    </tr>\n",
              "    <tr>\n",
              "      <th>Churn</th>\n",
              "      <td>object</td>\n",
              "    </tr>\n",
              "    <tr>\n",
              "      <th>género</th>\n",
              "      <td>object</td>\n",
              "    </tr>\n",
              "    <tr>\n",
              "      <th>adulto_mayor</th>\n",
              "      <td>int64</td>\n",
              "    </tr>\n",
              "    <tr>\n",
              "      <th>pareja</th>\n",
              "      <td>object</td>\n",
              "    </tr>\n",
              "    <tr>\n",
              "      <th>dependientes</th>\n",
              "      <td>object</td>\n",
              "    </tr>\n",
              "    <tr>\n",
              "      <th>antigüedad_meses</th>\n",
              "      <td>int64</td>\n",
              "    </tr>\n",
              "    <tr>\n",
              "      <th>servicio_telefonico</th>\n",
              "      <td>object</td>\n",
              "    </tr>\n",
              "    <tr>\n",
              "      <th>lineas_multiples</th>\n",
              "      <td>object</td>\n",
              "    </tr>\n",
              "    <tr>\n",
              "      <th>servicio_internet</th>\n",
              "      <td>object</td>\n",
              "    </tr>\n",
              "    <tr>\n",
              "      <th>seguridad_online</th>\n",
              "      <td>object</td>\n",
              "    </tr>\n",
              "    <tr>\n",
              "      <th>respaldo_online</th>\n",
              "      <td>object</td>\n",
              "    </tr>\n",
              "    <tr>\n",
              "      <th>protección_dispositivo</th>\n",
              "      <td>object</td>\n",
              "    </tr>\n",
              "    <tr>\n",
              "      <th>soporte_tecnico</th>\n",
              "      <td>object</td>\n",
              "    </tr>\n",
              "    <tr>\n",
              "      <th>tv_streaming</th>\n",
              "      <td>object</td>\n",
              "    </tr>\n",
              "    <tr>\n",
              "      <th>peliculas_streaming</th>\n",
              "      <td>object</td>\n",
              "    </tr>\n",
              "    <tr>\n",
              "      <th>contrato</th>\n",
              "      <td>object</td>\n",
              "    </tr>\n",
              "    <tr>\n",
              "      <th>factura_electronica</th>\n",
              "      <td>object</td>\n",
              "    </tr>\n",
              "    <tr>\n",
              "      <th>método_pago</th>\n",
              "      <td>object</td>\n",
              "    </tr>\n",
              "    <tr>\n",
              "      <th>Charges.Monthly</th>\n",
              "      <td>float64</td>\n",
              "    </tr>\n",
              "    <tr>\n",
              "      <th>Charges.Total</th>\n",
              "      <td>object</td>\n",
              "    </tr>\n",
              "  </tbody>\n",
              "</table>\n",
              "</div><br><label><b>dtype:</b> object</label>"
            ]
          },
          "metadata": {},
          "execution_count": 113
        }
      ]
    },
    {
      "cell_type": "code",
      "source": [
        "df['Charges.Total'] = pd.to_numeric(df['Charges.Total'], errors='coerce')"
      ],
      "metadata": {
        "id": "JcH1nkPVyi6q"
      },
      "execution_count": 114,
      "outputs": []
    },
    {
      "cell_type": "code",
      "source": [
        "df['Charges.Total'].isna().sum()"
      ],
      "metadata": {
        "colab": {
          "base_uri": "https://localhost:8080/"
        },
        "id": "jPkYm6oi8tSe",
        "outputId": "a4162b38-dc60-419f-8ba6-77f90a616dea"
      },
      "execution_count": 115,
      "outputs": [
        {
          "output_type": "execute_result",
          "data": {
            "text/plain": [
              "np.int64(11)"
            ]
          },
          "metadata": {},
          "execution_count": 115
        }
      ]
    },
    {
      "cell_type": "code",
      "source": [
        "df.dtypes"
      ],
      "metadata": {
        "colab": {
          "base_uri": "https://localhost:8080/",
          "height": 742
        },
        "id": "Y7WuMqjR8tju",
        "outputId": "a4ec4577-79f3-4f5d-a681-d54b7b0994e4"
      },
      "execution_count": 116,
      "outputs": [
        {
          "output_type": "execute_result",
          "data": {
            "text/plain": [
              "ID_cliente                 object\n",
              "Churn                      object\n",
              "género                     object\n",
              "adulto_mayor                int64\n",
              "pareja                     object\n",
              "dependientes               object\n",
              "antigüedad_meses            int64\n",
              "servicio_telefonico        object\n",
              "lineas_multiples           object\n",
              "servicio_internet          object\n",
              "seguridad_online           object\n",
              "respaldo_online            object\n",
              "protección_dispositivo     object\n",
              "soporte_tecnico            object\n",
              "tv_streaming               object\n",
              "peliculas_streaming        object\n",
              "contrato                   object\n",
              "factura_electronica        object\n",
              "método_pago                object\n",
              "Charges.Monthly           float64\n",
              "Charges.Total             float64\n",
              "dtype: object"
            ],
            "text/html": [
              "<div>\n",
              "<style scoped>\n",
              "    .dataframe tbody tr th:only-of-type {\n",
              "        vertical-align: middle;\n",
              "    }\n",
              "\n",
              "    .dataframe tbody tr th {\n",
              "        vertical-align: top;\n",
              "    }\n",
              "\n",
              "    .dataframe thead th {\n",
              "        text-align: right;\n",
              "    }\n",
              "</style>\n",
              "<table border=\"1\" class=\"dataframe\">\n",
              "  <thead>\n",
              "    <tr style=\"text-align: right;\">\n",
              "      <th></th>\n",
              "      <th>0</th>\n",
              "    </tr>\n",
              "  </thead>\n",
              "  <tbody>\n",
              "    <tr>\n",
              "      <th>ID_cliente</th>\n",
              "      <td>object</td>\n",
              "    </tr>\n",
              "    <tr>\n",
              "      <th>Churn</th>\n",
              "      <td>object</td>\n",
              "    </tr>\n",
              "    <tr>\n",
              "      <th>género</th>\n",
              "      <td>object</td>\n",
              "    </tr>\n",
              "    <tr>\n",
              "      <th>adulto_mayor</th>\n",
              "      <td>int64</td>\n",
              "    </tr>\n",
              "    <tr>\n",
              "      <th>pareja</th>\n",
              "      <td>object</td>\n",
              "    </tr>\n",
              "    <tr>\n",
              "      <th>dependientes</th>\n",
              "      <td>object</td>\n",
              "    </tr>\n",
              "    <tr>\n",
              "      <th>antigüedad_meses</th>\n",
              "      <td>int64</td>\n",
              "    </tr>\n",
              "    <tr>\n",
              "      <th>servicio_telefonico</th>\n",
              "      <td>object</td>\n",
              "    </tr>\n",
              "    <tr>\n",
              "      <th>lineas_multiples</th>\n",
              "      <td>object</td>\n",
              "    </tr>\n",
              "    <tr>\n",
              "      <th>servicio_internet</th>\n",
              "      <td>object</td>\n",
              "    </tr>\n",
              "    <tr>\n",
              "      <th>seguridad_online</th>\n",
              "      <td>object</td>\n",
              "    </tr>\n",
              "    <tr>\n",
              "      <th>respaldo_online</th>\n",
              "      <td>object</td>\n",
              "    </tr>\n",
              "    <tr>\n",
              "      <th>protección_dispositivo</th>\n",
              "      <td>object</td>\n",
              "    </tr>\n",
              "    <tr>\n",
              "      <th>soporte_tecnico</th>\n",
              "      <td>object</td>\n",
              "    </tr>\n",
              "    <tr>\n",
              "      <th>tv_streaming</th>\n",
              "      <td>object</td>\n",
              "    </tr>\n",
              "    <tr>\n",
              "      <th>peliculas_streaming</th>\n",
              "      <td>object</td>\n",
              "    </tr>\n",
              "    <tr>\n",
              "      <th>contrato</th>\n",
              "      <td>object</td>\n",
              "    </tr>\n",
              "    <tr>\n",
              "      <th>factura_electronica</th>\n",
              "      <td>object</td>\n",
              "    </tr>\n",
              "    <tr>\n",
              "      <th>método_pago</th>\n",
              "      <td>object</td>\n",
              "    </tr>\n",
              "    <tr>\n",
              "      <th>Charges.Monthly</th>\n",
              "      <td>float64</td>\n",
              "    </tr>\n",
              "    <tr>\n",
              "      <th>Charges.Total</th>\n",
              "      <td>float64</td>\n",
              "    </tr>\n",
              "  </tbody>\n",
              "</table>\n",
              "</div><br><label><b>dtype:</b> object</label>"
            ]
          },
          "metadata": {},
          "execution_count": 116
        }
      ]
    },
    {
      "cell_type": "code",
      "source": [
        "df.info()"
      ],
      "metadata": {
        "colab": {
          "base_uri": "https://localhost:8080/"
        },
        "id": "hYLAfB_IrGSD",
        "outputId": "29f0ec09-72e7-4fbf-c06f-45993b4d3c67"
      },
      "execution_count": 117,
      "outputs": [
        {
          "output_type": "stream",
          "name": "stdout",
          "text": [
            "<class 'pandas.core.frame.DataFrame'>\n",
            "RangeIndex: 7267 entries, 0 to 7266\n",
            "Data columns (total 21 columns):\n",
            " #   Column                  Non-Null Count  Dtype  \n",
            "---  ------                  --------------  -----  \n",
            " 0   ID_cliente              7267 non-null   object \n",
            " 1   Churn                   7267 non-null   object \n",
            " 2   género                  7267 non-null   object \n",
            " 3   adulto_mayor            7267 non-null   int64  \n",
            " 4   pareja                  7267 non-null   object \n",
            " 5   dependientes            7267 non-null   object \n",
            " 6   antigüedad_meses        7267 non-null   int64  \n",
            " 7   servicio_telefonico     7267 non-null   object \n",
            " 8   lineas_multiples        7267 non-null   object \n",
            " 9   servicio_internet       7267 non-null   object \n",
            " 10  seguridad_online        7267 non-null   object \n",
            " 11  respaldo_online         7267 non-null   object \n",
            " 12  protección_dispositivo  7267 non-null   object \n",
            " 13  soporte_tecnico         7267 non-null   object \n",
            " 14  tv_streaming            7267 non-null   object \n",
            " 15  peliculas_streaming     7267 non-null   object \n",
            " 16  contrato                7267 non-null   object \n",
            " 17  factura_electronica     7267 non-null   object \n",
            " 18  método_pago             7267 non-null   object \n",
            " 19  Charges.Monthly         7267 non-null   float64\n",
            " 20  Charges.Total           7256 non-null   float64\n",
            "dtypes: float64(2), int64(2), object(17)\n",
            "memory usage: 1.2+ MB\n"
          ]
        }
      ]
    },
    {
      "cell_type": "code",
      "source": [
        "df.info()"
      ],
      "metadata": {
        "colab": {
          "base_uri": "https://localhost:8080/"
        },
        "id": "nmbbfvUi1NuI",
        "outputId": "c1f8dcc0-1481-4d95-d63b-8fb828bd6f78"
      },
      "execution_count": 118,
      "outputs": [
        {
          "output_type": "stream",
          "name": "stdout",
          "text": [
            "<class 'pandas.core.frame.DataFrame'>\n",
            "RangeIndex: 7267 entries, 0 to 7266\n",
            "Data columns (total 21 columns):\n",
            " #   Column                  Non-Null Count  Dtype  \n",
            "---  ------                  --------------  -----  \n",
            " 0   ID_cliente              7267 non-null   object \n",
            " 1   Churn                   7267 non-null   object \n",
            " 2   género                  7267 non-null   object \n",
            " 3   adulto_mayor            7267 non-null   int64  \n",
            " 4   pareja                  7267 non-null   object \n",
            " 5   dependientes            7267 non-null   object \n",
            " 6   antigüedad_meses        7267 non-null   int64  \n",
            " 7   servicio_telefonico     7267 non-null   object \n",
            " 8   lineas_multiples        7267 non-null   object \n",
            " 9   servicio_internet       7267 non-null   object \n",
            " 10  seguridad_online        7267 non-null   object \n",
            " 11  respaldo_online         7267 non-null   object \n",
            " 12  protección_dispositivo  7267 non-null   object \n",
            " 13  soporte_tecnico         7267 non-null   object \n",
            " 14  tv_streaming            7267 non-null   object \n",
            " 15  peliculas_streaming     7267 non-null   object \n",
            " 16  contrato                7267 non-null   object \n",
            " 17  factura_electronica     7267 non-null   object \n",
            " 18  método_pago             7267 non-null   object \n",
            " 19  Charges.Monthly         7267 non-null   float64\n",
            " 20  Charges.Total           7256 non-null   float64\n",
            "dtypes: float64(2), int64(2), object(17)\n",
            "memory usage: 1.2+ MB\n"
          ]
        }
      ]
    },
    {
      "cell_type": "code",
      "source": [
        "df.isnull().sum()"
      ],
      "metadata": {
        "colab": {
          "base_uri": "https://localhost:8080/",
          "height": 742
        },
        "id": "9ip2kQCv1OKd",
        "outputId": "98fd571c-de73-42c6-a272-73dacde50a66"
      },
      "execution_count": 119,
      "outputs": [
        {
          "output_type": "execute_result",
          "data": {
            "text/plain": [
              "ID_cliente                 0\n",
              "Churn                      0\n",
              "género                     0\n",
              "adulto_mayor               0\n",
              "pareja                     0\n",
              "dependientes               0\n",
              "antigüedad_meses           0\n",
              "servicio_telefonico        0\n",
              "lineas_multiples           0\n",
              "servicio_internet          0\n",
              "seguridad_online           0\n",
              "respaldo_online            0\n",
              "protección_dispositivo     0\n",
              "soporte_tecnico            0\n",
              "tv_streaming               0\n",
              "peliculas_streaming        0\n",
              "contrato                   0\n",
              "factura_electronica        0\n",
              "método_pago                0\n",
              "Charges.Monthly            0\n",
              "Charges.Total             11\n",
              "dtype: int64"
            ],
            "text/html": [
              "<div>\n",
              "<style scoped>\n",
              "    .dataframe tbody tr th:only-of-type {\n",
              "        vertical-align: middle;\n",
              "    }\n",
              "\n",
              "    .dataframe tbody tr th {\n",
              "        vertical-align: top;\n",
              "    }\n",
              "\n",
              "    .dataframe thead th {\n",
              "        text-align: right;\n",
              "    }\n",
              "</style>\n",
              "<table border=\"1\" class=\"dataframe\">\n",
              "  <thead>\n",
              "    <tr style=\"text-align: right;\">\n",
              "      <th></th>\n",
              "      <th>0</th>\n",
              "    </tr>\n",
              "  </thead>\n",
              "  <tbody>\n",
              "    <tr>\n",
              "      <th>ID_cliente</th>\n",
              "      <td>0</td>\n",
              "    </tr>\n",
              "    <tr>\n",
              "      <th>Churn</th>\n",
              "      <td>0</td>\n",
              "    </tr>\n",
              "    <tr>\n",
              "      <th>género</th>\n",
              "      <td>0</td>\n",
              "    </tr>\n",
              "    <tr>\n",
              "      <th>adulto_mayor</th>\n",
              "      <td>0</td>\n",
              "    </tr>\n",
              "    <tr>\n",
              "      <th>pareja</th>\n",
              "      <td>0</td>\n",
              "    </tr>\n",
              "    <tr>\n",
              "      <th>dependientes</th>\n",
              "      <td>0</td>\n",
              "    </tr>\n",
              "    <tr>\n",
              "      <th>antigüedad_meses</th>\n",
              "      <td>0</td>\n",
              "    </tr>\n",
              "    <tr>\n",
              "      <th>servicio_telefonico</th>\n",
              "      <td>0</td>\n",
              "    </tr>\n",
              "    <tr>\n",
              "      <th>lineas_multiples</th>\n",
              "      <td>0</td>\n",
              "    </tr>\n",
              "    <tr>\n",
              "      <th>servicio_internet</th>\n",
              "      <td>0</td>\n",
              "    </tr>\n",
              "    <tr>\n",
              "      <th>seguridad_online</th>\n",
              "      <td>0</td>\n",
              "    </tr>\n",
              "    <tr>\n",
              "      <th>respaldo_online</th>\n",
              "      <td>0</td>\n",
              "    </tr>\n",
              "    <tr>\n",
              "      <th>protección_dispositivo</th>\n",
              "      <td>0</td>\n",
              "    </tr>\n",
              "    <tr>\n",
              "      <th>soporte_tecnico</th>\n",
              "      <td>0</td>\n",
              "    </tr>\n",
              "    <tr>\n",
              "      <th>tv_streaming</th>\n",
              "      <td>0</td>\n",
              "    </tr>\n",
              "    <tr>\n",
              "      <th>peliculas_streaming</th>\n",
              "      <td>0</td>\n",
              "    </tr>\n",
              "    <tr>\n",
              "      <th>contrato</th>\n",
              "      <td>0</td>\n",
              "    </tr>\n",
              "    <tr>\n",
              "      <th>factura_electronica</th>\n",
              "      <td>0</td>\n",
              "    </tr>\n",
              "    <tr>\n",
              "      <th>método_pago</th>\n",
              "      <td>0</td>\n",
              "    </tr>\n",
              "    <tr>\n",
              "      <th>Charges.Monthly</th>\n",
              "      <td>0</td>\n",
              "    </tr>\n",
              "    <tr>\n",
              "      <th>Charges.Total</th>\n",
              "      <td>11</td>\n",
              "    </tr>\n",
              "  </tbody>\n",
              "</table>\n",
              "</div><br><label><b>dtype:</b> int64</label>"
            ]
          },
          "metadata": {},
          "execution_count": 119
        }
      ]
    },
    {
      "cell_type": "code",
      "source": [
        "df = df.dropna(subset=['Charges.Total'])"
      ],
      "metadata": {
        "id": "Ah817r3C7gyq"
      },
      "execution_count": 120,
      "outputs": []
    },
    {
      "cell_type": "code",
      "source": [
        "df.isnull().sum()"
      ],
      "metadata": {
        "colab": {
          "base_uri": "https://localhost:8080/",
          "height": 742
        },
        "id": "I_Oi_JcV8eIv",
        "outputId": "a9165976-a24a-4074-87d0-1c9a72914817"
      },
      "execution_count": 121,
      "outputs": [
        {
          "output_type": "execute_result",
          "data": {
            "text/plain": [
              "ID_cliente                0\n",
              "Churn                     0\n",
              "género                    0\n",
              "adulto_mayor              0\n",
              "pareja                    0\n",
              "dependientes              0\n",
              "antigüedad_meses          0\n",
              "servicio_telefonico       0\n",
              "lineas_multiples          0\n",
              "servicio_internet         0\n",
              "seguridad_online          0\n",
              "respaldo_online           0\n",
              "protección_dispositivo    0\n",
              "soporte_tecnico           0\n",
              "tv_streaming              0\n",
              "peliculas_streaming       0\n",
              "contrato                  0\n",
              "factura_electronica       0\n",
              "método_pago               0\n",
              "Charges.Monthly           0\n",
              "Charges.Total             0\n",
              "dtype: int64"
            ],
            "text/html": [
              "<div>\n",
              "<style scoped>\n",
              "    .dataframe tbody tr th:only-of-type {\n",
              "        vertical-align: middle;\n",
              "    }\n",
              "\n",
              "    .dataframe tbody tr th {\n",
              "        vertical-align: top;\n",
              "    }\n",
              "\n",
              "    .dataframe thead th {\n",
              "        text-align: right;\n",
              "    }\n",
              "</style>\n",
              "<table border=\"1\" class=\"dataframe\">\n",
              "  <thead>\n",
              "    <tr style=\"text-align: right;\">\n",
              "      <th></th>\n",
              "      <th>0</th>\n",
              "    </tr>\n",
              "  </thead>\n",
              "  <tbody>\n",
              "    <tr>\n",
              "      <th>ID_cliente</th>\n",
              "      <td>0</td>\n",
              "    </tr>\n",
              "    <tr>\n",
              "      <th>Churn</th>\n",
              "      <td>0</td>\n",
              "    </tr>\n",
              "    <tr>\n",
              "      <th>género</th>\n",
              "      <td>0</td>\n",
              "    </tr>\n",
              "    <tr>\n",
              "      <th>adulto_mayor</th>\n",
              "      <td>0</td>\n",
              "    </tr>\n",
              "    <tr>\n",
              "      <th>pareja</th>\n",
              "      <td>0</td>\n",
              "    </tr>\n",
              "    <tr>\n",
              "      <th>dependientes</th>\n",
              "      <td>0</td>\n",
              "    </tr>\n",
              "    <tr>\n",
              "      <th>antigüedad_meses</th>\n",
              "      <td>0</td>\n",
              "    </tr>\n",
              "    <tr>\n",
              "      <th>servicio_telefonico</th>\n",
              "      <td>0</td>\n",
              "    </tr>\n",
              "    <tr>\n",
              "      <th>lineas_multiples</th>\n",
              "      <td>0</td>\n",
              "    </tr>\n",
              "    <tr>\n",
              "      <th>servicio_internet</th>\n",
              "      <td>0</td>\n",
              "    </tr>\n",
              "    <tr>\n",
              "      <th>seguridad_online</th>\n",
              "      <td>0</td>\n",
              "    </tr>\n",
              "    <tr>\n",
              "      <th>respaldo_online</th>\n",
              "      <td>0</td>\n",
              "    </tr>\n",
              "    <tr>\n",
              "      <th>protección_dispositivo</th>\n",
              "      <td>0</td>\n",
              "    </tr>\n",
              "    <tr>\n",
              "      <th>soporte_tecnico</th>\n",
              "      <td>0</td>\n",
              "    </tr>\n",
              "    <tr>\n",
              "      <th>tv_streaming</th>\n",
              "      <td>0</td>\n",
              "    </tr>\n",
              "    <tr>\n",
              "      <th>peliculas_streaming</th>\n",
              "      <td>0</td>\n",
              "    </tr>\n",
              "    <tr>\n",
              "      <th>contrato</th>\n",
              "      <td>0</td>\n",
              "    </tr>\n",
              "    <tr>\n",
              "      <th>factura_electronica</th>\n",
              "      <td>0</td>\n",
              "    </tr>\n",
              "    <tr>\n",
              "      <th>método_pago</th>\n",
              "      <td>0</td>\n",
              "    </tr>\n",
              "    <tr>\n",
              "      <th>Charges.Monthly</th>\n",
              "      <td>0</td>\n",
              "    </tr>\n",
              "    <tr>\n",
              "      <th>Charges.Total</th>\n",
              "      <td>0</td>\n",
              "    </tr>\n",
              "  </tbody>\n",
              "</table>\n",
              "</div><br><label><b>dtype:</b> int64</label>"
            ]
          },
          "metadata": {},
          "execution_count": 121
        }
      ]
    },
    {
      "cell_type": "code",
      "source": [],
      "metadata": {
        "id": "vGBlXk_HPOR5"
      },
      "execution_count": 121,
      "outputs": []
    },
    {
      "cell_type": "markdown",
      "source": [
        "### Limpieza de datos"
      ],
      "metadata": {
        "id": "UVBr_VacPPTL"
      }
    },
    {
      "cell_type": "code",
      "source": [
        "columnas_categoricas = [\n",
        "    'género', 'adulto_mayor', 'pareja', 'dependientes',\n",
        "    'servicio_telefonico', 'lineas_multiples', 'servicio_internet',\n",
        "    'seguridad_online', 'respaldo_online', 'protección_dispositivo',\n",
        "    'soporte_tecnico', 'tv_streaming', 'peliculas_streaming',\n",
        "    'contrato', 'factura_electronica', 'método_pago', 'Churn'\n",
        "]\n",
        "\n",
        "for columna in columnas_categoricas:\n",
        "    print(f\"{columna}: {df[columna].unique()}\\n\")"
      ],
      "metadata": {
        "id": "zp5_kal88eRw",
        "colab": {
          "base_uri": "https://localhost:8080/"
        },
        "outputId": "1f64a269-8d8c-4635-ab29-a4b42bf88903"
      },
      "execution_count": 122,
      "outputs": [
        {
          "output_type": "stream",
          "name": "stdout",
          "text": [
            "género: ['Mujer' 'Hombre']\n",
            "\n",
            "adulto_mayor: [0 1]\n",
            "\n",
            "pareja: ['Sí' 'No']\n",
            "\n",
            "dependientes: ['Sí' 'No']\n",
            "\n",
            "servicio_telefonico: ['Sí' 'No']\n",
            "\n",
            "lineas_multiples: ['No' 'Sí' 'Sin servicio telefónico']\n",
            "\n",
            "servicio_internet: ['DSL' 'Fibra óptica' 'No']\n",
            "\n",
            "seguridad_online: ['No' 'Sí' 'Sin servicio de internet']\n",
            "\n",
            "respaldo_online: ['Sí' 'No' 'Sin servicio de internet']\n",
            "\n",
            "protección_dispositivo: ['No' 'Sí' 'Sin servicio de internet']\n",
            "\n",
            "soporte_tecnico: ['Sí' 'No' 'Sin servicio de internet']\n",
            "\n",
            "tv_streaming: ['Sí' 'No' 'Sin servicio de internet']\n",
            "\n",
            "peliculas_streaming: ['No' 'Sí' 'Sin servicio de internet']\n",
            "\n",
            "contrato: ['Un año' 'Mes a mes' 'Dos años']\n",
            "\n",
            "factura_electronica: ['Sí' 'No']\n",
            "\n",
            "método_pago: ['Cheque por correo' 'Cheque electrónico'\n",
            " 'Tarjeta de crédito (automática)' 'Transferencia bancaria (automática)']\n",
            "\n",
            "Churn: ['No' 'Sí' '']\n",
            "\n"
          ]
        }
      ]
    },
    {
      "cell_type": "code",
      "source": [
        "columnas_servicios = [\n",
        "    'seguridad_online', 'respaldo_online', 'protección_dispositivo',\n",
        "    'soporte_tecnico', 'tv_streaming', 'peliculas_streaming'\n",
        "]\n",
        "\n",
        "for col in columnas_servicios:\n",
        "    df[col] = df[col].replace('Sin servicio de internet', 'No')"
      ],
      "metadata": {
        "id": "XTNRl26MFDxv"
      },
      "execution_count": 123,
      "outputs": []
    },
    {
      "cell_type": "code",
      "source": [
        "import numpy as np\n",
        "df['Churn']=df['Churn'].replace('',np.nan)"
      ],
      "metadata": {
        "id": "lM4t-GgjFFgT"
      },
      "execution_count": 124,
      "outputs": []
    },
    {
      "cell_type": "code",
      "source": [
        "df['Churn'].isnull().sum()"
      ],
      "metadata": {
        "id": "s4qCSlRnFGG6",
        "colab": {
          "base_uri": "https://localhost:8080/"
        },
        "outputId": "27c26be7-125c-411d-9392-29e471e194e3"
      },
      "execution_count": 125,
      "outputs": [
        {
          "output_type": "execute_result",
          "data": {
            "text/plain": [
              "np.int64(224)"
            ]
          },
          "metadata": {},
          "execution_count": 125
        }
      ]
    },
    {
      "cell_type": "code",
      "source": [
        "import numpy as np\n",
        "df['Churn']=df['Churn'].replace('',np.nan)"
      ],
      "metadata": {
        "id": "tFbLgJOHGPZb"
      },
      "execution_count": 126,
      "outputs": []
    },
    {
      "cell_type": "code",
      "source": [
        "df['Churn'].isna().sum()"
      ],
      "metadata": {
        "colab": {
          "base_uri": "https://localhost:8080/"
        },
        "id": "DlV43xHKHenT",
        "outputId": "8426a71d-c300-495a-a2cb-ee342691a984"
      },
      "execution_count": 127,
      "outputs": [
        {
          "output_type": "execute_result",
          "data": {
            "text/plain": [
              "np.int64(224)"
            ]
          },
          "metadata": {},
          "execution_count": 127
        }
      ]
    },
    {
      "cell_type": "code",
      "source": [
        "df.dropna(subset=['Churn'], inplace=True)"
      ],
      "metadata": {
        "id": "wSRT5QtIHe0A"
      },
      "execution_count": 128,
      "outputs": []
    },
    {
      "cell_type": "code",
      "source": [
        "df['Churn'].isnull().sum()"
      ],
      "metadata": {
        "colab": {
          "base_uri": "https://localhost:8080/"
        },
        "id": "-mBc_oDbHe-j",
        "outputId": "a3940aee-5f91-480e-c271-5a9e3629f135"
      },
      "execution_count": 129,
      "outputs": [
        {
          "output_type": "execute_result",
          "data": {
            "text/plain": [
              "np.int64(0)"
            ]
          },
          "metadata": {},
          "execution_count": 129
        }
      ]
    },
    {
      "cell_type": "code",
      "source": [
        "df['Churn'].value_counts()"
      ],
      "metadata": {
        "colab": {
          "base_uri": "https://localhost:8080/",
          "height": 178
        },
        "id": "ZV4l8MXTOWBG",
        "outputId": "90ed556e-808b-4a7a-8100-c1edb3547365"
      },
      "execution_count": 130,
      "outputs": [
        {
          "output_type": "execute_result",
          "data": {
            "text/plain": [
              "Churn\n",
              "No    5163\n",
              "Sí    1869\n",
              "Name: count, dtype: int64"
            ],
            "text/html": [
              "<div>\n",
              "<style scoped>\n",
              "    .dataframe tbody tr th:only-of-type {\n",
              "        vertical-align: middle;\n",
              "    }\n",
              "\n",
              "    .dataframe tbody tr th {\n",
              "        vertical-align: top;\n",
              "    }\n",
              "\n",
              "    .dataframe thead th {\n",
              "        text-align: right;\n",
              "    }\n",
              "</style>\n",
              "<table border=\"1\" class=\"dataframe\">\n",
              "  <thead>\n",
              "    <tr style=\"text-align: right;\">\n",
              "      <th></th>\n",
              "      <th>count</th>\n",
              "    </tr>\n",
              "    <tr>\n",
              "      <th>Churn</th>\n",
              "      <th></th>\n",
              "    </tr>\n",
              "  </thead>\n",
              "  <tbody>\n",
              "    <tr>\n",
              "      <th>No</th>\n",
              "      <td>5163</td>\n",
              "    </tr>\n",
              "    <tr>\n",
              "      <th>Sí</th>\n",
              "      <td>1869</td>\n",
              "    </tr>\n",
              "  </tbody>\n",
              "</table>\n",
              "</div><br><label><b>dtype:</b> int64</label>"
            ]
          },
          "metadata": {},
          "execution_count": 130
        }
      ]
    },
    {
      "cell_type": "code",
      "source": [],
      "metadata": {
        "id": "SfgAhVteOWJ8"
      },
      "execution_count": 130,
      "outputs": []
    },
    {
      "cell_type": "markdown",
      "source": [
        "### Manejo de inconsistencias"
      ],
      "metadata": {
        "id": "vjGwPJFJSGV0"
      }
    },
    {
      "cell_type": "code",
      "source": [
        "df.select_dtypes(include='object').nunique()"
      ],
      "metadata": {
        "id": "DswNnIjiOWSj",
        "colab": {
          "base_uri": "https://localhost:8080/",
          "height": 617
        },
        "outputId": "0aa5c2d8-de05-4e32-9077-cef68e7766a5"
      },
      "execution_count": 131,
      "outputs": [
        {
          "output_type": "execute_result",
          "data": {
            "text/plain": [
              "ID_cliente                7032\n",
              "Churn                        2\n",
              "género                       2\n",
              "pareja                       2\n",
              "dependientes                 2\n",
              "servicio_telefonico          2\n",
              "lineas_multiples             3\n",
              "servicio_internet            3\n",
              "seguridad_online             2\n",
              "respaldo_online              2\n",
              "protección_dispositivo       2\n",
              "soporte_tecnico              2\n",
              "tv_streaming                 2\n",
              "peliculas_streaming          2\n",
              "contrato                     3\n",
              "factura_electronica          2\n",
              "método_pago                  4\n",
              "dtype: int64"
            ],
            "text/html": [
              "<div>\n",
              "<style scoped>\n",
              "    .dataframe tbody tr th:only-of-type {\n",
              "        vertical-align: middle;\n",
              "    }\n",
              "\n",
              "    .dataframe tbody tr th {\n",
              "        vertical-align: top;\n",
              "    }\n",
              "\n",
              "    .dataframe thead th {\n",
              "        text-align: right;\n",
              "    }\n",
              "</style>\n",
              "<table border=\"1\" class=\"dataframe\">\n",
              "  <thead>\n",
              "    <tr style=\"text-align: right;\">\n",
              "      <th></th>\n",
              "      <th>0</th>\n",
              "    </tr>\n",
              "  </thead>\n",
              "  <tbody>\n",
              "    <tr>\n",
              "      <th>ID_cliente</th>\n",
              "      <td>7032</td>\n",
              "    </tr>\n",
              "    <tr>\n",
              "      <th>Churn</th>\n",
              "      <td>2</td>\n",
              "    </tr>\n",
              "    <tr>\n",
              "      <th>género</th>\n",
              "      <td>2</td>\n",
              "    </tr>\n",
              "    <tr>\n",
              "      <th>pareja</th>\n",
              "      <td>2</td>\n",
              "    </tr>\n",
              "    <tr>\n",
              "      <th>dependientes</th>\n",
              "      <td>2</td>\n",
              "    </tr>\n",
              "    <tr>\n",
              "      <th>servicio_telefonico</th>\n",
              "      <td>2</td>\n",
              "    </tr>\n",
              "    <tr>\n",
              "      <th>lineas_multiples</th>\n",
              "      <td>3</td>\n",
              "    </tr>\n",
              "    <tr>\n",
              "      <th>servicio_internet</th>\n",
              "      <td>3</td>\n",
              "    </tr>\n",
              "    <tr>\n",
              "      <th>seguridad_online</th>\n",
              "      <td>2</td>\n",
              "    </tr>\n",
              "    <tr>\n",
              "      <th>respaldo_online</th>\n",
              "      <td>2</td>\n",
              "    </tr>\n",
              "    <tr>\n",
              "      <th>protección_dispositivo</th>\n",
              "      <td>2</td>\n",
              "    </tr>\n",
              "    <tr>\n",
              "      <th>soporte_tecnico</th>\n",
              "      <td>2</td>\n",
              "    </tr>\n",
              "    <tr>\n",
              "      <th>tv_streaming</th>\n",
              "      <td>2</td>\n",
              "    </tr>\n",
              "    <tr>\n",
              "      <th>peliculas_streaming</th>\n",
              "      <td>2</td>\n",
              "    </tr>\n",
              "    <tr>\n",
              "      <th>contrato</th>\n",
              "      <td>3</td>\n",
              "    </tr>\n",
              "    <tr>\n",
              "      <th>factura_electronica</th>\n",
              "      <td>2</td>\n",
              "    </tr>\n",
              "    <tr>\n",
              "      <th>método_pago</th>\n",
              "      <td>4</td>\n",
              "    </tr>\n",
              "  </tbody>\n",
              "</table>\n",
              "</div><br><label><b>dtype:</b> int64</label>"
            ]
          },
          "metadata": {},
          "execution_count": 131
        }
      ]
    },
    {
      "cell_type": "code",
      "source": [
        "df['lineas_multiples'].unique()"
      ],
      "metadata": {
        "colab": {
          "base_uri": "https://localhost:8080/"
        },
        "id": "tVpOz-Tu5gAb",
        "outputId": "c8180a0c-69ac-4140-ec96-625a242afab6"
      },
      "execution_count": 132,
      "outputs": [
        {
          "output_type": "execute_result",
          "data": {
            "text/plain": [
              "array(['No', 'Sí', 'Sin servicio telefónico'], dtype=object)"
            ]
          },
          "metadata": {},
          "execution_count": 132
        }
      ]
    },
    {
      "cell_type": "code",
      "source": [
        "df['lineas_multiples'] = df['lineas_multiples'].replace('Sin servicio telefónico', 'No')"
      ],
      "metadata": {
        "id": "xkEceqEB_fox"
      },
      "execution_count": 133,
      "outputs": []
    },
    {
      "cell_type": "code",
      "source": [
        "df['lineas_multiples'].unique()\n"
      ],
      "metadata": {
        "colab": {
          "base_uri": "https://localhost:8080/"
        },
        "id": "Di2UX1vw_fuS",
        "outputId": "a986de70-71ef-45c3-8409-b0c9d99ec0d1"
      },
      "execution_count": 134,
      "outputs": [
        {
          "output_type": "execute_result",
          "data": {
            "text/plain": [
              "array(['No', 'Sí'], dtype=object)"
            ]
          },
          "metadata": {},
          "execution_count": 134
        }
      ]
    },
    {
      "cell_type": "code",
      "source": [
        "df['servicio_internet'].unique()\n"
      ],
      "metadata": {
        "colab": {
          "base_uri": "https://localhost:8080/"
        },
        "id": "EoIWxQLP_f0g",
        "outputId": "3d49b8ff-1ff1-4782-b6b3-2cf7c42a74c5"
      },
      "execution_count": 135,
      "outputs": [
        {
          "output_type": "execute_result",
          "data": {
            "text/plain": [
              "array(['DSL', 'Fibra óptica', 'No'], dtype=object)"
            ]
          },
          "metadata": {},
          "execution_count": 135
        }
      ]
    },
    {
      "cell_type": "code",
      "source": [
        "df['contrato'].unique()\n"
      ],
      "metadata": {
        "colab": {
          "base_uri": "https://localhost:8080/"
        },
        "id": "xjXwGxmq_gMT",
        "outputId": "b3dc3c0d-9c1d-4735-c9de-9d1a47fa7872"
      },
      "execution_count": 136,
      "outputs": [
        {
          "output_type": "execute_result",
          "data": {
            "text/plain": [
              "array(['Un año', 'Mes a mes', 'Dos años'], dtype=object)"
            ]
          },
          "metadata": {},
          "execution_count": 136
        }
      ]
    },
    {
      "cell_type": "code",
      "source": [
        "df['método_pago'].unique()\n"
      ],
      "metadata": {
        "colab": {
          "base_uri": "https://localhost:8080/"
        },
        "id": "zx4R4zZ-CVc1",
        "outputId": "2b03a27b-249f-4577-e5c2-3a9bbf2c5c98"
      },
      "execution_count": 137,
      "outputs": [
        {
          "output_type": "execute_result",
          "data": {
            "text/plain": [
              "array(['Cheque por correo', 'Cheque electrónico',\n",
              "       'Tarjeta de crédito (automática)',\n",
              "       'Transferencia bancaria (automática)'], dtype=object)"
            ]
          },
          "metadata": {},
          "execution_count": 137
        }
      ]
    },
    {
      "cell_type": "code",
      "source": [
        "df.select_dtypes(include='object').nunique()"
      ],
      "metadata": {
        "colab": {
          "base_uri": "https://localhost:8080/",
          "height": 617
        },
        "id": "6R7ByelsCViz",
        "outputId": "425e7d78-d315-4ac3-f0e0-d028099fd7a7"
      },
      "execution_count": 138,
      "outputs": [
        {
          "output_type": "execute_result",
          "data": {
            "text/plain": [
              "ID_cliente                7032\n",
              "Churn                        2\n",
              "género                       2\n",
              "pareja                       2\n",
              "dependientes                 2\n",
              "servicio_telefonico          2\n",
              "lineas_multiples             2\n",
              "servicio_internet            3\n",
              "seguridad_online             2\n",
              "respaldo_online              2\n",
              "protección_dispositivo       2\n",
              "soporte_tecnico              2\n",
              "tv_streaming                 2\n",
              "peliculas_streaming          2\n",
              "contrato                     3\n",
              "factura_electronica          2\n",
              "método_pago                  4\n",
              "dtype: int64"
            ],
            "text/html": [
              "<div>\n",
              "<style scoped>\n",
              "    .dataframe tbody tr th:only-of-type {\n",
              "        vertical-align: middle;\n",
              "    }\n",
              "\n",
              "    .dataframe tbody tr th {\n",
              "        vertical-align: top;\n",
              "    }\n",
              "\n",
              "    .dataframe thead th {\n",
              "        text-align: right;\n",
              "    }\n",
              "</style>\n",
              "<table border=\"1\" class=\"dataframe\">\n",
              "  <thead>\n",
              "    <tr style=\"text-align: right;\">\n",
              "      <th></th>\n",
              "      <th>0</th>\n",
              "    </tr>\n",
              "  </thead>\n",
              "  <tbody>\n",
              "    <tr>\n",
              "      <th>ID_cliente</th>\n",
              "      <td>7032</td>\n",
              "    </tr>\n",
              "    <tr>\n",
              "      <th>Churn</th>\n",
              "      <td>2</td>\n",
              "    </tr>\n",
              "    <tr>\n",
              "      <th>género</th>\n",
              "      <td>2</td>\n",
              "    </tr>\n",
              "    <tr>\n",
              "      <th>pareja</th>\n",
              "      <td>2</td>\n",
              "    </tr>\n",
              "    <tr>\n",
              "      <th>dependientes</th>\n",
              "      <td>2</td>\n",
              "    </tr>\n",
              "    <tr>\n",
              "      <th>servicio_telefonico</th>\n",
              "      <td>2</td>\n",
              "    </tr>\n",
              "    <tr>\n",
              "      <th>lineas_multiples</th>\n",
              "      <td>2</td>\n",
              "    </tr>\n",
              "    <tr>\n",
              "      <th>servicio_internet</th>\n",
              "      <td>3</td>\n",
              "    </tr>\n",
              "    <tr>\n",
              "      <th>seguridad_online</th>\n",
              "      <td>2</td>\n",
              "    </tr>\n",
              "    <tr>\n",
              "      <th>respaldo_online</th>\n",
              "      <td>2</td>\n",
              "    </tr>\n",
              "    <tr>\n",
              "      <th>protección_dispositivo</th>\n",
              "      <td>2</td>\n",
              "    </tr>\n",
              "    <tr>\n",
              "      <th>soporte_tecnico</th>\n",
              "      <td>2</td>\n",
              "    </tr>\n",
              "    <tr>\n",
              "      <th>tv_streaming</th>\n",
              "      <td>2</td>\n",
              "    </tr>\n",
              "    <tr>\n",
              "      <th>peliculas_streaming</th>\n",
              "      <td>2</td>\n",
              "    </tr>\n",
              "    <tr>\n",
              "      <th>contrato</th>\n",
              "      <td>3</td>\n",
              "    </tr>\n",
              "    <tr>\n",
              "      <th>factura_electronica</th>\n",
              "      <td>2</td>\n",
              "    </tr>\n",
              "    <tr>\n",
              "      <th>método_pago</th>\n",
              "      <td>4</td>\n",
              "    </tr>\n",
              "  </tbody>\n",
              "</table>\n",
              "</div><br><label><b>dtype:</b> int64</label>"
            ]
          },
          "metadata": {},
          "execution_count": 138
        }
      ]
    },
    {
      "cell_type": "code",
      "source": [],
      "metadata": {
        "id": "s0eWqshrCVo2"
      },
      "execution_count": 138,
      "outputs": []
    },
    {
      "cell_type": "markdown",
      "source": [
        "### Convertir a minusculas y quitar espacios"
      ],
      "metadata": {
        "id": "HogelWSDNcMr"
      }
    },
    {
      "cell_type": "code",
      "source": [
        "print(df['contrato'].unique())\n",
        "print(df['método_pago'].unique())"
      ],
      "metadata": {
        "colab": {
          "base_uri": "https://localhost:8080/"
        },
        "id": "9o0IdX-cOFZH",
        "outputId": "13987736-7026-42d2-f9ea-5a058a03a968"
      },
      "execution_count": 139,
      "outputs": [
        {
          "output_type": "stream",
          "name": "stdout",
          "text": [
            "['Un año' 'Mes a mes' 'Dos años']\n",
            "['Cheque por correo' 'Cheque electrónico'\n",
            " 'Tarjeta de crédito (automática)' 'Transferencia bancaria (automática)']\n"
          ]
        }
      ]
    },
    {
      "cell_type": "code",
      "source": [
        "df['contrato'].apply(lambda x: f\"'{x}'\").unique()"
      ],
      "metadata": {
        "colab": {
          "base_uri": "https://localhost:8080/"
        },
        "id": "eDlKoGelO7fz",
        "outputId": "e41914b9-e3af-4b79-b7a9-a372a60d8664"
      },
      "execution_count": 140,
      "outputs": [
        {
          "output_type": "execute_result",
          "data": {
            "text/plain": [
              "array([\"'Un año'\", \"'Mes a mes'\", \"'Dos años'\"], dtype=object)"
            ]
          },
          "metadata": {},
          "execution_count": 140
        }
      ]
    },
    {
      "cell_type": "code",
      "source": [
        "df['contrato'] = df['contrato'].str.lower().str.strip()\n",
        "df['método_pago'] = df['método_pago'].str.lower().str.strip()"
      ],
      "metadata": {
        "id": "exoZT5W5CWLn"
      },
      "execution_count": 141,
      "outputs": []
    },
    {
      "cell_type": "code",
      "source": [
        "print(df['contrato'].unique())\n",
        "print(df['método_pago'].unique())"
      ],
      "metadata": {
        "id": "sh2yA7EPGBi7",
        "colab": {
          "base_uri": "https://localhost:8080/"
        },
        "outputId": "061ae9d3-9e84-433c-e6bf-24b601523e76"
      },
      "execution_count": 142,
      "outputs": [
        {
          "output_type": "stream",
          "name": "stdout",
          "text": [
            "['un año' 'mes a mes' 'dos años']\n",
            "['cheque por correo' 'cheque electrónico'\n",
            " 'tarjeta de crédito (automática)' 'transferencia bancaria (automática)']\n"
          ]
        }
      ]
    },
    {
      "cell_type": "code",
      "source": [
        "df.isnull().values.any()"
      ],
      "metadata": {
        "id": "-SA-HIHwGBrJ",
        "colab": {
          "base_uri": "https://localhost:8080/"
        },
        "outputId": "12b949aa-20ab-4b61-a0a9-6e872721f144"
      },
      "execution_count": 143,
      "outputs": [
        {
          "output_type": "execute_result",
          "data": {
            "text/plain": [
              "np.False_"
            ]
          },
          "metadata": {},
          "execution_count": 143
        }
      ]
    },
    {
      "cell_type": "code",
      "source": [
        "# Diccionario con las categorías válidas para cada columna\n",
        "valores_validos = {\n",
        "    'género': ['Masculino', 'Femenino'],\n",
        "    'adulto_mayor': ['Sí', 'No'],\n",
        "    'pareja': ['Sí', 'No'],\n",
        "    'dependientes': ['Sí', 'No'],\n",
        "    'servicio_telefonico': ['Sí', 'No'],\n",
        "    'lineas_multiples': ['Sí', 'No'],\n",
        "    'servicio_internet': ['DSL', 'Fibra óptica', 'Sin servicio'],\n",
        "    'seguridad_online': ['Sí', 'No'],\n",
        "    'respaldo_online': ['Sí', 'No'],\n",
        "    'protección_dispositivo': ['Sí', 'No'],\n",
        "    'soporte_tecnico': ['Sí', 'No'],\n",
        "    'tv_streaming': ['Sí', 'No'],\n",
        "    'peliculas_streaming': ['Sí', 'No'],\n",
        "    'contrato': ['Mes a mes', 'Contrato anual', 'Contrato bienal'],\n",
        "    'factura_electronica': ['Sí', 'No'],\n",
        "    'método_pago': ['Cheque por correo', 'Cheque electrónico', 'Tarjeta de crédito automática', 'Transferencia bancaria automática'],\n",
        "    'Churn': ['Sí', 'No']\n",
        "}\n",
        "\n",
        "# Crear un diccionario para almacenar las filas con valores inválidos por columna\n",
        "inconsistencias = {}\n",
        "\n",
        "for columna, valores in valores_validos.items():\n",
        "    filas_invalidas = df[~df[columna].isin(valores)]\n",
        "    if not filas_invalidas.empty:\n",
        "        inconsistencias[columna] = filas_invalidas\n",
        "\n",
        "# Mostrar reporte de inconsistencias\n",
        "if inconsistencias:\n",
        "    for col, filas in inconsistencias.items():\n",
        "        print(f\"---\\nValores inválidos en columna '{col}':\")\n",
        "        print(filas[[col]])\n",
        "else:\n",
        "    print(\"¡No se encontraron valores inválidos en las columnas categóricas!\")"
      ],
      "metadata": {
        "id": "8yGmaJltGBy7",
        "colab": {
          "base_uri": "https://localhost:8080/"
        },
        "outputId": "dd368f04-cc3b-4599-f9a1-6ce508c616bc"
      },
      "execution_count": 144,
      "outputs": [
        {
          "output_type": "stream",
          "name": "stdout",
          "text": [
            "---\n",
            "Valores inválidos en columna 'género':\n",
            "      género\n",
            "0      Mujer\n",
            "1     Hombre\n",
            "2     Hombre\n",
            "3     Hombre\n",
            "4      Mujer\n",
            "...      ...\n",
            "7262   Mujer\n",
            "7263  Hombre\n",
            "7264  Hombre\n",
            "7265  Hombre\n",
            "7266  Hombre\n",
            "\n",
            "[7032 rows x 1 columns]\n",
            "---\n",
            "Valores inválidos en columna 'adulto_mayor':\n",
            "      adulto_mayor\n",
            "0                0\n",
            "1                0\n",
            "2                0\n",
            "3                1\n",
            "4                1\n",
            "...            ...\n",
            "7262             0\n",
            "7263             0\n",
            "7264             0\n",
            "7265             0\n",
            "7266             0\n",
            "\n",
            "[7032 rows x 1 columns]\n",
            "---\n",
            "Valores inválidos en columna 'servicio_internet':\n",
            "     servicio_internet\n",
            "20                  No\n",
            "23                  No\n",
            "24                  No\n",
            "27                  No\n",
            "28                  No\n",
            "...                ...\n",
            "7250                No\n",
            "7252                No\n",
            "7256                No\n",
            "7257                No\n",
            "7261                No\n",
            "\n",
            "[1520 rows x 1 columns]\n",
            "---\n",
            "Valores inválidos en columna 'contrato':\n",
            "       contrato\n",
            "0        un año\n",
            "1     mes a mes\n",
            "2     mes a mes\n",
            "3     mes a mes\n",
            "4     mes a mes\n",
            "...         ...\n",
            "7262     un año\n",
            "7263  mes a mes\n",
            "7264  mes a mes\n",
            "7265   dos años\n",
            "7266   dos años\n",
            "\n",
            "[7032 rows x 1 columns]\n",
            "---\n",
            "Valores inválidos en columna 'método_pago':\n",
            "             método_pago\n",
            "0      cheque por correo\n",
            "1      cheque por correo\n",
            "2     cheque electrónico\n",
            "3     cheque electrónico\n",
            "4      cheque por correo\n",
            "...                  ...\n",
            "7262   cheque por correo\n",
            "7263  cheque electrónico\n",
            "7264   cheque por correo\n",
            "7265   cheque por correo\n",
            "7266  cheque electrónico\n",
            "\n",
            "[7032 rows x 1 columns]\n"
          ]
        }
      ]
    },
    {
      "cell_type": "code",
      "source": [
        "# Paso 1: Normalizar texto en las columnas categóricas (minúsculas y sin espacios)\n",
        "columnas_categoricas = [\n",
        "    'género', 'adulto_mayor', 'pareja', 'dependientes',\n",
        "    'servicio_telefonico', 'lineas_multiples', 'servicio_internet',\n",
        "    'seguridad_online', 'respaldo_online', 'protección_dispositivo',\n",
        "    'soporte_tecnico', 'tv_streaming', 'peliculas_streaming',\n",
        "    'contrato', 'factura_electronica', 'método_pago', 'Churn'\n",
        "]\n",
        "\n",
        "for col in columnas_categoricas:\n",
        "    df[col] = df[col].astype(str).str.lower().str.strip()\n",
        "\n",
        "# Paso 2: Reemplazar sinónimos o variantes para que coincidan con los valores válidos\n",
        "\n",
        "# Diccionario para reemplazos: clave = lo que aparece en data, valor = forma estándar\n",
        "reemplazos = {\n",
        "    # servicio_internet\n",
        "    'no': 'sin servicio',\n",
        "\n",
        "    # contrato\n",
        "    'un año': 'contrato anual',\n",
        "    'dos años': 'contrato bienal',\n",
        "    'mes a mes': 'mes a mes',\n",
        "\n",
        "    # método_pago\n",
        "    'cheque por correo': 'cheque por correo',\n",
        "    'cheque electrónico': 'cheque electrónico',\n",
        "    'tarjeta de crédito automática': 'tarjeta de crédito automática',\n",
        "    'transferencia bancaria automática': 'transferencia bancaria automática'\n",
        "}\n",
        "\n",
        "# Aplicar reemplazos solo en las columnas donde aplican\n",
        "df['servicio_internet'] = df['servicio_internet'].replace(reemplazos)\n",
        "df['contrato'] = df['contrato'].replace(reemplazos)\n",
        "df['método_pago'] = df['método_pago'].replace(reemplazos)\n",
        "\n",
        "# Paso 3: Actualizar listas de valores válidos en minúsculas para la validación\n",
        "\n",
        "valores_validos = {\n",
        "    'género': ['masculino', 'femenino'],\n",
        "    'adulto_mayor': ['sí', 'no'],\n",
        "    'pareja': ['sí', 'no'],\n",
        "    'dependientes': ['sí', 'no'],\n",
        "    'servicio_telefonico': ['sí', 'no'],\n",
        "    'lineas_multiples': ['sí', 'no'],\n",
        "    'servicio_internet': ['dsl', 'fibra óptica', 'sin servicio'],\n",
        "    'seguridad_online': ['sí', 'no'],\n",
        "    'respaldo_online': ['sí', 'no'],\n",
        "    'protección_dispositivo': ['sí', 'no'],\n",
        "    'soporte_tecnico': ['sí', 'no'],\n",
        "    'tv_streaming': ['sí', 'no'],\n",
        "    'peliculas_streaming': ['sí', 'no'],\n",
        "    'contrato': ['mes a mes', 'contrato anual', 'contrato bienal'],\n",
        "    'factura_electronica': ['sí', 'no'],\n",
        "    'método_pago': ['cheque por correo', 'cheque electrónico', 'tarjeta de crédito automática', 'transferencia bancaria automática'],\n",
        "    'churn': ['sí', 'no']\n",
        "}\n",
        "\n"
      ],
      "metadata": {
        "id": "cQi6MQ23z7sO"
      },
      "execution_count": 145,
      "outputs": []
    },
    {
      "cell_type": "code",
      "source": [
        "# Diccionario con las categorías válidas para cada columna\n",
        "valores_validos = {\n",
        "    'género': ['Masculino', 'Femenino'],\n",
        "    'adulto_mayor': ['Sí', 'No'],\n",
        "    'pareja': ['Sí', 'No'],\n",
        "    'dependientes': ['Sí', 'No'],\n",
        "    'servicio_telefonico': ['Sí', 'No'],\n",
        "    'lineas_multiples': ['Sí', 'No'],\n",
        "    'servicio_internet': ['DSL', 'Fibra óptica', 'Sin servicio'],\n",
        "    'seguridad_online': ['Sí', 'No'],\n",
        "    'respaldo_online': ['Sí', 'No'],\n",
        "    'protección_dispositivo': ['Sí', 'No'],\n",
        "    'soporte_tecnico': ['Sí', 'No'],\n",
        "    'tv_streaming': ['Sí', 'No'],\n",
        "    'peliculas_streaming': ['Sí', 'No'],\n",
        "    'contrato': ['Mes a mes', 'Contrato anual', 'Contrato bienal'],\n",
        "    'factura_electronica': ['Sí', 'No'],\n",
        "    'método_pago': ['Cheque por correo', 'Cheque electrónico', 'Tarjeta de crédito automática', 'Transferencia bancaria automática'],\n",
        "    'Churn': ['Sí', 'No']\n",
        "}\n",
        "\n",
        "# Crear un diccionario para almacenar las filas con valores inválidos por columna\n",
        "inconsistencias = {}\n",
        "\n",
        "for columna, valores in valores_validos.items():\n",
        "    filas_invalidas = df[~df[columna].isin(valores)]\n",
        "    if not filas_invalidas.empty:\n",
        "        inconsistencias[columna] = filas_invalidas\n",
        "\n",
        "# Mostrar reporte de inconsistencias\n",
        "if inconsistencias:\n",
        "    for col, filas in inconsistencias.items():\n",
        "        print(f\"---\\nValores inválidos en columna '{col}':\")\n",
        "        print(filas[[col]])\n",
        "else:\n",
        "    print(\"¡No se encontraron valores inválidos en las columnas categóricas!\")"
      ],
      "metadata": {
        "colab": {
          "base_uri": "https://localhost:8080/"
        },
        "id": "QV_ivgoez7zS",
        "outputId": "b1234d7a-061b-4827-b34c-dacd7af88254"
      },
      "execution_count": 146,
      "outputs": [
        {
          "output_type": "stream",
          "name": "stdout",
          "text": [
            "---\n",
            "Valores inválidos en columna 'género':\n",
            "      género\n",
            "0      mujer\n",
            "1     hombre\n",
            "2     hombre\n",
            "3     hombre\n",
            "4      mujer\n",
            "...      ...\n",
            "7262   mujer\n",
            "7263  hombre\n",
            "7264  hombre\n",
            "7265  hombre\n",
            "7266  hombre\n",
            "\n",
            "[7032 rows x 1 columns]\n",
            "---\n",
            "Valores inválidos en columna 'adulto_mayor':\n",
            "     adulto_mayor\n",
            "0               0\n",
            "1               0\n",
            "2               0\n",
            "3               1\n",
            "4               1\n",
            "...           ...\n",
            "7262            0\n",
            "7263            0\n",
            "7264            0\n",
            "7265            0\n",
            "7266            0\n",
            "\n",
            "[7032 rows x 1 columns]\n",
            "---\n",
            "Valores inválidos en columna 'pareja':\n",
            "     pareja\n",
            "0        sí\n",
            "1        no\n",
            "2        no\n",
            "3        sí\n",
            "4        sí\n",
            "...     ...\n",
            "7262     no\n",
            "7263     sí\n",
            "7264     no\n",
            "7265     sí\n",
            "7266     sí\n",
            "\n",
            "[7032 rows x 1 columns]\n",
            "---\n",
            "Valores inválidos en columna 'dependientes':\n",
            "     dependientes\n",
            "0              sí\n",
            "1              no\n",
            "2              no\n",
            "3              no\n",
            "4              no\n",
            "...           ...\n",
            "7262           no\n",
            "7263           no\n",
            "7264           no\n",
            "7265           sí\n",
            "7266           sí\n",
            "\n",
            "[7032 rows x 1 columns]\n",
            "---\n",
            "Valores inválidos en columna 'servicio_telefonico':\n",
            "     servicio_telefonico\n",
            "0                     sí\n",
            "1                     sí\n",
            "2                     sí\n",
            "3                     sí\n",
            "4                     sí\n",
            "...                  ...\n",
            "7262                  sí\n",
            "7263                  sí\n",
            "7264                  sí\n",
            "7265                  sí\n",
            "7266                  no\n",
            "\n",
            "[7032 rows x 1 columns]\n",
            "---\n",
            "Valores inválidos en columna 'lineas_multiples':\n",
            "     lineas_multiples\n",
            "0                  no\n",
            "1                  sí\n",
            "2                  no\n",
            "3                  no\n",
            "4                  no\n",
            "...               ...\n",
            "7262               no\n",
            "7263               sí\n",
            "7264               no\n",
            "7265               no\n",
            "7266               no\n",
            "\n",
            "[7032 rows x 1 columns]\n",
            "---\n",
            "Valores inválidos en columna 'servicio_internet':\n",
            "     servicio_internet\n",
            "0                  dsl\n",
            "1                  dsl\n",
            "2         fibra óptica\n",
            "3         fibra óptica\n",
            "4         fibra óptica\n",
            "...                ...\n",
            "7262               dsl\n",
            "7263      fibra óptica\n",
            "7264               dsl\n",
            "7265               dsl\n",
            "7266               dsl\n",
            "\n",
            "[7032 rows x 1 columns]\n",
            "---\n",
            "Valores inválidos en columna 'seguridad_online':\n",
            "     seguridad_online\n",
            "0                  no\n",
            "1                  no\n",
            "2                  no\n",
            "3                  no\n",
            "4                  no\n",
            "...               ...\n",
            "7262               sí\n",
            "7263               no\n",
            "7264               no\n",
            "7265               sí\n",
            "7266               sí\n",
            "\n",
            "[7032 rows x 1 columns]\n",
            "---\n",
            "Valores inválidos en columna 'respaldo_online':\n",
            "     respaldo_online\n",
            "0                 sí\n",
            "1                 no\n",
            "2                 no\n",
            "3                 sí\n",
            "4                 no\n",
            "...              ...\n",
            "7262              no\n",
            "7263              no\n",
            "7264              sí\n",
            "7265              no\n",
            "7266              sí\n",
            "\n",
            "[7032 rows x 1 columns]\n",
            "---\n",
            "Valores inválidos en columna 'protección_dispositivo':\n",
            "     protección_dispositivo\n",
            "0                        no\n",
            "1                        no\n",
            "2                        sí\n",
            "3                        sí\n",
            "4                        no\n",
            "...                     ...\n",
            "7262                     no\n",
            "7263                     no\n",
            "7264                     no\n",
            "7265                     sí\n",
            "7266                     sí\n",
            "\n",
            "[7032 rows x 1 columns]\n",
            "---\n",
            "Valores inválidos en columna 'soporte_tecnico':\n",
            "     soporte_tecnico\n",
            "0                 sí\n",
            "1                 no\n",
            "2                 no\n",
            "3                 no\n",
            "4                 sí\n",
            "...              ...\n",
            "7262              sí\n",
            "7263              no\n",
            "7264              no\n",
            "7265              sí\n",
            "7266              no\n",
            "\n",
            "[7032 rows x 1 columns]\n",
            "---\n",
            "Valores inválidos en columna 'tv_streaming':\n",
            "     tv_streaming\n",
            "0              sí\n",
            "1              no\n",
            "2              no\n",
            "3              sí\n",
            "4              sí\n",
            "...           ...\n",
            "7262           no\n",
            "7263           no\n",
            "7264           no\n",
            "7265           no\n",
            "7266           sí\n",
            "\n",
            "[7032 rows x 1 columns]\n",
            "---\n",
            "Valores inválidos en columna 'peliculas_streaming':\n",
            "     peliculas_streaming\n",
            "0                     no\n",
            "1                     sí\n",
            "2                     no\n",
            "3                     sí\n",
            "4                     no\n",
            "...                  ...\n",
            "7262                  no\n",
            "7263                  sí\n",
            "7264                  no\n",
            "7265                  sí\n",
            "7266                  sí\n",
            "\n",
            "[7032 rows x 1 columns]\n",
            "---\n",
            "Valores inválidos en columna 'contrato':\n",
            "             contrato\n",
            "0      contrato anual\n",
            "1           mes a mes\n",
            "2           mes a mes\n",
            "3           mes a mes\n",
            "4           mes a mes\n",
            "...               ...\n",
            "7262   contrato anual\n",
            "7263        mes a mes\n",
            "7264        mes a mes\n",
            "7265  contrato bienal\n",
            "7266  contrato bienal\n",
            "\n",
            "[7032 rows x 1 columns]\n",
            "---\n",
            "Valores inválidos en columna 'factura_electronica':\n",
            "     factura_electronica\n",
            "0                     sí\n",
            "1                     no\n",
            "2                     sí\n",
            "3                     sí\n",
            "4                     sí\n",
            "...                  ...\n",
            "7262                  no\n",
            "7263                  sí\n",
            "7264                  sí\n",
            "7265                  no\n",
            "7266                  no\n",
            "\n",
            "[7032 rows x 1 columns]\n",
            "---\n",
            "Valores inválidos en columna 'método_pago':\n",
            "             método_pago\n",
            "0      cheque por correo\n",
            "1      cheque por correo\n",
            "2     cheque electrónico\n",
            "3     cheque electrónico\n",
            "4      cheque por correo\n",
            "...                  ...\n",
            "7262   cheque por correo\n",
            "7263  cheque electrónico\n",
            "7264   cheque por correo\n",
            "7265   cheque por correo\n",
            "7266  cheque electrónico\n",
            "\n",
            "[7032 rows x 1 columns]\n",
            "---\n",
            "Valores inválidos en columna 'Churn':\n",
            "     Churn\n",
            "0       no\n",
            "1       no\n",
            "2       sí\n",
            "3       sí\n",
            "4       sí\n",
            "...    ...\n",
            "7262    no\n",
            "7263    sí\n",
            "7264    no\n",
            "7265    no\n",
            "7266    no\n",
            "\n",
            "[7032 rows x 1 columns]\n"
          ]
        }
      ]
    },
    {
      "cell_type": "code",
      "source": [
        "columnas_categoricas = [\n",
        "    'género', 'adulto_mayor', 'pareja', 'dependientes',\n",
        "    'servicio_telefonico', 'lineas_multiples', 'servicio_internet',\n",
        "    'seguridad_online', 'respaldo_online', 'protección_dispositivo',\n",
        "    'soporte_tecnico', 'tv_streaming', 'peliculas_streaming',\n",
        "    'contrato', 'factura_electronica', 'método_pago', 'Churn'\n",
        "]\n",
        "\n",
        "for col in columnas_categoricas:\n",
        "    print(f\"Valores únicos en la columna '{col}':\")\n",
        "    print(df[col].unique())\n",
        "    print('---')"
      ],
      "metadata": {
        "colab": {
          "base_uri": "https://localhost:8080/"
        },
        "id": "6gnzzKdXz7-r",
        "outputId": "20614bc7-64c5-4d5d-8d01-9934d94f87cc"
      },
      "execution_count": 147,
      "outputs": [
        {
          "output_type": "stream",
          "name": "stdout",
          "text": [
            "Valores únicos en la columna 'género':\n",
            "['mujer' 'hombre']\n",
            "---\n",
            "Valores únicos en la columna 'adulto_mayor':\n",
            "['0' '1']\n",
            "---\n",
            "Valores únicos en la columna 'pareja':\n",
            "['sí' 'no']\n",
            "---\n",
            "Valores únicos en la columna 'dependientes':\n",
            "['sí' 'no']\n",
            "---\n",
            "Valores únicos en la columna 'servicio_telefonico':\n",
            "['sí' 'no']\n",
            "---\n",
            "Valores únicos en la columna 'lineas_multiples':\n",
            "['no' 'sí']\n",
            "---\n",
            "Valores únicos en la columna 'servicio_internet':\n",
            "['dsl' 'fibra óptica' 'sin servicio']\n",
            "---\n",
            "Valores únicos en la columna 'seguridad_online':\n",
            "['no' 'sí']\n",
            "---\n",
            "Valores únicos en la columna 'respaldo_online':\n",
            "['sí' 'no']\n",
            "---\n",
            "Valores únicos en la columna 'protección_dispositivo':\n",
            "['no' 'sí']\n",
            "---\n",
            "Valores únicos en la columna 'soporte_tecnico':\n",
            "['sí' 'no']\n",
            "---\n",
            "Valores únicos en la columna 'tv_streaming':\n",
            "['sí' 'no']\n",
            "---\n",
            "Valores únicos en la columna 'peliculas_streaming':\n",
            "['no' 'sí']\n",
            "---\n",
            "Valores únicos en la columna 'contrato':\n",
            "['contrato anual' 'mes a mes' 'contrato bienal']\n",
            "---\n",
            "Valores únicos en la columna 'factura_electronica':\n",
            "['sí' 'no']\n",
            "---\n",
            "Valores únicos en la columna 'método_pago':\n",
            "['cheque por correo' 'cheque electrónico'\n",
            " 'tarjeta de crédito (automática)' 'transferencia bancaria (automática)']\n",
            "---\n",
            "Valores únicos en la columna 'Churn':\n",
            "['no' 'sí']\n",
            "---\n"
          ]
        }
      ]
    },
    {
      "cell_type": "code",
      "source": [
        "valores_validos = {\n",
        "    'género': ['mujer', 'hombre'],\n",
        "    'adulto_mayor': ['0', '1'],\n",
        "    'pareja': ['sí', 'no'],\n",
        "    'dependientes': ['sí', 'no'],\n",
        "    'servicio_telefonico': ['sí', 'no'],\n",
        "    'lineas_multiples': ['no', 'sí'],\n",
        "    'servicio_internet': ['dsl', 'fibra óptica', 'sin servicio'],\n",
        "    'seguridad_online': ['no', 'sí'],\n",
        "    'respaldo_online': ['sí', 'no'],\n",
        "    'protección_dispositivo': ['no', 'sí'],\n",
        "    'soporte_tecnico': ['sí', 'no'],\n",
        "    'tv_streaming': ['sí', 'no'],\n",
        "    'peliculas_streaming': ['no', 'sí'],\n",
        "    'contrato': ['contrato anual', 'mes a mes', 'contrato bienal'],\n",
        "    'factura_electronica': ['sí', 'no'],\n",
        "    'método_pago': ['cheque por correo', 'cheque electrónico', 'tarjeta de crédito (automática)', 'transferencia bancaria (automática)'],\n",
        "    'Churn': ['no', 'sí']\n",
        "}"
      ],
      "metadata": {
        "id": "uCOZJGij-qrI"
      },
      "execution_count": 148,
      "outputs": []
    },
    {
      "cell_type": "code",
      "source": [
        "# Mostrar todas las columnas con su tipo de dato\n",
        "print(df.dtypes)\n",
        "\n",
        "# Filtrar solo las columnas numéricas\n",
        "columnas_numericas = df.select_dtypes(include=['int64', 'float64']).columns.tolist()\n",
        "\n",
        "print(\"Columnas numéricas encontradas:\")\n",
        "print(columnas_numericas)"
      ],
      "metadata": {
        "colab": {
          "base_uri": "https://localhost:8080/"
        },
        "id": "7VTPzh61BJ-d",
        "outputId": "90416c1a-8691-40d3-96df-60589c5fc41c"
      },
      "execution_count": 149,
      "outputs": [
        {
          "output_type": "stream",
          "name": "stdout",
          "text": [
            "ID_cliente                 object\n",
            "Churn                      object\n",
            "género                     object\n",
            "adulto_mayor               object\n",
            "pareja                     object\n",
            "dependientes               object\n",
            "antigüedad_meses            int64\n",
            "servicio_telefonico        object\n",
            "lineas_multiples           object\n",
            "servicio_internet          object\n",
            "seguridad_online           object\n",
            "respaldo_online            object\n",
            "protección_dispositivo     object\n",
            "soporte_tecnico            object\n",
            "tv_streaming               object\n",
            "peliculas_streaming        object\n",
            "contrato                   object\n",
            "factura_electronica        object\n",
            "método_pago                object\n",
            "Charges.Monthly           float64\n",
            "Charges.Total             float64\n",
            "dtype: object\n",
            "Columnas numéricas encontradas:\n",
            "['antigüedad_meses', 'Charges.Monthly', 'Charges.Total']\n"
          ]
        }
      ]
    },
    {
      "cell_type": "code",
      "source": [
        "antiguedad_fuera_rango = df[df['antigüedad_meses']<0]"
      ],
      "metadata": {
        "id": "lzPwDicsBKM-"
      },
      "execution_count": 150,
      "outputs": []
    },
    {
      "cell_type": "code",
      "source": [
        "charges_monthly_fuera_rango = df[df['Charges.Monthly']<0]"
      ],
      "metadata": {
        "id": "tDc6JJBwCQt6"
      },
      "execution_count": 151,
      "outputs": []
    },
    {
      "cell_type": "code",
      "source": [
        "charges_total_fuera_rango = df[df['Charges.Total']<0] | (df['Charges.Total'] < df['Charges.Monthly'])"
      ],
      "metadata": {
        "id": "wC0AMLpvCR5g"
      },
      "execution_count": 152,
      "outputs": []
    },
    {
      "cell_type": "code",
      "source": [
        "print(\"Filas con 'antigüedad_meses' fuera de rango:\")\n",
        "print(antiguedad_fuera_rango)\n",
        "\n"
      ],
      "metadata": {
        "colab": {
          "base_uri": "https://localhost:8080/"
        },
        "id": "Tl_1AFl6CSUZ",
        "outputId": "e1372866-04ac-47e1-c441-cbcbfb68f222"
      },
      "execution_count": 153,
      "outputs": [
        {
          "output_type": "stream",
          "name": "stdout",
          "text": [
            "Filas con 'antigüedad_meses' fuera de rango:\n",
            "Empty DataFrame\n",
            "Columns: [ID_cliente, Churn, género, adulto_mayor, pareja, dependientes, antigüedad_meses, servicio_telefonico, lineas_multiples, servicio_internet, seguridad_online, respaldo_online, protección_dispositivo, soporte_tecnico, tv_streaming, peliculas_streaming, contrato, factura_electronica, método_pago, Charges.Monthly, Charges.Total]\n",
            "Index: []\n",
            "\n",
            "[0 rows x 21 columns]\n"
          ]
        }
      ]
    },
    {
      "cell_type": "code",
      "source": [
        "\n",
        "print(\"\\nFilas con 'Charges.Monthly' fuera de rango:\")\n",
        "print(charges_monthly_fuera_rango)\n"
      ],
      "metadata": {
        "colab": {
          "base_uri": "https://localhost:8080/"
        },
        "id": "Np9qqpcRCShP",
        "outputId": "2145bcf2-3b7c-47fd-a6c9-71f1cafbbf6f"
      },
      "execution_count": 154,
      "outputs": [
        {
          "output_type": "stream",
          "name": "stdout",
          "text": [
            "\n",
            "Filas con 'Charges.Monthly' fuera de rango:\n",
            "Empty DataFrame\n",
            "Columns: [ID_cliente, Churn, género, adulto_mayor, pareja, dependientes, antigüedad_meses, servicio_telefonico, lineas_multiples, servicio_internet, seguridad_online, respaldo_online, protección_dispositivo, soporte_tecnico, tv_streaming, peliculas_streaming, contrato, factura_electronica, método_pago, Charges.Monthly, Charges.Total]\n",
            "Index: []\n",
            "\n",
            "[0 rows x 21 columns]\n"
          ]
        }
      ]
    },
    {
      "cell_type": "code",
      "source": [
        "print(\"\\nFilas con 'Charges.Total' fuera de rango:\")\n",
        "print(charges_total_fuera_rango)"
      ],
      "metadata": {
        "colab": {
          "base_uri": "https://localhost:8080/"
        },
        "id": "iRbsXkU5BKYk",
        "outputId": "fde50c40-5642-4bbb-eb7f-5020e32b97fe"
      },
      "execution_count": 155,
      "outputs": [
        {
          "output_type": "stream",
          "name": "stdout",
          "text": [
            "\n",
            "Filas con 'Charges.Total' fuera de rango:\n",
            "Empty DataFrame\n",
            "Columns: [0, 1, 2, 3, 4, 5, 6, 7, 8, 9, 10, 11, 12, 13, 14, 15, 16, 17, 18, 19, 20, 21, 22, 23, 24, 25, 26, 27, 28, 29, 31, 32, 33, 34, 35, 36, 37, 38, 39, 40, 41, 42, 43, 44, 45, 46, 47, 48, 49, 50, 51, 52, 53, 54, 55, 56, 57, 58, 59, 60, 61, 62, 63, 64, 65, 66, 67, 68, 69, 70, 71, 72, 73, 74, 76, 77, 78, 79, 80, 81, 82, 83, 84, 85, 86, 87, 88, 89, 90, 91, 92, 93, 94, 95, 97, 99, 100, 101, 102, 103, ...]\n",
            "Index: []\n",
            "\n",
            "[0 rows x 7053 columns]\n"
          ]
        }
      ]
    },
    {
      "cell_type": "code",
      "source": [
        "df = df.rename(columns={\n",
        "    'Charges.Monthly': 'cargos_mensuales',\n",
        "    'Charges.Total': 'cargos_totales'\n",
        "})\n"
      ],
      "metadata": {
        "id": "N4wCoRxEGpAu"
      },
      "execution_count": 156,
      "outputs": []
    },
    {
      "cell_type": "code",
      "source": [
        "print(df.columns)"
      ],
      "metadata": {
        "colab": {
          "base_uri": "https://localhost:8080/"
        },
        "id": "MYDDS5fjpPeI",
        "outputId": "6d00ae01-a7b8-461c-f673-56f86559ad02"
      },
      "execution_count": 157,
      "outputs": [
        {
          "output_type": "stream",
          "name": "stdout",
          "text": [
            "Index(['ID_cliente', 'Churn', 'género', 'adulto_mayor', 'pareja',\n",
            "       'dependientes', 'antigüedad_meses', 'servicio_telefonico',\n",
            "       'lineas_multiples', 'servicio_internet', 'seguridad_online',\n",
            "       'respaldo_online', 'protección_dispositivo', 'soporte_tecnico',\n",
            "       'tv_streaming', 'peliculas_streaming', 'contrato',\n",
            "       'factura_electronica', 'método_pago', 'cargos_mensuales',\n",
            "       'cargos_totales'],\n",
            "      dtype='object')\n"
          ]
        }
      ]
    },
    {
      "cell_type": "markdown",
      "source": [
        "### Columna de cuentas diarias\n"
      ],
      "metadata": {
        "id": "qoskEO7loIZW"
      }
    },
    {
      "cell_type": "code",
      "source": [
        "df['Cuentas_Diarias'] = df['cargos_mensuales'] / 30\n"
      ],
      "metadata": {
        "id": "nqGZiBXkGpLr"
      },
      "execution_count": 158,
      "outputs": []
    },
    {
      "cell_type": "code",
      "source": [
        "print(df[['cargos_mensuales', 'Cuentas_Diarias']].head())"
      ],
      "metadata": {
        "colab": {
          "base_uri": "https://localhost:8080/"
        },
        "id": "lLRpwWHNoQDv",
        "outputId": "c2a6036d-a396-46e4-dbd1-73929e39b613"
      },
      "execution_count": 159,
      "outputs": [
        {
          "output_type": "stream",
          "name": "stdout",
          "text": [
            "   cargos_mensuales  Cuentas_Diarias\n",
            "0              65.6         2.186667\n",
            "1              59.9         1.996667\n",
            "2              73.9         2.463333\n",
            "3              98.0         3.266667\n",
            "4              83.9         2.796667\n"
          ]
        }
      ]
    },
    {
      "cell_type": "markdown",
      "source": [
        "### Estandarización y transformación de datos"
      ],
      "metadata": {
        "id": "6p78GaX9sIFI"
      }
    },
    {
      "cell_type": "code",
      "source": [
        "# 1️⃣ Verificar nombres de columnas\n",
        "print(\"Nombres de columnas actuales:\")\n",
        "print(df.columns)\n",
        "print('---')\n",
        "\n",
        "# 2️⃣ Verificar valores únicos de columnas categóricas\n",
        "columnas_categoricas = [\n",
        "    'género', 'adulto_mayor', 'pareja', 'dependientes',\n",
        "    'servicio_telefonico', 'lineas_multiples', 'servicio_internet',\n",
        "    'seguridad_online', 'respaldo_online', 'protección_dispositivo',\n",
        "    'soporte_tecnico', 'tv_streaming', 'peliculas_streaming',\n",
        "    'contrato', 'factura_electronica', 'método_pago', 'Churn'\n",
        "]\n",
        "\n",
        "for col in columnas_categoricas:\n",
        "    print(f\"Valores únicos en la columna '{col}':\")\n",
        "    print(df[col].unique())\n",
        "    print('---')"
      ],
      "metadata": {
        "colab": {
          "base_uri": "https://localhost:8080/"
        },
        "id": "42kBp_-CoQXJ",
        "outputId": "84d565d8-e181-48fb-cb88-b303f04ac540"
      },
      "execution_count": 160,
      "outputs": [
        {
          "output_type": "stream",
          "name": "stdout",
          "text": [
            "Nombres de columnas actuales:\n",
            "Index(['ID_cliente', 'Churn', 'género', 'adulto_mayor', 'pareja',\n",
            "       'dependientes', 'antigüedad_meses', 'servicio_telefonico',\n",
            "       'lineas_multiples', 'servicio_internet', 'seguridad_online',\n",
            "       'respaldo_online', 'protección_dispositivo', 'soporte_tecnico',\n",
            "       'tv_streaming', 'peliculas_streaming', 'contrato',\n",
            "       'factura_electronica', 'método_pago', 'cargos_mensuales',\n",
            "       'cargos_totales', 'Cuentas_Diarias'],\n",
            "      dtype='object')\n",
            "---\n",
            "Valores únicos en la columna 'género':\n",
            "['mujer' 'hombre']\n",
            "---\n",
            "Valores únicos en la columna 'adulto_mayor':\n",
            "['0' '1']\n",
            "---\n",
            "Valores únicos en la columna 'pareja':\n",
            "['sí' 'no']\n",
            "---\n",
            "Valores únicos en la columna 'dependientes':\n",
            "['sí' 'no']\n",
            "---\n",
            "Valores únicos en la columna 'servicio_telefonico':\n",
            "['sí' 'no']\n",
            "---\n",
            "Valores únicos en la columna 'lineas_multiples':\n",
            "['no' 'sí']\n",
            "---\n",
            "Valores únicos en la columna 'servicio_internet':\n",
            "['dsl' 'fibra óptica' 'sin servicio']\n",
            "---\n",
            "Valores únicos en la columna 'seguridad_online':\n",
            "['no' 'sí']\n",
            "---\n",
            "Valores únicos en la columna 'respaldo_online':\n",
            "['sí' 'no']\n",
            "---\n",
            "Valores únicos en la columna 'protección_dispositivo':\n",
            "['no' 'sí']\n",
            "---\n",
            "Valores únicos en la columna 'soporte_tecnico':\n",
            "['sí' 'no']\n",
            "---\n",
            "Valores únicos en la columna 'tv_streaming':\n",
            "['sí' 'no']\n",
            "---\n",
            "Valores únicos en la columna 'peliculas_streaming':\n",
            "['no' 'sí']\n",
            "---\n",
            "Valores únicos en la columna 'contrato':\n",
            "['contrato anual' 'mes a mes' 'contrato bienal']\n",
            "---\n",
            "Valores únicos en la columna 'factura_electronica':\n",
            "['sí' 'no']\n",
            "---\n",
            "Valores únicos en la columna 'método_pago':\n",
            "['cheque por correo' 'cheque electrónico'\n",
            " 'tarjeta de crédito (automática)' 'transferencia bancaria (automática)']\n",
            "---\n",
            "Valores únicos en la columna 'Churn':\n",
            "['no' 'sí']\n",
            "---\n"
          ]
        }
      ]
    },
    {
      "cell_type": "code",
      "source": [
        "# Columnas sí/no → convertir a 1/0\n",
        "columnas_binarias = [\n",
        "    'pareja', 'dependientes', 'servicio_telefonico', 'lineas_multiples',\n",
        "    'seguridad_online', 'respaldo_online', 'protección_dispositivo',\n",
        "    'soporte_tecnico', 'tv_streaming', 'peliculas_streaming', 'factura_electronica', 'Churn'\n",
        "]\n",
        "\n",
        "for col in columnas_binarias:\n",
        "    df[col] = df[col].map({'sí': 1, 'no': 0})\n",
        "\n",
        "# Convertir 'adulto_mayor' de texto a entero\n",
        "df['adulto_mayor'] = df['adulto_mayor'].astype(int)\n",
        "\n",
        "# Opcional: mostrar algunas filas para verificar\n",
        "print(df[columnas_binarias + ['adulto_mayor']].head())"
      ],
      "metadata": {
        "colab": {
          "base_uri": "https://localhost:8080/"
        },
        "id": "lqW88AK5oSsu",
        "outputId": "81688019-9bb5-4615-d714-4e42486aff25"
      },
      "execution_count": 161,
      "outputs": [
        {
          "output_type": "stream",
          "name": "stdout",
          "text": [
            "   pareja  dependientes  servicio_telefonico  lineas_multiples  \\\n",
            "0       1             1                    1                 0   \n",
            "1       0             0                    1                 1   \n",
            "2       0             0                    1                 0   \n",
            "3       1             0                    1                 0   \n",
            "4       1             0                    1                 0   \n",
            "\n",
            "   seguridad_online  respaldo_online  protección_dispositivo  soporte_tecnico  \\\n",
            "0                 0                1                       0                1   \n",
            "1                 0                0                       0                0   \n",
            "2                 0                0                       1                0   \n",
            "3                 0                1                       1                0   \n",
            "4                 0                0                       0                1   \n",
            "\n",
            "   tv_streaming  peliculas_streaming  factura_electronica  Churn  adulto_mayor  \n",
            "0             1                    0                    1      0             0  \n",
            "1             0                    1                    0      0             0  \n",
            "2             0                    0                    1      1             0  \n",
            "3             1                    1                    1      1             1  \n",
            "4             1                    0                    1      1             1  \n"
          ]
        }
      ]
    },
    {
      "cell_type": "code",
      "source": [],
      "metadata": {
        "id": "i4_Gl__CoWpH"
      },
      "execution_count": 161,
      "outputs": []
    },
    {
      "cell_type": "markdown",
      "source": [
        "### Análisis descriptivo"
      ],
      "metadata": {
        "id": "u1ev7owYuT_L"
      }
    },
    {
      "cell_type": "code",
      "source": [
        "print(df.columns)"
      ],
      "metadata": {
        "colab": {
          "base_uri": "https://localhost:8080/"
        },
        "id": "OC-2gxukoS9l",
        "outputId": "552f949a-5e6b-4d0d-fe0a-c006df29cabc"
      },
      "execution_count": 162,
      "outputs": [
        {
          "output_type": "stream",
          "name": "stdout",
          "text": [
            "Index(['ID_cliente', 'Churn', 'género', 'adulto_mayor', 'pareja',\n",
            "       'dependientes', 'antigüedad_meses', 'servicio_telefonico',\n",
            "       'lineas_multiples', 'servicio_internet', 'seguridad_online',\n",
            "       'respaldo_online', 'protección_dispositivo', 'soporte_tecnico',\n",
            "       'tv_streaming', 'peliculas_streaming', 'contrato',\n",
            "       'factura_electronica', 'método_pago', 'cargos_mensuales',\n",
            "       'cargos_totales', 'Cuentas_Diarias'],\n",
            "      dtype='object')\n"
          ]
        }
      ]
    },
    {
      "cell_type": "code",
      "source": [
        "columnas_numericas = df.select_dtypes(include=['int64', 'float64']).columns\n",
        "columnas_categoricas = df.select_dtypes(include=['object', 'bool']).columns\n"
      ],
      "metadata": {
        "id": "AWX_byaDxUys"
      },
      "execution_count": 163,
      "outputs": []
    },
    {
      "cell_type": "code",
      "source": [
        "desc_numericas = df[columnas_numericas].describe().T  # .T para transponer y verlo más claro\n",
        "desc_numericas['mediana'] = df[columnas_numericas].median()  # agregar mediana\n",
        "\n",
        "print(\"=== Estadísticas numéricas ===\")\n",
        "print(desc_numericas)\n"
      ],
      "metadata": {
        "colab": {
          "base_uri": "https://localhost:8080/"
        },
        "id": "lmi3d_gX0cv1",
        "outputId": "6755c78e-4ed0-4675-98ae-e785e052ecbc"
      },
      "execution_count": 164,
      "outputs": [
        {
          "output_type": "stream",
          "name": "stdout",
          "text": [
            "=== Estadísticas numéricas ===\n",
            "                         count         mean          std        min  \\\n",
            "Churn                   7032.0     0.265785     0.441782   0.000000   \n",
            "adulto_mayor            7032.0     0.162400     0.368844   0.000000   \n",
            "pareja                  7032.0     0.482509     0.499729   0.000000   \n",
            "dependientes            7032.0     0.298493     0.457629   0.000000   \n",
            "antigüedad_meses        7032.0    32.421786    24.545260   1.000000   \n",
            "servicio_telefonico     7032.0     0.903299     0.295571   0.000000   \n",
            "lineas_multiples        7032.0     0.421928     0.493902   0.000000   \n",
            "seguridad_online        7032.0     0.286547     0.452180   0.000000   \n",
            "respaldo_online         7032.0     0.344852     0.475354   0.000000   \n",
            "protección_dispositivo  7032.0     0.343857     0.475028   0.000000   \n",
            "soporte_tecnico         7032.0     0.290102     0.453842   0.000000   \n",
            "tv_streaming            7032.0     0.384386     0.486484   0.000000   \n",
            "peliculas_streaming     7032.0     0.388367     0.487414   0.000000   \n",
            "factura_electronica     7032.0     0.592719     0.491363   0.000000   \n",
            "cargos_mensuales        7032.0    64.798208    30.085974  18.250000   \n",
            "cargos_totales          7032.0  2283.300441  2266.771362  18.800000   \n",
            "Cuentas_Diarias         7032.0     2.159940     1.002866   0.608333   \n",
            "\n",
            "                              25%       50%          75%          max  \\\n",
            "Churn                     0.00000     0.000     1.000000     1.000000   \n",
            "adulto_mayor              0.00000     0.000     0.000000     1.000000   \n",
            "pareja                    0.00000     0.000     1.000000     1.000000   \n",
            "dependientes              0.00000     0.000     1.000000     1.000000   \n",
            "antigüedad_meses          9.00000    29.000    55.000000    72.000000   \n",
            "servicio_telefonico       1.00000     1.000     1.000000     1.000000   \n",
            "lineas_multiples          0.00000     0.000     1.000000     1.000000   \n",
            "seguridad_online          0.00000     0.000     1.000000     1.000000   \n",
            "respaldo_online           0.00000     0.000     1.000000     1.000000   \n",
            "protección_dispositivo    0.00000     0.000     1.000000     1.000000   \n",
            "soporte_tecnico           0.00000     0.000     1.000000     1.000000   \n",
            "tv_streaming              0.00000     0.000     1.000000     1.000000   \n",
            "peliculas_streaming       0.00000     0.000     1.000000     1.000000   \n",
            "factura_electronica       0.00000     1.000     1.000000     1.000000   \n",
            "cargos_mensuales         35.58750    70.350    89.862500   118.750000   \n",
            "cargos_totales          401.45000  1397.475  3794.737500  8684.800000   \n",
            "Cuentas_Diarias           1.18625     2.345     2.995417     3.958333   \n",
            "\n",
            "                         mediana  \n",
            "Churn                      0.000  \n",
            "adulto_mayor               0.000  \n",
            "pareja                     0.000  \n",
            "dependientes               0.000  \n",
            "antigüedad_meses          29.000  \n",
            "servicio_telefonico        1.000  \n",
            "lineas_multiples           0.000  \n",
            "seguridad_online           0.000  \n",
            "respaldo_online            0.000  \n",
            "protección_dispositivo     0.000  \n",
            "soporte_tecnico            0.000  \n",
            "tv_streaming               0.000  \n",
            "peliculas_streaming        0.000  \n",
            "factura_electronica        1.000  \n",
            "cargos_mensuales          70.350  \n",
            "cargos_totales          1397.475  \n",
            "Cuentas_Diarias            2.345  \n"
          ]
        }
      ]
    },
    {
      "cell_type": "code",
      "source": [
        "print(\"\\n=== Frecuencia de categorías ===\")\n",
        "for col in columnas_categoricas:\n",
        "    print(f\"\\nColumna: {col}\")\n",
        "    print(df[col].value_counts())\n",
        "    print(df[col].value_counts(normalize=True))"
      ],
      "metadata": {
        "colab": {
          "base_uri": "https://localhost:8080/"
        },
        "id": "FWRJQqQL0oJz",
        "outputId": "b1157430-4789-4feb-9d50-3afb9d94afa5"
      },
      "execution_count": 165,
      "outputs": [
        {
          "output_type": "stream",
          "name": "stdout",
          "text": [
            "\n",
            "=== Frecuencia de categorías ===\n",
            "\n",
            "Columna: ID_cliente\n",
            "ID_cliente\n",
            "9995-HOTOH    1\n",
            "0002-ORFBO    1\n",
            "0003-MKNFE    1\n",
            "0004-TLHLJ    1\n",
            "0011-IGKFF    1\n",
            "             ..\n",
            "0018-NYROU    1\n",
            "0017-IUDMW    1\n",
            "0017-DINOC    1\n",
            "0016-QLJIS    1\n",
            "0015-UOCOJ    1\n",
            "Name: count, Length: 7032, dtype: int64\n",
            "ID_cliente\n",
            "9995-HOTOH    0.000142\n",
            "0002-ORFBO    0.000142\n",
            "0003-MKNFE    0.000142\n",
            "0004-TLHLJ    0.000142\n",
            "0011-IGKFF    0.000142\n",
            "                ...   \n",
            "0018-NYROU    0.000142\n",
            "0017-IUDMW    0.000142\n",
            "0017-DINOC    0.000142\n",
            "0016-QLJIS    0.000142\n",
            "0015-UOCOJ    0.000142\n",
            "Name: proportion, Length: 7032, dtype: float64\n",
            "\n",
            "Columna: género\n",
            "género\n",
            "hombre    3549\n",
            "mujer     3483\n",
            "Name: count, dtype: int64\n",
            "género\n",
            "hombre    0.504693\n",
            "mujer     0.495307\n",
            "Name: proportion, dtype: float64\n",
            "\n",
            "Columna: servicio_internet\n",
            "servicio_internet\n",
            "fibra óptica    3096\n",
            "dsl             2416\n",
            "sin servicio    1520\n",
            "Name: count, dtype: int64\n",
            "servicio_internet\n",
            "fibra óptica    0.440273\n",
            "dsl             0.343572\n",
            "sin servicio    0.216155\n",
            "Name: proportion, dtype: float64\n",
            "\n",
            "Columna: contrato\n",
            "contrato\n",
            "mes a mes          3875\n",
            "contrato bienal    1685\n",
            "contrato anual     1472\n",
            "Name: count, dtype: int64\n",
            "contrato\n",
            "mes a mes          0.551052\n",
            "contrato bienal    0.239619\n",
            "contrato anual     0.209329\n",
            "Name: proportion, dtype: float64\n",
            "\n",
            "Columna: método_pago\n",
            "método_pago\n",
            "cheque electrónico                     2365\n",
            "cheque por correo                      1604\n",
            "transferencia bancaria (automática)    1542\n",
            "tarjeta de crédito (automática)        1521\n",
            "Name: count, dtype: int64\n",
            "método_pago\n",
            "cheque electrónico                     0.336320\n",
            "cheque por correo                      0.228100\n",
            "transferencia bancaria (automática)    0.219283\n",
            "tarjeta de crédito (automática)        0.216297\n",
            "Name: proportion, dtype: float64\n"
          ]
        }
      ]
    },
    {
      "cell_type": "code",
      "source": [
        "import matplotlib.pyplot as plt\n",
        "import seaborn as sns"
      ],
      "metadata": {
        "id": "3-JpPlgO0wF-"
      },
      "execution_count": 166,
      "outputs": []
    },
    {
      "cell_type": "markdown",
      "source": [
        "#### Meses de antigüedad"
      ],
      "metadata": {
        "id": "jFWTX3wN6HDf"
      }
    },
    {
      "cell_type": "code",
      "source": [
        "antiguedad_stats = df['antigüedad_meses'].describe()\n",
        "mediana = df['antigüedad_meses'].median()\n",
        "\n",
        "print(\"=== Estadísticas de antigüedad_meses ===\")\n",
        "print(antiguedad_stats)\n",
        "print(f\"Mediana: {mediana}\")\n"
      ],
      "metadata": {
        "colab": {
          "base_uri": "https://localhost:8080/"
        },
        "id": "hA9QjqDI0wbM",
        "outputId": "73eee2fa-bd64-467b-8e4b-ee10ac2be63b"
      },
      "execution_count": 167,
      "outputs": [
        {
          "output_type": "stream",
          "name": "stdout",
          "text": [
            "=== Estadísticas de antigüedad_meses ===\n",
            "count    7032.000000\n",
            "mean       32.421786\n",
            "std        24.545260\n",
            "min         1.000000\n",
            "25%         9.000000\n",
            "50%        29.000000\n",
            "75%        55.000000\n",
            "max        72.000000\n",
            "Name: antigüedad_meses, dtype: float64\n",
            "Mediana: 29.0\n"
          ]
        }
      ]
    },
    {
      "cell_type": "code",
      "source": [
        "plt.figure(figsize=(8,5))\n",
        "sns.histplot(df['antigüedad_meses'], bins=20, kde=True, color='skyblue')\n",
        "plt.title('Distribución de Antigüedad de Clientes (meses)')\n",
        "plt.xlabel('Meses')\n",
        "plt.ylabel('Cantidad de clientes')\n",
        "plt.show()"
      ],
      "metadata": {
        "colab": {
          "base_uri": "https://localhost:8080/",
          "height": 488
        },
        "id": "Qw8W6Mti_8L8",
        "outputId": "8f85453a-6508-44b3-fcd2-b0cda1483fd2"
      },
      "execution_count": 168,
      "outputs": [
        {
          "output_type": "display_data",
          "data": {
            "text/plain": [
              "<Figure size 800x500 with 1 Axes>"
            ],
            "image/png": "[encoded data removed]"
          },
          "metadata": {}
        }
      ]
    },
    {
      "cell_type": "code",
      "source": [],
      "metadata": {
        "id": "aLWmLzD__89X"
      },
      "execution_count": 168,
      "outputs": []
    },
    {
      "cell_type": "markdown",
      "source": [
        "#### Cargos mensulaes y totales"
      ],
      "metadata": {
        "id": "xlHsDPiPDLaE"
      }
    },
    {
      "cell_type": "code",
      "source": [
        "for col in ['cargos_mensuales', 'cargos_totales']:\n",
        "    stats = df[col].describe()\n",
        "    mediana = df[col].median()\n",
        "    print(f\"\\n=== Estadísticas de {col} ===\")\n",
        "    print(stats)\n",
        "    print(f\"Mediana: {mediana}\")\n",
        "\n"
      ],
      "metadata": {
        "colab": {
          "base_uri": "https://localhost:8080/"
        },
        "id": "WUtaT_z__9PZ",
        "outputId": "078a90a7-8906-4880-e82e-509a6727e5eb"
      },
      "execution_count": 169,
      "outputs": [
        {
          "output_type": "stream",
          "name": "stdout",
          "text": [
            "\n",
            "=== Estadísticas de cargos_mensuales ===\n",
            "count    7032.000000\n",
            "mean       64.798208\n",
            "std        30.085974\n",
            "min        18.250000\n",
            "25%        35.587500\n",
            "50%        70.350000\n",
            "75%        89.862500\n",
            "max       118.750000\n",
            "Name: cargos_mensuales, dtype: float64\n",
            "Mediana: 70.35\n",
            "\n",
            "=== Estadísticas de cargos_totales ===\n",
            "count    7032.000000\n",
            "mean     2283.300441\n",
            "std      2266.771362\n",
            "min        18.800000\n",
            "25%       401.450000\n",
            "50%      1397.475000\n",
            "75%      3794.737500\n",
            "max      8684.800000\n",
            "Name: cargos_totales, dtype: float64\n",
            "Mediana: 1397.475\n"
          ]
        }
      ]
    },
    {
      "cell_type": "code",
      "source": [
        "for i, col in enumerate(['cargos_mensuales', 'cargos_totales'], 1):\n",
        "    plt.subplot(1, 2, i)\n",
        "    sns.histplot(df[col], bins=20, kde=True, color='salmon')\n",
        "    plt.title(f'Distribución de {col}')\n",
        "    plt.xlabel(col)\n",
        "    plt.ylabel('Cantidad de clientes')\n",
        "\n",
        "plt.tight_layout()\n",
        "plt.show()"
      ],
      "metadata": {
        "colab": {
          "base_uri": "https://localhost:8080/",
          "height": 487
        },
        "id": "yzxIHdz5DWA-",
        "outputId": "ab1854d1-e621-4a89-97a4-30a45ed0417b"
      },
      "execution_count": 170,
      "outputs": [
        {
          "output_type": "display_data",
          "data": {
            "text/plain": [
              "<Figure size 640x480 with 2 Axes>"
            ],
            "image/png": "[encoded data removed]"
          },
          "metadata": {}
        }
      ]
    },
    {
      "cell_type": "code",
      "source": [],
      "metadata": {
        "id": "xvtMNaXLDWOj"
      },
      "execution_count": 170,
      "outputs": []
    },
    {
      "cell_type": "markdown",
      "source": [
        "#### Cuentas diarias"
      ],
      "metadata": {
        "id": "OI5vGdHyGg-e"
      }
    },
    {
      "cell_type": "code",
      "source": [
        "stats = df['Cuentas_Diarias'].describe()\n",
        "mediana = df['Cuentas_Diarias'].median()\n",
        "\n",
        "print(\"=== Estadísticas de Cuentas_Diarias ===\")\n",
        "print(stats)\n",
        "print(f\"Mediana: {mediana}\")\n"
      ],
      "metadata": {
        "colab": {
          "base_uri": "https://localhost:8080/"
        },
        "id": "E0huObOLDWg6",
        "outputId": "560642c8-d05e-4f4e-a908-e086cf3a3340"
      },
      "execution_count": 171,
      "outputs": [
        {
          "output_type": "stream",
          "name": "stdout",
          "text": [
            "=== Estadísticas de Cuentas_Diarias ===\n",
            "count    7032.000000\n",
            "mean        2.159940\n",
            "std         1.002866\n",
            "min         0.608333\n",
            "25%         1.186250\n",
            "50%         2.345000\n",
            "75%         2.995417\n",
            "max         3.958333\n",
            "Name: Cuentas_Diarias, dtype: float64\n",
            "Mediana: 2.3449999999999998\n"
          ]
        }
      ]
    },
    {
      "cell_type": "code",
      "source": [
        "plt.figure(figsize=(8,5))\n",
        "sns.histplot(df['Cuentas_Diarias'], bins=20, kde=True, color='lightgreen')\n",
        "plt.title('Distribución de Cuentas Diarias')\n",
        "plt.xlabel('Cuentas Diarias')\n",
        "plt.ylabel('Cantidad de clientes')\n",
        "plt.show()\n"
      ],
      "metadata": {
        "colab": {
          "base_uri": "https://localhost:8080/",
          "height": 487
        },
        "id": "NNrkeLOnDWxi",
        "outputId": "728769fd-0916-4ab9-a31f-09bd5fb87ce7"
      },
      "execution_count": 172,
      "outputs": [
        {
          "output_type": "display_data",
          "data": {
            "text/plain": [
              "<Figure size 800x500 with 1 Axes>"
            ],
            "image/png": "[encoded data removed]"
          },
          "metadata": {}
        }
      ]
    },
    {
      "cell_type": "code",
      "source": [
        "# Columnas numéricas que analizamos\n",
        "columnas_numericas = ['antigüedad_meses', 'cargos_mensuales', 'cargos_totales', 'Cuentas_Diarias']\n",
        "\n",
        "for col in columnas_numericas:\n",
        "    media = df[col].mean()\n",
        "    mediana = df[col].median()\n",
        "    std = df[col].std()\n",
        "    minimo = df[col].min()\n",
        "    maximo = df[col].max()\n",
        "\n",
        "    print(f\"\\n=== Resumen de {col} ===\")\n",
        "    print(f\"Media: {media:.2f}\")\n",
        "    print(f\"Mediana: {mediana:.2f}\")\n",
        "    print(f\"Desviación estándar: {std:.2f}\")\n",
        "    print(f\"Mínimo: {minimo}\")\n",
        "    print(f\"Máximo: {maximo}\")\n",
        "\n",
        "    # Observaciones automáticas\n",
        "    if media > mediana:\n",
        "        print(\"Observación: la media es mayor que la mediana → posible sesgo hacia valores altos.\")\n",
        "    elif media < mediana:\n",
        "        print(\"Observación: la media es menor que la mediana → posible sesgo hacia valores bajos.\")\n",
        "    else:\n",
        "        print(\"Observación: media y mediana son similares → distribución simétrica aproximada.\")\n",
        "\n",
        "    if std > media*0.5:\n",
        "        print(\"Observación: alta variabilidad en los datos.\")\n",
        "    else:\n",
        "        print(\"Observación: variabilidad moderada en los datos.\")"
      ],
      "metadata": {
        "colab": {
          "base_uri": "https://localhost:8080/"
        },
        "id": "hOIH9Y5pIanX",
        "outputId": "db10b8e4-7bf0-49d6-a09c-b147b6ca3296"
      },
      "execution_count": 173,
      "outputs": [
        {
          "output_type": "stream",
          "name": "stdout",
          "text": [
            "\n",
            "=== Resumen de antigüedad_meses ===\n",
            "Media: 32.42\n",
            "Mediana: 29.00\n",
            "Desviación estándar: 24.55\n",
            "Mínimo: 1\n",
            "Máximo: 72\n",
            "Observación: la media es mayor que la mediana → posible sesgo hacia valores altos.\n",
            "Observación: alta variabilidad en los datos.\n",
            "\n",
            "=== Resumen de cargos_mensuales ===\n",
            "Media: 64.80\n",
            "Mediana: 70.35\n",
            "Desviación estándar: 30.09\n",
            "Mínimo: 18.25\n",
            "Máximo: 118.75\n",
            "Observación: la media es menor que la mediana → posible sesgo hacia valores bajos.\n",
            "Observación: variabilidad moderada en los datos.\n",
            "\n",
            "=== Resumen de cargos_totales ===\n",
            "Media: 2283.30\n",
            "Mediana: 1397.47\n",
            "Desviación estándar: 2266.77\n",
            "Mínimo: 18.8\n",
            "Máximo: 8684.8\n",
            "Observación: la media es mayor que la mediana → posible sesgo hacia valores altos.\n",
            "Observación: alta variabilidad en los datos.\n",
            "\n",
            "=== Resumen de Cuentas_Diarias ===\n",
            "Media: 2.16\n",
            "Mediana: 2.34\n",
            "Desviación estándar: 1.00\n",
            "Mínimo: 0.6083333333333333\n",
            "Máximo: 3.9583333333333335\n",
            "Observación: la media es menor que la mediana → posible sesgo hacia valores bajos.\n",
            "Observación: variabilidad moderada en los datos.\n"
          ]
        }
      ]
    },
    {
      "cell_type": "code",
      "source": [],
      "metadata": {
        "id": "vA1IKtz-JI1n"
      },
      "execution_count": 173,
      "outputs": []
    },
    {
      "cell_type": "markdown",
      "source": [
        "#### Columnas categorícas"
      ],
      "metadata": {
        "id": "cfuer3OTAocC"
      }
    },
    {
      "cell_type": "code",
      "source": [
        "columnas_categoricas = df.select_dtypes(include=['object', 'bool']).columns\n",
        "\n",
        "for col in columnas_categoricas:\n",
        "    print(f\"\\n=== Columna: {col} ===\")\n",
        "\n",
        "    # Frecuencia absoluta\n",
        "    print(\"\\nFrecuencia absoluta:\")\n",
        "    print(df[col].value_counts())\n",
        "\n",
        "    # Frecuencia relativa\n",
        "    print(\"\\nFrecuencia relativa (%):\")\n",
        "    print(df[col].value_counts(normalize=True) * 100)\n"
      ],
      "metadata": {
        "colab": {
          "base_uri": "https://localhost:8080/"
        },
        "id": "aEx3Q0nZANtx",
        "outputId": "119985e8-b2af-4969-c707-3eacbf6f20cc"
      },
      "execution_count": 174,
      "outputs": [
        {
          "output_type": "stream",
          "name": "stdout",
          "text": [
            "\n",
            "=== Columna: ID_cliente ===\n",
            "\n",
            "Frecuencia absoluta:\n",
            "ID_cliente\n",
            "9995-HOTOH    1\n",
            "0002-ORFBO    1\n",
            "0003-MKNFE    1\n",
            "0004-TLHLJ    1\n",
            "0011-IGKFF    1\n",
            "             ..\n",
            "0018-NYROU    1\n",
            "0017-IUDMW    1\n",
            "0017-DINOC    1\n",
            "0016-QLJIS    1\n",
            "0015-UOCOJ    1\n",
            "Name: count, Length: 7032, dtype: int64\n",
            "\n",
            "Frecuencia relativa (%):\n",
            "ID_cliente\n",
            "9995-HOTOH    0.014221\n",
            "0002-ORFBO    0.014221\n",
            "0003-MKNFE    0.014221\n",
            "0004-TLHLJ    0.014221\n",
            "0011-IGKFF    0.014221\n",
            "                ...   \n",
            "0018-NYROU    0.014221\n",
            "0017-IUDMW    0.014221\n",
            "0017-DINOC    0.014221\n",
            "0016-QLJIS    0.014221\n",
            "0015-UOCOJ    0.014221\n",
            "Name: proportion, Length: 7032, dtype: float64\n",
            "\n",
            "=== Columna: género ===\n",
            "\n",
            "Frecuencia absoluta:\n",
            "género\n",
            "hombre    3549\n",
            "mujer     3483\n",
            "Name: count, dtype: int64\n",
            "\n",
            "Frecuencia relativa (%):\n",
            "género\n",
            "hombre    50.469283\n",
            "mujer     49.530717\n",
            "Name: proportion, dtype: float64\n",
            "\n",
            "=== Columna: servicio_internet ===\n",
            "\n",
            "Frecuencia absoluta:\n",
            "servicio_internet\n",
            "fibra óptica    3096\n",
            "dsl             2416\n",
            "sin servicio    1520\n",
            "Name: count, dtype: int64\n",
            "\n",
            "Frecuencia relativa (%):\n",
            "servicio_internet\n",
            "fibra óptica    44.027304\n",
            "dsl             34.357224\n",
            "sin servicio    21.615472\n",
            "Name: proportion, dtype: float64\n",
            "\n",
            "=== Columna: contrato ===\n",
            "\n",
            "Frecuencia absoluta:\n",
            "contrato\n",
            "mes a mes          3875\n",
            "contrato bienal    1685\n",
            "contrato anual     1472\n",
            "Name: count, dtype: int64\n",
            "\n",
            "Frecuencia relativa (%):\n",
            "contrato\n",
            "mes a mes          55.105233\n",
            "contrato bienal    23.961889\n",
            "contrato anual     20.932878\n",
            "Name: proportion, dtype: float64\n",
            "\n",
            "=== Columna: método_pago ===\n",
            "\n",
            "Frecuencia absoluta:\n",
            "método_pago\n",
            "cheque electrónico                     2365\n",
            "cheque por correo                      1604\n",
            "transferencia bancaria (automática)    1542\n",
            "tarjeta de crédito (automática)        1521\n",
            "Name: count, dtype: int64\n",
            "\n",
            "Frecuencia relativa (%):\n",
            "método_pago\n",
            "cheque electrónico                     33.631968\n",
            "cheque por correo                      22.810011\n",
            "transferencia bancaria (automática)    21.928328\n",
            "tarjeta de crédito (automática)        21.629693\n",
            "Name: proportion, dtype: float64\n"
          ]
        }
      ]
    },
    {
      "cell_type": "code",
      "source": [
        "    plt.figure(figsize=(6,4))\n",
        "    sns.countplot(data=df, x=col, palette='pastel')\n",
        "    plt.title(f'Distribución de {col}')\n",
        "    plt.xlabel(col)\n",
        "    plt.ylabel('Cantidad de clientes')\n",
        "    plt.xticks(rotation=45)\n",
        "    plt.show()"
      ],
      "metadata": {
        "colab": {
          "base_uri": "https://localhost:8080/",
          "height": 672
        },
        "id": "Y654HnKSAN6-",
        "outputId": "420d52e9-6f7f-46e3-d624-b1aa76896674"
      },
      "execution_count": 175,
      "outputs": [
        {
          "output_type": "stream",
          "name": "stderr",
          "text": [
            "/tmp/ipython-input-3157250395.py:2: FutureWarning: \n",
            "\n",
            "Passing `palette` without assigning `hue` is deprecated and will be removed in v0.14.0. Assign the `x` variable to `hue` and set `legend=False` for the same effect.\n",
            "\n",
            "  sns.countplot(data=df, x=col, palette='pastel')\n"
          ]
        },
        {
          "output_type": "display_data",
          "data": {
            "text/plain": [
              "<Figure size 600x400 with 1 Axes>"
            ],
            "image/png": "[encoded data removed]"
          },
          "metadata": {}
        }
      ]
    },
    {
      "cell_type": "code",
      "source": [],
      "metadata": {
        "id": "fyTz49ImAOJm"
      },
      "execution_count": 175,
      "outputs": []
    },
    {
      "cell_type": "markdown",
      "source": [
        "### Distribución de evasión"
      ],
      "metadata": {
        "id": "PBShy1WEDEyz"
      }
    },
    {
      "cell_type": "code",
      "source": [
        "print(\"=== Frecuencia absoluta de Churn ===\")\n",
        "print(df['Churn'].value_counts(dropna=False))"
      ],
      "metadata": {
        "colab": {
          "base_uri": "https://localhost:8080/"
        },
        "id": "wbUmS5ZWAOZv",
        "outputId": "7597e4bc-e57d-410f-bee8-f2b09fa2c60c"
      },
      "execution_count": 176,
      "outputs": [
        {
          "output_type": "stream",
          "name": "stdout",
          "text": [
            "=== Frecuencia absoluta de Churn ===\n",
            "Churn\n",
            "0    5163\n",
            "1    1869\n",
            "Name: count, dtype: int64\n"
          ]
        }
      ]
    },
    {
      "cell_type": "code",
      "source": [
        "print(\"=== Frecuencia relativa de Churn (%) ===\")\n",
        "print(df['Churn'].value_counts(normalize=True) * 100)"
      ],
      "metadata": {
        "id": "I1-hdbaUJJGv",
        "colab": {
          "base_uri": "https://localhost:8080/"
        },
        "outputId": "41ada5ac-e3cb-4c82-fc33-1d8b2badda97"
      },
      "execution_count": 177,
      "outputs": [
        {
          "output_type": "stream",
          "name": "stdout",
          "text": [
            "=== Frecuencia relativa de Churn (%) ===\n",
            "Churn\n",
            "0    73.421502\n",
            "1    26.578498\n",
            "Name: proportion, dtype: float64\n"
          ]
        }
      ]
    },
    {
      "cell_type": "code",
      "source": [
        "plt.figure(figsize=(5,4))\n",
        "sns.countplot(data=df, x='Churn', palette='pastel')\n",
        "plt.title('Distribución de Evasión (Churn)')\n",
        "plt.xlabel('Churn (0 = se quedó, 1 = se dio de baja)')\n",
        "plt.ylabel('Cantidad de clientes')\n",
        "plt.show()"
      ],
      "metadata": {
        "colab": {
          "base_uri": "https://localhost:8080/",
          "height": 498
        },
        "id": "iq21rdvrETyZ",
        "outputId": "e8fad028-14e7-42c2-e8ec-48c70724a62e"
      },
      "execution_count": 178,
      "outputs": [
        {
          "output_type": "stream",
          "name": "stderr",
          "text": [
            "/tmp/ipython-input-2843777470.py:2: FutureWarning: \n",
            "\n",
            "Passing `palette` without assigning `hue` is deprecated and will be removed in v0.14.0. Assign the `x` variable to `hue` and set `legend=False` for the same effect.\n",
            "\n",
            "  sns.countplot(data=df, x='Churn', palette='pastel')\n"
          ]
        },
        {
          "output_type": "display_data",
          "data": {
            "text/plain": [
              "<Figure size 500x400 with 1 Axes>"
            ],
            "image/png": "[encoded data removed]"
          },
          "metadata": {}
        }
      ]
    },
    {
      "cell_type": "code",
      "source": [],
      "metadata": {
        "id": "OLrJ7ONoE00a"
      },
      "execution_count": 178,
      "outputs": []
    },
    {
      "cell_type": "markdown",
      "source": [
        "### Recuento de evasión por variables categóricas"
      ],
      "metadata": {
        "id": "R20s7QdsNCl1"
      }
    },
    {
      "cell_type": "code",
      "source": [
        "# Columnas categóricas a analizar (excluyendo Churn)\n",
        "columnas_categoricas = df.select_dtypes(include=['object', 'bool']).columns.drop('Churn', errors='ignore')\n",
        "\n",
        "for col in columnas_categoricas:\n",
        "    print(f\"\\n=== Recuento de Churn por {col} ===\")\n",
        "\n",
        "    # Tabla cruzada: conteo absoluto\n",
        "    crosstab = pd.crosstab(df[col], df['Churn'])\n",
        "    print(\"\\nConteo absoluto:\")\n",
        "    print(crosstab)\n",
        "\n",
        "    # Tabla cruzada: porcentaje de churn\n",
        "    crosstab_perc = crosstab.div(crosstab.sum(axis=1), axis=0) * 100\n",
        "    print(\"\\nPorcentaje de churn por categoría (%):\")\n",
        "    print(crosstab_perc)\n",
        "\n"
      ],
      "metadata": {
        "colab": {
          "base_uri": "https://localhost:8080/"
        },
        "id": "nSfhoV8QNNM9",
        "outputId": "b53a0511-d6b1-47ee-f7ec-6007e6f8bd8b"
      },
      "execution_count": 179,
      "outputs": [
        {
          "output_type": "stream",
          "name": "stdout",
          "text": [
            "\n",
            "=== Recuento de Churn por ID_cliente ===\n",
            "\n",
            "Conteo absoluto:\n",
            "Churn       0  1\n",
            "ID_cliente      \n",
            "0002-ORFBO  1  0\n",
            "0003-MKNFE  1  0\n",
            "0004-TLHLJ  0  1\n",
            "0011-IGKFF  0  1\n",
            "0013-EXCHZ  0  1\n",
            "...        .. ..\n",
            "9987-LUTYD  1  0\n",
            "9992-RRAMN  0  1\n",
            "9992-UJOEL  1  0\n",
            "9993-LHIEB  1  0\n",
            "9995-HOTOH  1  0\n",
            "\n",
            "[7032 rows x 2 columns]\n",
            "\n",
            "Porcentaje de churn por categoría (%):\n",
            "Churn           0      1\n",
            "ID_cliente              \n",
            "0002-ORFBO  100.0    0.0\n",
            "0003-MKNFE  100.0    0.0\n",
            "0004-TLHLJ    0.0  100.0\n",
            "0011-IGKFF    0.0  100.0\n",
            "0013-EXCHZ    0.0  100.0\n",
            "...           ...    ...\n",
            "9987-LUTYD  100.0    0.0\n",
            "9992-RRAMN    0.0  100.0\n",
            "9992-UJOEL  100.0    0.0\n",
            "9993-LHIEB  100.0    0.0\n",
            "9995-HOTOH  100.0    0.0\n",
            "\n",
            "[7032 rows x 2 columns]\n",
            "\n",
            "=== Recuento de Churn por género ===\n",
            "\n",
            "Conteo absoluto:\n",
            "Churn      0    1\n",
            "género           \n",
            "hombre  2619  930\n",
            "mujer   2544  939\n",
            "\n",
            "Porcentaje de churn por categoría (%):\n",
            "Churn           0          1\n",
            "género                      \n",
            "hombre  73.795435  26.204565\n",
            "mujer   73.040482  26.959518\n",
            "\n",
            "=== Recuento de Churn por servicio_internet ===\n",
            "\n",
            "Conteo absoluto:\n",
            "Churn                 0     1\n",
            "servicio_internet            \n",
            "dsl                1957   459\n",
            "fibra óptica       1799  1297\n",
            "sin servicio       1407   113\n",
            "\n",
            "Porcentaje de churn por categoría (%):\n",
            "Churn                      0          1\n",
            "servicio_internet                      \n",
            "dsl                81.001656  18.998344\n",
            "fibra óptica       58.107235  41.892765\n",
            "sin servicio       92.565789   7.434211\n",
            "\n",
            "=== Recuento de Churn por contrato ===\n",
            "\n",
            "Conteo absoluto:\n",
            "Churn               0     1\n",
            "contrato                   \n",
            "contrato anual   1306   166\n",
            "contrato bienal  1637    48\n",
            "mes a mes        2220  1655\n",
            "\n",
            "Porcentaje de churn por categoría (%):\n",
            "Churn                    0          1\n",
            "contrato                             \n",
            "contrato anual   88.722826  11.277174\n",
            "contrato bienal  97.151335   2.848665\n",
            "mes a mes        57.290323  42.709677\n",
            "\n",
            "=== Recuento de Churn por método_pago ===\n",
            "\n",
            "Conteo absoluto:\n",
            "Churn                                   0     1\n",
            "método_pago                                    \n",
            "cheque electrónico                   1294  1071\n",
            "cheque por correo                    1296   308\n",
            "tarjeta de crédito (automática)      1289   232\n",
            "transferencia bancaria (automática)  1284   258\n",
            "\n",
            "Porcentaje de churn por categoría (%):\n",
            "Churn                                        0          1\n",
            "método_pago                                              \n",
            "cheque electrónico                   54.714588  45.285412\n",
            "cheque por correo                    80.798005  19.201995\n",
            "tarjeta de crédito (automática)      84.746877  15.253123\n",
            "transferencia bancaria (automática)  83.268482  16.731518\n"
          ]
        }
      ]
    },
    {
      "cell_type": "code",
      "source": [
        "# Tabla cruzada en porcentaje por género\n",
        "crosstab_gen = pd.crosstab(df['género'], df['Churn'], normalize='index') * 100\n",
        "\n",
        "# Gráfico de barras apiladas\n",
        "crosstab_gen.plot(\n",
        "    kind='bar',\n",
        "    stacked=True,\n",
        "    figsize=(5, 4),\n",
        "    color=['#8BC34A', '#FF7043']  # verde para 0, rojo coral para 1\n",
        ")\n",
        "\n",
        "plt.title('Churn por Género')\n",
        "plt.xlabel('Género')\n",
        "plt.ylabel('Porcentaje de clientes')\n",
        "plt.legend(title='Churn', labels=['Se quedó (0)', 'Se dio de baja (1)'])\n",
        "plt.xticks(rotation=0)\n",
        "plt.tight_layout()\n",
        "plt.show()"
      ],
      "metadata": {
        "id": "YgflvDHUOj_P",
        "colab": {
          "base_uri": "https://localhost:8080/",
          "height": 407
        },
        "outputId": "b1d9b541-6487-4f8f-b713-392c15bcbf36"
      },
      "execution_count": 180,
      "outputs": [
        {
          "output_type": "display_data",
          "data": {
            "text/plain": [
              "<Figure size 500x400 with 1 Axes>"
            ],
            "image/png": "[encoded data removed]"
          },
          "metadata": {}
        }
      ]
    },
    {
      "cell_type": "code",
      "source": [
        "# Tabla cruzada en porcentaje por servicio de internet\n",
        "crosstab_servicio = pd.crosstab(df['servicio_internet'], df['Churn'], normalize='index') * 100\n",
        "\n",
        "# Gráfico de barras apiladas\n",
        "crosstab_servicio.plot(\n",
        "    kind='bar',\n",
        "    stacked=True,\n",
        "    figsize=(6, 4),\n",
        "    color=['#8BC34A', '#FF7043']  # verde para 0, rojo coral para 1\n",
        ")\n",
        "\n",
        "plt.title('Churn por Tipo de Servicio de Internet')\n",
        "plt.xlabel('Servicio de Internet')\n",
        "plt.ylabel('Porcentaje de clientes')\n",
        "plt.legend(title='Churn', labels=['Se quedó (0)', 'Se dio de baja (1)'])\n",
        "plt.xticks(rotation=20)  # ligera rotación para que no se corten etiquetas\n",
        "plt.tight_layout()\n",
        "plt.show()"
      ],
      "metadata": {
        "id": "ljrIbLI8OkRQ",
        "colab": {
          "base_uri": "https://localhost:8080/",
          "height": 407
        },
        "outputId": "b2960541-bcdf-4f6a-defa-132af87665d3"
      },
      "execution_count": 181,
      "outputs": [
        {
          "output_type": "display_data",
          "data": {
            "text/plain": [
              "<Figure size 600x400 with 1 Axes>"
            ],
            "image/png": "[encoded data removed]"
          },
          "metadata": {}
        }
      ]
    },
    {
      "cell_type": "code",
      "source": [
        "# Tabla cruzada en porcentaje por contrato\n",
        "crosstab_contrato = pd.crosstab(df['contrato'], df['Churn'], normalize='index') * 100\n",
        "\n",
        "# Reordenar por porcentaje de Churn=1 (de menor a mayor)\n",
        "crosstab_contrato = crosstab_contrato.sort_values(by=1, ascending=True)\n",
        "\n",
        "# Gráfico de barras apiladas\n",
        "crosstab_contrato.plot(\n",
        "    kind='bar',\n",
        "    stacked=True,\n",
        "    figsize=(6, 4),\n",
        "    color=['#8BC34A', '#FF7043']  # verde para 0, rojo coral para 1\n",
        ")\n",
        "\n",
        "plt.title('Churn por Tipo de Contrato')\n",
        "plt.xlabel('Tipo de Contrato')\n",
        "plt.ylabel('Porcentaje de clientes')\n",
        "plt.legend(title='Churn', labels=['Se quedó (0)', 'Se dio de baja (1)'])\n",
        "plt.xticks(rotation=15)\n",
        "plt.tight_layout()\n",
        "plt.show()"
      ],
      "metadata": {
        "id": "K_kIocbHOl4i",
        "colab": {
          "base_uri": "https://localhost:8080/",
          "height": 407
        },
        "outputId": "d1e56374-5fcc-4d3b-fb86-0c02d36e4e66"
      },
      "execution_count": 182,
      "outputs": [
        {
          "output_type": "display_data",
          "data": {
            "text/plain": [
              "<Figure size 600x400 with 1 Axes>"
            ],
            "image/png": "[encoded data removed]"
          },
          "metadata": {}
        }
      ]
    },
    {
      "cell_type": "code",
      "source": [
        "# Tabla cruzada en porcentaje por método de pago\n",
        "crosstab_pago = pd.crosstab(df['método_pago'], df['Churn'], normalize='index') * 100\n",
        "\n",
        "# Reordenar por porcentaje de Churn=1 (de menor a mayor)\n",
        "crosstab_pago = crosstab_pago.sort_values(by=1, ascending=True)\n",
        "\n",
        "# Gráfico de barras apiladas\n",
        "crosstab_pago.plot(\n",
        "    kind='bar',\n",
        "    stacked=True,\n",
        "    figsize=(7, 4),\n",
        "    color=['#8BC34A', '#FF7043']  # verde para 0, rojo coral para 1\n",
        ")\n",
        "\n",
        "plt.title('Churn por Método de Pago')\n",
        "plt.xlabel('Método de Pago')\n",
        "plt.ylabel('Porcentaje de clientes')\n",
        "plt.legend(title='Churn', labels=['Se quedó (0)', 'Se dio de baja (1)'])\n",
        "plt.xticks(rotation=20)\n",
        "plt.tight_layout()\n",
        "plt.show()"
      ],
      "metadata": {
        "colab": {
          "base_uri": "https://localhost:8080/",
          "height": 407
        },
        "id": "kEF9phz2QY9X",
        "outputId": "e1fa4e83-2285-45fe-a38c-ca00c109105c"
      },
      "execution_count": 183,
      "outputs": [
        {
          "output_type": "display_data",
          "data": {
            "text/plain": [
              "<Figure size 700x400 with 1 Axes>"
            ],
            "image/png": "[encoded data removed]"
          },
          "metadata": {}
        }
      ]
    },
    {
      "cell_type": "code",
      "source": [],
      "metadata": {
        "id": "laf8-JrmQZJN"
      },
      "execution_count": 183,
      "outputs": []
    },
    {
      "cell_type": "markdown",
      "source": [
        "#### Conteo de evasión por variables númericas"
      ],
      "metadata": {
        "id": "73to18OJz9Id"
      }
    },
    {
      "cell_type": "code",
      "source": [
        "import matplotlib.pyplot as plt\n",
        "import seaborn as sns\n"
      ],
      "metadata": {
        "id": "yTesaapSz7sp"
      },
      "execution_count": 184,
      "outputs": []
    },
    {
      "cell_type": "code",
      "source": [
        "print(\"=== antigüedad_meses por Churn ===\")\n",
        "print(df.groupby('Churn')['antigüedad_meses'].describe())\n",
        "\n"
      ],
      "metadata": {
        "colab": {
          "base_uri": "https://localhost:8080/"
        },
        "id": "4lIjQqRl2LJB",
        "outputId": "4f55dcba-3026-445f-ef45-c7edad48ed09"
      },
      "execution_count": 185,
      "outputs": [
        {
          "output_type": "stream",
          "name": "stdout",
          "text": [
            "=== antigüedad_meses por Churn ===\n",
            "        count       mean        std  min   25%   50%   75%   max\n",
            "Churn                                                           \n",
            "0      5163.0  37.650010  24.076940  1.0  15.0  38.0  61.0  72.0\n",
            "1      1869.0  17.979133  19.531123  1.0   2.0  10.0  29.0  72.0\n"
          ]
        }
      ]
    },
    {
      "cell_type": "code",
      "source": [
        "plt.figure(figsize=(5, 4))\n",
        "sns.boxplot(\n",
        "    data=df,\n",
        "    x='Churn',\n",
        "    y='antigüedad_meses',\n",
        "    order=[0, 1],\n",
        "    palette=['#8BC34A', '#FF7043']  # 0=verde (se quedó), 1=rojo (se dio de baja)\n",
        ")\n",
        "plt.title('Antigüedad (meses) por Churn')\n",
        "plt.xlabel('Churn (0 = se quedó, 1 = se dio de baja)')\n",
        "plt.ylabel('Antigüedad (meses)')\n",
        "plt.tight_layout()\n",
        "plt.show()\n"
      ],
      "metadata": {
        "colab": {
          "base_uri": "https://localhost:8080/",
          "height": 494
        },
        "id": "4DmDBMCC2LUI",
        "outputId": "e49c5677-e18d-47ec-9db8-f4136f742611"
      },
      "execution_count": 186,
      "outputs": [
        {
          "output_type": "stream",
          "name": "stderr",
          "text": [
            "/tmp/ipython-input-410230036.py:2: FutureWarning: \n",
            "\n",
            "Passing `palette` without assigning `hue` is deprecated and will be removed in v0.14.0. Assign the `x` variable to `hue` and set `legend=False` for the same effect.\n",
            "\n",
            "  sns.boxplot(\n"
          ]
        },
        {
          "output_type": "display_data",
          "data": {
            "text/plain": [
              "<Figure size 500x400 with 1 Axes>"
            ],
            "image/png": "[encoded data removed]"
          },
          "metadata": {}
        }
      ]
    },
    {
      "cell_type": "code",
      "source": [
        "plt.figure(figsize=(7, 4))\n",
        "sns.histplot(\n",
        "    data=df,\n",
        "    x='antigüedad_meses',\n",
        "    hue='Churn',\n",
        "    hue_order=[0, 1],\n",
        "    bins=24,\n",
        "    stat='percent',\n",
        "    common_norm=False,\n",
        "    kde=True,\n",
        "    element='step',\n",
        "    palette=['#8BC34A', '#FF7043']\n",
        ")\n",
        "plt.title('Distribución de Antigüedad por Churn')\n",
        "plt.xlabel('Meses')\n",
        "plt.ylabel('Porcentaje de clientes')\n",
        "plt.tight_layout()\n",
        "plt.show()"
      ],
      "metadata": {
        "colab": {
          "base_uri": "https://localhost:8080/",
          "height": 407
        },
        "id": "5HARH6g12Lem",
        "outputId": "17fd7a4d-4983-4ac1-9e3b-922cf53c8d30"
      },
      "execution_count": 187,
      "outputs": [
        {
          "output_type": "display_data",
          "data": {
            "text/plain": [
              "<Figure size 700x400 with 1 Axes>"
            ],
            "image/png": "[encoded data removed]"
          },
          "metadata": {}
        }
      ]
    },
    {
      "cell_type": "code",
      "source": [
        "print(\"=== cargos_mensuales por Churn ===\")\n",
        "print(df.groupby('Churn')['cargos_mensuales'].describe())\n",
        "\n"
      ],
      "metadata": {
        "colab": {
          "base_uri": "https://localhost:8080/"
        },
        "id": "jUICPuxs2Lnx",
        "outputId": "a9d8e5c1-2964-4188-98e2-6f93132bddfd"
      },
      "execution_count": 188,
      "outputs": [
        {
          "output_type": "stream",
          "name": "stdout",
          "text": [
            "=== cargos_mensuales por Churn ===\n",
            "        count       mean        std    min    25%    50%     75%     max\n",
            "Churn                                                                   \n",
            "0      5163.0  61.307408  31.094557  18.25  25.10  64.45  88.475  118.75\n",
            "1      1869.0  74.441332  24.666053  18.85  56.15  79.65  94.200  118.35\n"
          ]
        }
      ]
    },
    {
      "cell_type": "code",
      "source": [
        "plt.figure(figsize=(5, 4))\n",
        "sns.boxplot(\n",
        "    data=df,\n",
        "    x='Churn',\n",
        "    y='cargos_mensuales',\n",
        "    order=[0, 1],\n",
        "    palette=['#8BC34A', '#FF7043']\n",
        ")\n",
        "plt.title('Cargos Mensuales por Churn')\n",
        "plt.xlabel('Churn (0 = se quedó, 1 = se dio de baja)')\n",
        "plt.ylabel('Cargos mensuales ($)')\n",
        "plt.tight_layout()\n",
        "plt.show()\n"
      ],
      "metadata": {
        "colab": {
          "base_uri": "https://localhost:8080/",
          "height": 494
        },
        "id": "m5B7O9lhz792",
        "outputId": "85b0f785-e8df-4c9d-e430-24184ed6ce1d"
      },
      "execution_count": 189,
      "outputs": [
        {
          "output_type": "stream",
          "name": "stderr",
          "text": [
            "/tmp/ipython-input-2599316094.py:2: FutureWarning: \n",
            "\n",
            "Passing `palette` without assigning `hue` is deprecated and will be removed in v0.14.0. Assign the `x` variable to `hue` and set `legend=False` for the same effect.\n",
            "\n",
            "  sns.boxplot(\n"
          ]
        },
        {
          "output_type": "display_data",
          "data": {
            "text/plain": [
              "<Figure size 500x400 with 1 Axes>"
            ],
            "image/png": "[encoded data removed]"
          },
          "metadata": {}
        }
      ]
    },
    {
      "cell_type": "code",
      "source": [
        "plt.figure(figsize=(7, 4))\n",
        "sns.histplot(\n",
        "    data=df,\n",
        "    x='cargos_mensuales',\n",
        "    hue='Churn',\n",
        "    hue_order=[0, 1],\n",
        "    bins=30,\n",
        "    stat='percent',\n",
        "    common_norm=False,\n",
        "    kde=True,\n",
        "    element='step',\n",
        "    palette=['#8BC34A', '#FF7043']\n",
        ")\n",
        "plt.title('Distribución de Cargos Mensuales por Churn')\n",
        "plt.xlabel('Cargos mensuales ($)')\n",
        "plt.ylabel('Porcentaje de clientes')\n",
        "plt.tight_layout()\n",
        "plt.show()"
      ],
      "metadata": {
        "colab": {
          "base_uri": "https://localhost:8080/",
          "height": 407
        },
        "id": "wycnDKI53j6P",
        "outputId": "5824dbb9-8043-44c0-8515-9e1d74bac611"
      },
      "execution_count": 190,
      "outputs": [
        {
          "output_type": "display_data",
          "data": {
            "text/plain": [
              "<Figure size 700x400 with 1 Axes>"
            ],
            "image/png": "[encoded data removed]"
          },
          "metadata": {}
        }
      ]
    },
    {
      "cell_type": "code",
      "source": [
        "print(\"=== cargos_totales por Churn ===\")\n",
        "print(df.groupby('Churn')['cargos_totales'].describe())\n"
      ],
      "metadata": {
        "colab": {
          "base_uri": "https://localhost:8080/"
        },
        "id": "p_xnBbkb3kMN",
        "outputId": "794bbe59-ec68-4f40-a198-85b2e71f40db"
      },
      "execution_count": 191,
      "outputs": [
        {
          "output_type": "stream",
          "name": "stdout",
          "text": [
            "=== cargos_totales por Churn ===\n",
            "        count         mean          std    min      25%      50%       75%  \\\n",
            "Churn                                                                        \n",
            "0      5163.0  2555.344141  2329.456984  18.80  577.825  1683.60  4264.125   \n",
            "1      1869.0  1531.796094  1890.822994  18.85  134.500   703.55  2331.300   \n",
            "\n",
            "           max  \n",
            "Churn           \n",
            "0      8672.45  \n",
            "1      8684.80  \n"
          ]
        }
      ]
    },
    {
      "cell_type": "code",
      "source": [
        "plt.figure(figsize=(5, 4))\n",
        "sns.boxplot(\n",
        "    data=df,\n",
        "    x='Churn',\n",
        "    y='cargos_totales',\n",
        "    order=[0, 1],\n",
        "    palette=['#8BC34A', '#FF7043']\n",
        ")\n",
        "plt.title('Cargos Totales por Churn')\n",
        "plt.xlabel('Churn (0 = se quedó, 1 = se dio de baja)')\n",
        "plt.ylabel('Cargos totales ($)')\n",
        "plt.tight_layout()\n",
        "plt.show()\n"
      ],
      "metadata": {
        "colab": {
          "base_uri": "https://localhost:8080/",
          "height": 494
        },
        "id": "U-F1fGkH4AU8",
        "outputId": "8b841fad-77d8-4b75-c779-97ba11c89ec3"
      },
      "execution_count": 192,
      "outputs": [
        {
          "output_type": "stream",
          "name": "stderr",
          "text": [
            "/tmp/ipython-input-2683365450.py:2: FutureWarning: \n",
            "\n",
            "Passing `palette` without assigning `hue` is deprecated and will be removed in v0.14.0. Assign the `x` variable to `hue` and set `legend=False` for the same effect.\n",
            "\n",
            "  sns.boxplot(\n"
          ]
        },
        {
          "output_type": "display_data",
          "data": {
            "text/plain": [
              "<Figure size 500x400 with 1 Axes>"
            ],
            "image/png": "[encoded data removed]"
          },
          "metadata": {}
        }
      ]
    },
    {
      "cell_type": "code",
      "source": [
        "plt.figure(figsize=(7, 4))\n",
        "sns.histplot(\n",
        "    data=df,\n",
        "    x='cargos_totales',\n",
        "    hue='Churn',\n",
        "    hue_order=[0, 1],\n",
        "    bins=30,\n",
        "    stat='percent',\n",
        "    common_norm=False,\n",
        "    kde=True,\n",
        "    element='step',\n",
        "    palette=['#8BC34A', '#FF7043']\n",
        ")\n",
        "plt.title('Distribución de Cargos Totales por Churn')\n",
        "plt.xlabel('Cargos totales ($)')\n",
        "plt.ylabel('Porcentaje de clientes')\n",
        "plt.tight_layout()\n",
        "plt.show()"
      ],
      "metadata": {
        "colab": {
          "base_uri": "https://localhost:8080/",
          "height": 407
        },
        "id": "XoA_-Ug54AhF",
        "outputId": "9fae0462-5623-481d-ad24-dc259cf69bc5"
      },
      "execution_count": 193,
      "outputs": [
        {
          "output_type": "display_data",
          "data": {
            "text/plain": [
              "<Figure size 700x400 with 1 Axes>"
            ],
            "image/png": "[encoded data removed]"
          },
          "metadata": {}
        }
      ]
    },
    {
      "cell_type": "code",
      "source": [
        "print(\"=== Cuentas_Diarias por Churn ===\")\n",
        "print(df.groupby('Churn')['Cuentas_Diarias'].describe())\n",
        "\n"
      ],
      "metadata": {
        "colab": {
          "base_uri": "https://localhost:8080/"
        },
        "id": "tDbYGtwK4CsC",
        "outputId": "b3d48330-49a1-4f5a-b7e7-e4ef91fe69d9"
      },
      "execution_count": 194,
      "outputs": [
        {
          "output_type": "stream",
          "name": "stdout",
          "text": [
            "=== Cuentas_Diarias por Churn ===\n",
            "        count      mean       std       min       25%       50%       75%  \\\n",
            "Churn                                                                       \n",
            "0      5163.0  2.043580  1.036485  0.608333  0.836667  2.148333  2.949167   \n",
            "1      1869.0  2.481378  0.822202  0.628333  1.871667  2.655000  3.140000   \n",
            "\n",
            "            max  \n",
            "Churn            \n",
            "0      3.958333  \n",
            "1      3.945000  \n"
          ]
        }
      ]
    },
    {
      "cell_type": "code",
      "source": [
        "plt.figure(figsize=(5, 4))\n",
        "sns.boxplot(\n",
        "    data=df,\n",
        "    x='Churn',\n",
        "    y='Cuentas_Diarias',\n",
        "    order=[0, 1],\n",
        "    palette=['#8BC34A', '#FF7043']\n",
        ")\n",
        "plt.title('Cuentas Diarias por Churn')\n",
        "plt.xlabel('Churn (0 = se quedó, 1 = se dio de baja)')\n",
        "plt.ylabel('Cuentas diarias')\n",
        "plt.tight_layout()\n",
        "plt.show()\n"
      ],
      "metadata": {
        "colab": {
          "base_uri": "https://localhost:8080/",
          "height": 494
        },
        "id": "VwxTMx2i4C93",
        "outputId": "bb66c0c6-9a52-48c4-f6d4-d314833c1868"
      },
      "execution_count": 195,
      "outputs": [
        {
          "output_type": "stream",
          "name": "stderr",
          "text": [
            "/tmp/ipython-input-2990503831.py:2: FutureWarning: \n",
            "\n",
            "Passing `palette` without assigning `hue` is deprecated and will be removed in v0.14.0. Assign the `x` variable to `hue` and set `legend=False` for the same effect.\n",
            "\n",
            "  sns.boxplot(\n"
          ]
        },
        {
          "output_type": "display_data",
          "data": {
            "text/plain": [
              "<Figure size 500x400 with 1 Axes>"
            ],
            "image/png": "[encoded data removed]"
          },
          "metadata": {}
        }
      ]
    },
    {
      "cell_type": "code",
      "source": [
        "plt.figure(figsize=(7, 4))\n",
        "sns.histplot(\n",
        "    data=df,\n",
        "    x='Cuentas_Diarias',\n",
        "    hue='Churn',\n",
        "    hue_order=[0, 1],\n",
        "    bins=20,\n",
        "    stat='percent',\n",
        "    common_norm=False,\n",
        "    kde=True,\n",
        "    element='step',\n",
        "    palette=['#8BC34A', '#FF7043']\n",
        ")\n",
        "plt.title('Distribución de Cuentas Diarias por Churn')\n",
        "plt.xlabel('Cuentas diarias')\n",
        "plt.ylabel('Porcentaje de clientes')\n",
        "plt.tight_layout()\n",
        "plt.show()"
      ],
      "metadata": {
        "colab": {
          "base_uri": "https://localhost:8080/",
          "height": 407
        },
        "id": "nTfeMGch4BFK",
        "outputId": "010d9f57-b055-4c82-bbe6-2403a948f92f"
      },
      "execution_count": 196,
      "outputs": [
        {
          "output_type": "display_data",
          "data": {
            "text/plain": [
              "<Figure size 700x400 with 1 Axes>"
            ],
            "image/png": "[encoded data removed]"
          },
          "metadata": {}
        }
      ]
    },
    {
      "cell_type": "code",
      "source": [],
      "metadata": {
        "id": "u8DNN5Xn3kcL"
      },
      "execution_count": 196,
      "outputs": []
    },
    {
      "cell_type": "code",
      "source": [],
      "metadata": {
        "id": "8d2aFATJQZYR"
      },
      "execution_count": 196,
      "outputs": []
    },
    {
      "cell_type": "markdown",
      "source": [
        "INFORME FINAL\n",
        "\n",
        "\n",
        "\n",
        "1. Introducción\n",
        "\n",
        "El presente informe tiene como objetivo analizar el comportamiento de los clientes de la compañía, con un enfoque especial en la evasión (Churn).\n",
        "Se realizaron análisis descriptivos de variables numéricas y categóricas, así como evaluaciones específicas para entender qué factores podrían estar asociados con la cancelación del servicio.\n",
        "\n",
        "El lenguaje técnico se acompaña de explicaciones simples para que cualquier lector, incluso sin experiencia en ciencia de datos, pueda interpretar las conclusiones.\n",
        "\n",
        "\n",
        "---\n",
        "\n",
        "2. Análisis Descriptivo General\n",
        "\n",
        "2.1 Variables Numéricas (visión global)\n",
        "\n",
        "Se calcularon métricas como media, mediana, desviación estándar, valores mínimos y máximos para cuatro variables clave:\n",
        "\n",
        "Variable\tMedia\tMediana\tDesviación Estándar\tMin\tMax\tObservaciones\n",
        "\n",
        "Antigüedad (meses)\t32.42\t29.00\t24.55\t1\t72\tMedia > mediana → sesgo hacia valores altos; alta variabilidad\n",
        "Cargos mensuales\t64.80\t70.35\t30.09\t18.25\t118.75\tMedia < mediana → sesgo hacia valores bajos; variabilidad moderada\n",
        "Cargos totales\t2283.30\t1397.47\t2266.77\t18.8\t8684.8\tMedia > mediana → sesgo hacia valores altos; alta variabilidad\n",
        "Cuentas Diarias\t2.16\t2.34\t1.00\t0.61\t3.96\tMedia < mediana → sesgo hacia valores bajos; variabilidad moderada\n",
        "\n",
        "\n",
        "📌Los datos muestran que hay clientes con muy poca y mucha antigüedad, así como altas diferencias en el gasto total, lo que indica grupos de clientes muy distintos entre sí.\n",
        "\n",
        "\n",
        "---\n",
        "\n",
        "2.2 Variables Categóricas (visión global)\n",
        "\n",
        "Género: Distribución equilibrada (Hombres: 50.47%, Mujeres: 49.53%).\n",
        "\n",
        "Servicio de Internet: Fibra óptica (44.03%), DSL (34.36%), sin servicio (21.62%).\n",
        "\n",
        "Tipo de contrato: Predomina mes a mes (55.11%), seguido de contrato bienal (23.96%) y anual (20.93%).\n",
        "\n",
        "Método de pago: Mayor uso de cheque electrónico (33.63%), seguido por otros métodos en proporciones similares (~22%).\n",
        "\n",
        "\n",
        "📌El cliente típico puede ser de cualquier género, pero hay preferencia por contratos mes a mes y fibra óptica como tipo de conexión.\n",
        "\n",
        "\n",
        "---\n",
        "\n",
        "3. Análisis de Evasión (Churn)\n",
        "\n",
        "3.1 Distribución General\n",
        "\n",
        "Clientes que permanecen: 73.42%\n",
        "\n",
        "Clientes que cancelaron: 26.58%\n",
        "\n",
        "\n",
        "📌 Esto indica que 1 de cada 4 clientes ha cancelado el servicio.\n",
        "\n",
        "\n",
        "---\n",
        "\n",
        "3.2 Evasión por Variables Categóricas\n",
        "\n",
        "Género: No hay diferencias significativas en evasión entre hombres y mujeres.\n",
        "\n",
        "Servicio de Internet: Clientes con fibra óptica presentan una tasa de evasión más alta que DSL o quienes no tienen servicio.\n",
        "\n",
        "Tipo de contrato: Los clientes con contrato mes a mes tienen una tasa de evasión considerablemente mayor, mientras que contratos anuales o bienales retienen más clientes.\n",
        "\n",
        "Método de pago: El uso de cheque electrónico está asociado con mayor evasión en comparación con métodos automáticos.\n",
        "\n",
        "\n",
        "\n",
        "---\n",
        "\n",
        "3.3 Evasión por Variables Numéricas\n",
        "\n",
        "Cargos Mensuales\n",
        "\n",
        "Churn = 1 (cancelaron): Media de 74.44\n",
        "\n",
        "Churn = 0 (permanecen): Media de 61.31\n",
        "📌 Clientes que pagan más al mes tienden a cancelar con más frecuencia.\n",
        "\n",
        "\n",
        "Cargos Totales\n",
        "\n",
        "Churn = 1: Media de 1531.79\n",
        "\n",
        "Churn = 0: Media de 2555.34\n",
        "📌 Los clientes que permanecen tienen un gasto total acumulado más alto, posiblemente porque han estado más tiempo en la compañía.\n",
        "\n",
        "\n",
        "Cuentas Diarias\n",
        "\n",
        "Churn = 1: Media de 2.48\n",
        "\n",
        "Churn = 0: Media de 2.04\n",
        "📌 Un mayor número de cuentas diarias parece correlacionarse con una mayor evasión, pero la diferencia no es tan marcada como en cargos mensuales.\n",
        "\n",
        "\n",
        "\n",
        "---\n",
        "\n",
        "CONCLUSION\n",
        "\n",
        "1. Factor Contrato: El tipo de contrato es uno de los principales predictores de evasión. Contratos mes a mes tienen mayor rotación.\n",
        "\n",
        "\n",
        "2. Costo Mensual: Clientes con cargos mensuales altos tienden a irse más rápido.\n",
        "\n",
        "\n",
        "3. Servicio de Internet: Fibra óptica muestra más evasión que DSL, lo que podría indicar problemas de satisfacción o precio.\n",
        "\n",
        "\n",
        "4. Método de pago: Pagos manuales, especialmente por cheque electrónico, se asocian con mayor cancelación.\n",
        "\n",
        "\n",
        "5. Perfil del Cliente con Mayor Riesgo: Contrato mes a mes + fibra óptica + pago por cheque electrónico + cargos mensuales altos.\n",
        "\n",
        "\n",
        "\n",
        "\n",
        "---\n",
        "\n",
        "5. Recomendaciones Estratégicas\n",
        "\n",
        "Fidelizar clientes con contratos mes a mes: ofrecer descuentos o beneficios para migrar a contratos más largos.\n",
        "\n",
        "Revisar precios y paquetes de fibra óptica para reducir evasión en ese segmento.\n",
        "\n",
        "Incentivar pagos automáticos con beneficios, reduciendo la fricción de pago.\n",
        "\n",
        "Analizar casos de altos cargos mensuales para ajustar precios o personalizar ofertas.\n",
        "\n",
        "\n",
        "\n",
        "---\n",
        "\n",
        "📊 En resumen:\n",
        "Este análisis muestra claramente que la evasión no es aleatoria, sino que está influenciada por factores específicos. Comprenderlos permite diseñar estrategias focalizadas para reducir la pérdida de clientes y aumentar la retención.\n",
        "\n",
        "\n",
        "---\n",
        "\n"
      ],
      "metadata": {
        "id": "CSizwZDxDgIy"
      }
    },
    {
      "cell_type": "code",
      "source": [],
      "metadata": {
        "id": "tk_niAUz6s9M"
      },
      "execution_count": 196,
      "outputs": []
    },
    {
      "cell_type": "code",
      "source": [],
      "metadata": {
        "id": "1zpHexwI6tkQ"
      },
      "execution_count": 196,
      "outputs": []
    },
    {
      "cell_type": "code",
      "source": [],
      "metadata": {
        "id": "MF2HZBAv6t5T"
      },
      "execution_count": 196,
      "outputs": []
    }
  ]
}